{
  "cells": [
    {
      "cell_type": "code",
      "execution_count": null,
      "metadata": {
        "id": "jvhA4DXoXYrf"
      },
      "outputs": [],
      "source": [
        "import pandas as pd\n",
        "import numpy as np"
      ]
    },
    {
      "cell_type": "code",
      "execution_count": null,
      "metadata": {
        "id": "a_aTEVHyy40I"
      },
      "outputs": [],
      "source": [
        "import pandas as pd\n",
        "import matplotlib.pyplot as plt\n",
        "import imageio"
      ]
    },
    {
      "cell_type": "code",
      "execution_count": null,
      "metadata": {
        "id": "QAcFmPd-Ne0_",
        "colab": {
          "base_uri": "https://localhost:8080/"
        },
        "outputId": "a918f40c-a13a-49d7-d7a3-58b05bc77577"
      },
      "outputs": [
        {
          "output_type": "stream",
          "name": "stdout",
          "text": [
            "Tensorflow version 2.11.0\n"
          ]
        }
      ],
      "source": [
        "import os\n",
        "import PIL.Image, PIL.ImageFont, PIL.ImageDraw\n",
        "import numpy as np\n",
        "import tensorflow as tf\n",
        "from matplotlib import pyplot as plt\n",
        "\n",
        "import seaborn as sns\n",
        "import cv2\n",
        "import glob\n",
        "\n",
        "print(\"Tensorflow version \" + tf.__version__)"
      ]
    },
    {
      "cell_type": "code",
      "execution_count": null,
      "metadata": {
        "id": "pyNb7EWmYAzX"
      },
      "outputs": [],
      "source": [
        "import warnings\n",
        "import sys\n",
        "from tqdm import tqdm\n",
        "\n",
        "import random\n",
        "from sklearn.model_selection import train_test_split\n",
        "%matplotlib inline\n",
        "\n",
        "from urllib.parse import urlparse\n",
        "from tensorflow.keras.layers import Conv2D, Conv2DTranspose, MaxPool2D, BatchNormalization, Dropout, Activation, Concatenate\n",
        "\n",
        "from tensorflow.keras import backend as K, Input, Model\n",
        "from tensorflow.keras.preprocessing.image import ImageDataGenerator\n",
        "import numpy as np\n",
        "import tensorflow.keras as keras\n",
        "from keras.preprocessing.image import ImageDataGenerator\n",
        "from tensorflow.keras.models import Model\n",
        "\n",
        "from tensorflow.keras.layers import Conv2D, Flatten, Dense, Dropout, MaxPooling2D, BatchNormalization\n",
        "from tensorflow.keras.models import Sequential, load_model\n",
        "from tensorflow.keras.callbacks import EarlyStopping, Callback , ModelCheckpoint\n",
        "from tensorflow.keras.metrics import Accuracy,binary_crossentropy, FalsePositives, FalseNegatives, TruePositives, TrueNegatives\n",
        "from tensorflow.keras.preprocessing.image import ImageDataGenerator\n",
        "\n",
        "#from tensorflow.keras.callbacks import ModelCheckpoint, LearningRateScheduler\n",
        "#from tensorflow.keras.callbacks import EarlyStopping, ReduceLROnPlateau"
      ]
    },
    {
      "cell_type": "code",
      "execution_count": null,
      "metadata": {
        "colab": {
          "base_uri": "https://localhost:8080/"
        },
        "id": "Ewo0fUP-YEtg",
        "outputId": "b00c97f5-2b04-4064-ce86-4b1b8b6a8697"
      },
      "outputs": [
        {
          "output_type": "stream",
          "name": "stdout",
          "text": [
            "Mounted at /content/drive/\n"
          ]
        }
      ],
      "source": [
        "from google.colab import drive\n",
        "drive.mount('/content/drive/')"
      ]
    },
    {
      "cell_type": "code",
      "execution_count": null,
      "metadata": {
        "id": "4mhZnQwFztoS"
      },
      "outputs": [],
      "source": [
        "csv_path = \"/content/drive/MyDrive/Genetic_Algorithm_CNN_Project/Folds.csv\"\n",
        "dir= \"/content/drive/MyDrive/Genetic_Algorithm_CNN_Project/BreaKHis_v1/\""
      ]
    },
    {
      "cell_type": "code",
      "source": [
        "def dataset(csv_path, classes, dir_path):\n",
        "  df = pd.read_csv(csv_path)\n",
        "\n",
        "  df[\"label\"] = df['filename'].apply(lambda x: x.split(\"/\")[3])\n",
        "  df['class'] = df['label'].apply(lambda x: 0 if x =='benign' else 1)\n",
        "\n",
        "  train_df = df[df['grp'] == 'train']\n",
        "  test_df = df[df['grp'] == 'test']\n",
        "\n",
        "  train_df = train_df.sample(frac = 1).reset_index()\n",
        "  test_df = test_df.sample(frac = 1).reset_index()\n",
        "\n",
        "  train_df['filename'] = train_df['filename'].apply(lambda x: os.path.join(dir_path, x))\n",
        "  test_df['filename'] = train_df['filename'].apply(lambda x: os.path.join(dir_path, x))\n",
        "\n",
        "  return train_df, test_df"
      ],
      "metadata": {
        "id": "23XXWWG1Urd2"
      },
      "execution_count": null,
      "outputs": []
    },
    {
      "cell_type": "code",
      "source": [
        "classes = [\"benign\",\"malign\"]\n",
        "train_df, test_df = dataset(csv_path, classes, dir)"
      ],
      "metadata": {
        "id": "TtUCDDbpWuqM"
      },
      "execution_count": null,
      "outputs": []
    },
    {
      "cell_type": "code",
      "source": [],
      "metadata": {
        "id": "vQdkLPfDTvbM"
      },
      "execution_count": null,
      "outputs": []
    },
    {
      "cell_type": "code",
      "source": [
        "train_df = train_df.iloc[:150, :]"
      ],
      "metadata": {
        "id": "W2EN2-iKXBnR"
      },
      "execution_count": null,
      "outputs": []
    },
    {
      "cell_type": "code",
      "source": [
        "test_df = test_df.iloc[:30, :]"
      ],
      "metadata": {
        "id": "LJHlwWOgT2FQ"
      },
      "execution_count": null,
      "outputs": []
    },
    {
      "cell_type": "markdown",
      "source": [
        "## Data Generator"
      ],
      "metadata": {
        "id": "fCegN-H9XD1d"
      }
    },
    {
      "cell_type": "code",
      "source": [
        "class CustomImageGenerator(keras.utils.Sequence):\n",
        "    def __init__(self, image_paths, targets, batch_size, image_size):\n",
        "        self.image_paths = image_paths\n",
        "        self.targets = targets\n",
        "        self.batch_size = batch_size\n",
        "        self.image_size = image_size\n",
        "        self.num_classes = len(np.unique(targets))\n",
        "        self.indexes = np.arange(len(self.image_paths))\n",
        "        self.on_epoch_end()\n",
        "    \n",
        "    def __len__(self):\n",
        "        return int(np.ceil(len(self.image_paths) / float(self.batch_size)))\n",
        "    \n",
        "    def __getitem__(self, index):\n",
        "        batch_indexes = self.indexes[index*self.batch_size:(index+1)*self.batch_size]\n",
        "        batch_image_paths = [self.image_paths[i] for i in batch_indexes]\n",
        "        batch_targets = [self.targets[i] for i in batch_indexes]\n",
        "        batch_images = np.zeros((len(batch_image_paths), *self.image_size, 3))\n",
        "        for i, path in enumerate(batch_image_paths):\n",
        "            img = keras.preprocessing.image.load_img(path, target_size=self.image_size)\n",
        "            img = keras.preprocessing.image.img_to_array(img)\n",
        "            img /= 255.0\n",
        "            batch_images[i] = img\n",
        "        batch_targets =  keras.utils.to_categorical(batch_targets, num_classes=self.num_classes)\n",
        "        return batch_images, batch_targets[:,0]\n",
        "    \n",
        "    def on_epoch_end(self):\n",
        "        np.random.shuffle(self.indexes)\n"
      ],
      "metadata": {
        "id": "OF40v7ZoWp_4"
      },
      "execution_count": null,
      "outputs": []
    },
    {
      "cell_type": "code",
      "source": [
        "traingen = CustomImageGenerator(train_df['filename'].values, train_df['class'].values, batch_size=32, image_size= (256,256))\n",
        "valgen = CustomImageGenerator(test_df['filename'].values, test_df['class'].values, batch_size=32, image_size= (256,256))"
      ],
      "metadata": {
        "id": "1syTFWG1XrgX"
      },
      "execution_count": null,
      "outputs": []
    },
    {
      "cell_type": "code",
      "source": [
        "X, y = next(iter(traingen))"
      ],
      "metadata": {
        "id": "FMrtI6DVX7vg"
      },
      "execution_count": null,
      "outputs": []
    },
    {
      "cell_type": "code",
      "source": [
        "X.shape"
      ],
      "metadata": {
        "colab": {
          "base_uri": "https://localhost:8080/"
        },
        "id": "vSVUpxomYQhJ",
        "outputId": "d03cfd10-722c-406c-a353-b9b56af2247c"
      },
      "execution_count": null,
      "outputs": [
        {
          "output_type": "execute_result",
          "data": {
            "text/plain": [
              "(32, 256, 256, 3)"
            ]
          },
          "metadata": {},
          "execution_count": 14
        }
      ]
    },
    {
      "cell_type": "code",
      "source": [
        "y.shape"
      ],
      "metadata": {
        "colab": {
          "base_uri": "https://localhost:8080/"
        },
        "id": "-6ooTQpFYVoU",
        "outputId": "d30a6437-2496-4c99-f14c-b3a042d0095f"
      },
      "execution_count": null,
      "outputs": [
        {
          "output_type": "execute_result",
          "data": {
            "text/plain": [
              "(32,)"
            ]
          },
          "metadata": {},
          "execution_count": 15
        }
      ]
    },
    {
      "cell_type": "code",
      "source": [
        "y"
      ],
      "metadata": {
        "colab": {
          "base_uri": "https://localhost:8080/"
        },
        "id": "Te98RN1Lq8YL",
        "outputId": "ea9ce506-68f4-455d-f7da-d7e1b9bda533"
      },
      "execution_count": null,
      "outputs": [
        {
          "output_type": "execute_result",
          "data": {
            "text/plain": [
              "array([0., 0., 0., 0., 1., 0., 0., 1., 0., 0., 1., 0., 0., 0., 0., 0., 1.,\n",
              "       0., 0., 0., 0., 0., 0., 1., 0., 0., 0., 1., 0., 0., 0., 0.],\n",
              "      dtype=float32)"
            ]
          },
          "metadata": {},
          "execution_count": 16
        }
      ]
    },
    {
      "cell_type": "code",
      "source": [
        "X_val, y_val = next(iter(valgen))"
      ],
      "metadata": {
        "id": "yU9y71OCYRCA"
      },
      "execution_count": null,
      "outputs": []
    },
    {
      "cell_type": "code",
      "source": [
        "X_val.shape"
      ],
      "metadata": {
        "colab": {
          "base_uri": "https://localhost:8080/"
        },
        "id": "WtUO86ZOYbEX",
        "outputId": "c761f23c-03dd-43f4-cb3a-c0bf8fd25115"
      },
      "execution_count": null,
      "outputs": [
        {
          "output_type": "execute_result",
          "data": {
            "text/plain": [
              "(32, 256, 256, 3)"
            ]
          },
          "metadata": {},
          "execution_count": 18
        }
      ]
    },
    {
      "cell_type": "code",
      "source": [
        "y_val.shape"
      ],
      "metadata": {
        "colab": {
          "base_uri": "https://localhost:8080/"
        },
        "id": "zh5v8wfLYfkX",
        "outputId": "2db8b727-c369-4e62-8ba1-a575f7806df7"
      },
      "execution_count": null,
      "outputs": [
        {
          "output_type": "execute_result",
          "data": {
            "text/plain": [
              "(32,)"
            ]
          },
          "metadata": {},
          "execution_count": 19
        }
      ]
    },
    {
      "cell_type": "code",
      "source": [
        "y_val"
      ],
      "metadata": {
        "colab": {
          "base_uri": "https://localhost:8080/"
        },
        "id": "4JJllN5crAwa",
        "outputId": "ec3c99ee-151f-46ae-b0af-939ec8fecf4c"
      },
      "execution_count": null,
      "outputs": [
        {
          "output_type": "execute_result",
          "data": {
            "text/plain": [
              "array([0., 1., 0., 0., 0., 1., 0., 0., 0., 0., 1., 0., 0., 0., 0., 0., 0.,\n",
              "       0., 1., 1., 0., 0., 0., 0., 0., 0., 0., 0., 1., 0., 0., 0.],\n",
              "      dtype=float32)"
            ]
          },
          "metadata": {},
          "execution_count": 20
        }
      ]
    },
    {
      "cell_type": "code",
      "source": [],
      "metadata": {
        "id": "g3hfCuz-rCW6"
      },
      "execution_count": null,
      "outputs": []
    },
    {
      "cell_type": "markdown",
      "source": [
        "# Simple CNN Network"
      ],
      "metadata": {
        "id": "ThTudO-gW71-"
      }
    },
    {
      "cell_type": "code",
      "source": [
        "# input_layer = tf.keras.Input(shape=(256,256, 3))\n",
        "\n",
        "# x = Conv2D(64, (2,2), activation='relu')(input_layer)\n",
        "# x = MaxPooling2D((2,2))(x)\n",
        "# x = Conv2D(32, (2,2), activation='relu')(x)\n",
        "# x = MaxPooling2D((2,2))(x)\n",
        "# x = Flatten()(x)\n",
        "# x = Dense(128, activation='relu')(x)\n",
        "# x = Dropout(0.4)(x)\n",
        "\n",
        "# output_layer = Dense(1, activation='sigmoid')(x)\n",
        "\n",
        "# fuc_model = Model(inputs=input_layer, outputs=output_layer)"
      ],
      "metadata": {
        "id": "aM7qVK3RIE17"
      },
      "execution_count": null,
      "outputs": []
    },
    {
      "cell_type": "code",
      "source": [
        "# fuc_model.summary()"
      ],
      "metadata": {
        "colab": {
          "base_uri": "https://localhost:8080/"
        },
        "id": "ifASwA90J2sc",
        "outputId": "bc5430f4-454e-48c7-9272-f7d6e021b338"
      },
      "execution_count": null,
      "outputs": [
        {
          "output_type": "stream",
          "name": "stdout",
          "text": [
            "Model: \"model_1\"\n",
            "_________________________________________________________________\n",
            " Layer (type)                Output Shape              Param #   \n",
            "=================================================================\n",
            " input_2 (InputLayer)        [(None, 256, 256, 3)]     0         \n",
            "                                                                 \n",
            " conv2d_2 (Conv2D)           (None, 255, 255, 64)      832       \n",
            "                                                                 \n",
            " max_pooling2d_2 (MaxPooling  (None, 127, 127, 64)     0         \n",
            " 2D)                                                             \n",
            "                                                                 \n",
            " conv2d_3 (Conv2D)           (None, 126, 126, 32)      8224      \n",
            "                                                                 \n",
            " max_pooling2d_3 (MaxPooling  (None, 63, 63, 32)       0         \n",
            " 2D)                                                             \n",
            "                                                                 \n",
            " flatten_1 (Flatten)         (None, 127008)            0         \n",
            "                                                                 \n",
            " dense_2 (Dense)             (None, 128)               16257152  \n",
            "                                                                 \n",
            " dropout_1 (Dropout)         (None, 128)               0         \n",
            "                                                                 \n",
            " dense_3 (Dense)             (None, 1)                 129       \n",
            "                                                                 \n",
            "=================================================================\n",
            "Total params: 16,266,337\n",
            "Trainable params: 16,266,337\n",
            "Non-trainable params: 0\n",
            "_________________________________________________________________\n"
          ]
        }
      ]
    },
    {
      "cell_type": "code",
      "source": [
        "# fuc_model.compile(loss='binary_crossentropy', optimizer = 'adam', metrics = ['accuracy'])"
      ],
      "metadata": {
        "id": "PkOjMA3FJ6fM"
      },
      "execution_count": null,
      "outputs": []
    },
    {
      "cell_type": "code",
      "source": [
        "# history = fuc_model.fit(traingen,\n",
        "#                   batch_size = 32, \n",
        "#                   epochs=30,\n",
        "#                   validation_data = valgen, verbose=1)"
      ],
      "metadata": {
        "colab": {
          "base_uri": "https://localhost:8080/",
          "height": 710
        },
        "id": "NXwtMLZpKqp5",
        "outputId": "11728f6d-42fb-48c8-ed84-9a8499b7dced"
      },
      "execution_count": null,
      "outputs": [
        {
          "output_type": "stream",
          "name": "stdout",
          "text": [
            "Epoch 1/30\n",
            "7/7 [==============================] - 75s 11s/step - loss: 1.1543 - accuracy: 0.5500 - val_loss: 0.7023 - val_accuracy: 0.5800\n",
            "Epoch 2/30\n",
            "7/7 [==============================] - 4s 615ms/step - loss: 0.6043 - accuracy: 0.6850 - val_loss: 0.6721 - val_accuracy: 0.5800\n",
            "Epoch 3/30\n",
            "7/7 [==============================] - 5s 751ms/step - loss: 0.5722 - accuracy: 0.7300 - val_loss: 0.9277 - val_accuracy: 0.6000\n",
            "Epoch 4/30\n",
            "7/7 [==============================] - 4s 653ms/step - loss: 0.7191 - accuracy: 0.6950 - val_loss: 1.1412 - val_accuracy: 0.5800\n",
            "Epoch 5/30\n",
            "7/7 [==============================] - 5s 768ms/step - loss: 0.5771 - accuracy: 0.7350 - val_loss: 0.7017 - val_accuracy: 0.5600\n",
            "Epoch 6/30\n",
            "7/7 [==============================] - 4s 708ms/step - loss: 0.6084 - accuracy: 0.7850 - val_loss: 0.6651 - val_accuracy: 0.5800\n",
            "Epoch 7/30\n",
            "7/7 [==============================] - 4s 605ms/step - loss: 0.5296 - accuracy: 0.8050 - val_loss: 0.8937 - val_accuracy: 0.6200\n",
            "Epoch 8/30\n",
            "7/7 [==============================] - 5s 683ms/step - loss: 0.4853 - accuracy: 0.8150 - val_loss: 0.7260 - val_accuracy: 0.5800\n",
            "Epoch 9/30\n",
            "7/7 [==============================] - 5s 637ms/step - loss: 0.4873 - accuracy: 0.7950 - val_loss: 0.7612 - val_accuracy: 0.6200\n",
            "Epoch 10/30\n",
            "7/7 [==============================] - ETA: 0s - loss: 0.4155 - accuracy: 0.8350"
          ]
        },
        {
          "output_type": "error",
          "ename": "KeyboardInterrupt",
          "evalue": "ignored",
          "traceback": [
            "\u001b[0;31m---------------------------------------------------------------------------\u001b[0m",
            "\u001b[0;31mKeyboardInterrupt\u001b[0m                         Traceback (most recent call last)",
            "\u001b[0;32m<ipython-input-55-85927cf1bdc4>\u001b[0m in \u001b[0;36m<module>\u001b[0;34m\u001b[0m\n\u001b[0;32m----> 1\u001b[0;31m history = fuc_model.fit(traingen,\n\u001b[0m\u001b[1;32m      2\u001b[0m                   \u001b[0mbatch_size\u001b[0m \u001b[0;34m=\u001b[0m \u001b[0;36m32\u001b[0m\u001b[0;34m,\u001b[0m\u001b[0;34m\u001b[0m\u001b[0;34m\u001b[0m\u001b[0m\n\u001b[1;32m      3\u001b[0m                   \u001b[0mepochs\u001b[0m\u001b[0;34m=\u001b[0m\u001b[0;36m30\u001b[0m\u001b[0;34m,\u001b[0m\u001b[0;34m\u001b[0m\u001b[0;34m\u001b[0m\u001b[0m\n\u001b[1;32m      4\u001b[0m                   validation_data = valgen, verbose=1)\n",
            "\u001b[0;32m/usr/local/lib/python3.9/dist-packages/keras/utils/traceback_utils.py\u001b[0m in \u001b[0;36merror_handler\u001b[0;34m(*args, **kwargs)\u001b[0m\n\u001b[1;32m     63\u001b[0m         \u001b[0mfiltered_tb\u001b[0m \u001b[0;34m=\u001b[0m \u001b[0;32mNone\u001b[0m\u001b[0;34m\u001b[0m\u001b[0;34m\u001b[0m\u001b[0m\n\u001b[1;32m     64\u001b[0m         \u001b[0;32mtry\u001b[0m\u001b[0;34m:\u001b[0m\u001b[0;34m\u001b[0m\u001b[0;34m\u001b[0m\u001b[0m\n\u001b[0;32m---> 65\u001b[0;31m             \u001b[0;32mreturn\u001b[0m \u001b[0mfn\u001b[0m\u001b[0;34m(\u001b[0m\u001b[0;34m*\u001b[0m\u001b[0margs\u001b[0m\u001b[0;34m,\u001b[0m \u001b[0;34m**\u001b[0m\u001b[0mkwargs\u001b[0m\u001b[0;34m)\u001b[0m\u001b[0;34m\u001b[0m\u001b[0;34m\u001b[0m\u001b[0m\n\u001b[0m\u001b[1;32m     66\u001b[0m         \u001b[0;32mexcept\u001b[0m \u001b[0mException\u001b[0m \u001b[0;32mas\u001b[0m \u001b[0me\u001b[0m\u001b[0;34m:\u001b[0m\u001b[0;34m\u001b[0m\u001b[0;34m\u001b[0m\u001b[0m\n\u001b[1;32m     67\u001b[0m             \u001b[0mfiltered_tb\u001b[0m \u001b[0;34m=\u001b[0m \u001b[0m_process_traceback_frames\u001b[0m\u001b[0;34m(\u001b[0m\u001b[0me\u001b[0m\u001b[0;34m.\u001b[0m\u001b[0m__traceback__\u001b[0m\u001b[0;34m)\u001b[0m\u001b[0;34m\u001b[0m\u001b[0;34m\u001b[0m\u001b[0m\n",
            "\u001b[0;32m/usr/local/lib/python3.9/dist-packages/keras/engine/training.py\u001b[0m in \u001b[0;36mfit\u001b[0;34m(self, x, y, batch_size, epochs, verbose, callbacks, validation_split, validation_data, shuffle, class_weight, sample_weight, initial_epoch, steps_per_epoch, validation_steps, validation_batch_size, validation_freq, max_queue_size, workers, use_multiprocessing)\u001b[0m\n\u001b[1;32m   1692\u001b[0m                             \u001b[0msteps_per_execution\u001b[0m\u001b[0;34m=\u001b[0m\u001b[0mself\u001b[0m\u001b[0;34m.\u001b[0m\u001b[0m_steps_per_execution\u001b[0m\u001b[0;34m,\u001b[0m\u001b[0;34m\u001b[0m\u001b[0;34m\u001b[0m\u001b[0m\n\u001b[1;32m   1693\u001b[0m                         )\n\u001b[0;32m-> 1694\u001b[0;31m                     val_logs = self.evaluate(\n\u001b[0m\u001b[1;32m   1695\u001b[0m                         \u001b[0mx\u001b[0m\u001b[0;34m=\u001b[0m\u001b[0mval_x\u001b[0m\u001b[0;34m,\u001b[0m\u001b[0;34m\u001b[0m\u001b[0;34m\u001b[0m\u001b[0m\n\u001b[1;32m   1696\u001b[0m                         \u001b[0my\u001b[0m\u001b[0;34m=\u001b[0m\u001b[0mval_y\u001b[0m\u001b[0;34m,\u001b[0m\u001b[0;34m\u001b[0m\u001b[0;34m\u001b[0m\u001b[0m\n",
            "\u001b[0;32m/usr/local/lib/python3.9/dist-packages/keras/utils/traceback_utils.py\u001b[0m in \u001b[0;36merror_handler\u001b[0;34m(*args, **kwargs)\u001b[0m\n\u001b[1;32m     63\u001b[0m         \u001b[0mfiltered_tb\u001b[0m \u001b[0;34m=\u001b[0m \u001b[0;32mNone\u001b[0m\u001b[0;34m\u001b[0m\u001b[0;34m\u001b[0m\u001b[0m\n\u001b[1;32m     64\u001b[0m         \u001b[0;32mtry\u001b[0m\u001b[0;34m:\u001b[0m\u001b[0;34m\u001b[0m\u001b[0;34m\u001b[0m\u001b[0m\n\u001b[0;32m---> 65\u001b[0;31m             \u001b[0;32mreturn\u001b[0m \u001b[0mfn\u001b[0m\u001b[0;34m(\u001b[0m\u001b[0;34m*\u001b[0m\u001b[0margs\u001b[0m\u001b[0;34m,\u001b[0m \u001b[0;34m**\u001b[0m\u001b[0mkwargs\u001b[0m\u001b[0;34m)\u001b[0m\u001b[0;34m\u001b[0m\u001b[0;34m\u001b[0m\u001b[0m\n\u001b[0m\u001b[1;32m     66\u001b[0m         \u001b[0;32mexcept\u001b[0m \u001b[0mException\u001b[0m \u001b[0;32mas\u001b[0m \u001b[0me\u001b[0m\u001b[0;34m:\u001b[0m\u001b[0;34m\u001b[0m\u001b[0;34m\u001b[0m\u001b[0m\n\u001b[1;32m     67\u001b[0m             \u001b[0mfiltered_tb\u001b[0m \u001b[0;34m=\u001b[0m \u001b[0m_process_traceback_frames\u001b[0m\u001b[0;34m(\u001b[0m\u001b[0me\u001b[0m\u001b[0;34m.\u001b[0m\u001b[0m__traceback__\u001b[0m\u001b[0;34m)\u001b[0m\u001b[0;34m\u001b[0m\u001b[0;34m\u001b[0m\u001b[0m\n",
            "\u001b[0;32m/usr/local/lib/python3.9/dist-packages/keras/engine/training.py\u001b[0m in \u001b[0;36mevaluate\u001b[0;34m(self, x, y, batch_size, verbose, sample_weight, steps, callbacks, max_queue_size, workers, use_multiprocessing, return_dict, **kwargs)\u001b[0m\n\u001b[1;32m   2038\u001b[0m                         ):\n\u001b[1;32m   2039\u001b[0m                             \u001b[0mcallbacks\u001b[0m\u001b[0;34m.\u001b[0m\u001b[0mon_test_batch_begin\u001b[0m\u001b[0;34m(\u001b[0m\u001b[0mstep\u001b[0m\u001b[0;34m)\u001b[0m\u001b[0;34m\u001b[0m\u001b[0;34m\u001b[0m\u001b[0m\n\u001b[0;32m-> 2040\u001b[0;31m                             \u001b[0mtmp_logs\u001b[0m \u001b[0;34m=\u001b[0m \u001b[0mself\u001b[0m\u001b[0;34m.\u001b[0m\u001b[0mtest_function\u001b[0m\u001b[0;34m(\u001b[0m\u001b[0miterator\u001b[0m\u001b[0;34m)\u001b[0m\u001b[0;34m\u001b[0m\u001b[0;34m\u001b[0m\u001b[0m\n\u001b[0m\u001b[1;32m   2041\u001b[0m                             \u001b[0;32mif\u001b[0m \u001b[0mdata_handler\u001b[0m\u001b[0;34m.\u001b[0m\u001b[0mshould_sync\u001b[0m\u001b[0;34m:\u001b[0m\u001b[0;34m\u001b[0m\u001b[0;34m\u001b[0m\u001b[0m\n\u001b[1;32m   2042\u001b[0m                                 \u001b[0mcontext\u001b[0m\u001b[0;34m.\u001b[0m\u001b[0masync_wait\u001b[0m\u001b[0;34m(\u001b[0m\u001b[0;34m)\u001b[0m\u001b[0;34m\u001b[0m\u001b[0;34m\u001b[0m\u001b[0m\n",
            "\u001b[0;32m/usr/local/lib/python3.9/dist-packages/tensorflow/python/util/traceback_utils.py\u001b[0m in \u001b[0;36merror_handler\u001b[0;34m(*args, **kwargs)\u001b[0m\n\u001b[1;32m    148\u001b[0m     \u001b[0mfiltered_tb\u001b[0m \u001b[0;34m=\u001b[0m \u001b[0;32mNone\u001b[0m\u001b[0;34m\u001b[0m\u001b[0;34m\u001b[0m\u001b[0m\n\u001b[1;32m    149\u001b[0m     \u001b[0;32mtry\u001b[0m\u001b[0;34m:\u001b[0m\u001b[0;34m\u001b[0m\u001b[0;34m\u001b[0m\u001b[0m\n\u001b[0;32m--> 150\u001b[0;31m       \u001b[0;32mreturn\u001b[0m \u001b[0mfn\u001b[0m\u001b[0;34m(\u001b[0m\u001b[0;34m*\u001b[0m\u001b[0margs\u001b[0m\u001b[0;34m,\u001b[0m \u001b[0;34m**\u001b[0m\u001b[0mkwargs\u001b[0m\u001b[0;34m)\u001b[0m\u001b[0;34m\u001b[0m\u001b[0;34m\u001b[0m\u001b[0m\n\u001b[0m\u001b[1;32m    151\u001b[0m     \u001b[0;32mexcept\u001b[0m \u001b[0mException\u001b[0m \u001b[0;32mas\u001b[0m \u001b[0me\u001b[0m\u001b[0;34m:\u001b[0m\u001b[0;34m\u001b[0m\u001b[0;34m\u001b[0m\u001b[0m\n\u001b[1;32m    152\u001b[0m       \u001b[0mfiltered_tb\u001b[0m \u001b[0;34m=\u001b[0m \u001b[0m_process_traceback_frames\u001b[0m\u001b[0;34m(\u001b[0m\u001b[0me\u001b[0m\u001b[0;34m.\u001b[0m\u001b[0m__traceback__\u001b[0m\u001b[0;34m)\u001b[0m\u001b[0;34m\u001b[0m\u001b[0;34m\u001b[0m\u001b[0m\n",
            "\u001b[0;32m/usr/local/lib/python3.9/dist-packages/tensorflow/python/eager/polymorphic_function/polymorphic_function.py\u001b[0m in \u001b[0;36m__call__\u001b[0;34m(self, *args, **kwds)\u001b[0m\n\u001b[1;32m    878\u001b[0m \u001b[0;34m\u001b[0m\u001b[0m\n\u001b[1;32m    879\u001b[0m       \u001b[0;32mwith\u001b[0m \u001b[0mOptionalXlaContext\u001b[0m\u001b[0;34m(\u001b[0m\u001b[0mself\u001b[0m\u001b[0;34m.\u001b[0m\u001b[0m_jit_compile\u001b[0m\u001b[0;34m)\u001b[0m\u001b[0;34m:\u001b[0m\u001b[0;34m\u001b[0m\u001b[0;34m\u001b[0m\u001b[0m\n\u001b[0;32m--> 880\u001b[0;31m         \u001b[0mresult\u001b[0m \u001b[0;34m=\u001b[0m \u001b[0mself\u001b[0m\u001b[0;34m.\u001b[0m\u001b[0m_call\u001b[0m\u001b[0;34m(\u001b[0m\u001b[0;34m*\u001b[0m\u001b[0margs\u001b[0m\u001b[0;34m,\u001b[0m \u001b[0;34m**\u001b[0m\u001b[0mkwds\u001b[0m\u001b[0;34m)\u001b[0m\u001b[0;34m\u001b[0m\u001b[0;34m\u001b[0m\u001b[0m\n\u001b[0m\u001b[1;32m    881\u001b[0m \u001b[0;34m\u001b[0m\u001b[0m\n\u001b[1;32m    882\u001b[0m       \u001b[0mnew_tracing_count\u001b[0m \u001b[0;34m=\u001b[0m \u001b[0mself\u001b[0m\u001b[0;34m.\u001b[0m\u001b[0mexperimental_get_tracing_count\u001b[0m\u001b[0;34m(\u001b[0m\u001b[0;34m)\u001b[0m\u001b[0;34m\u001b[0m\u001b[0;34m\u001b[0m\u001b[0m\n",
            "\u001b[0;32m/usr/local/lib/python3.9/dist-packages/tensorflow/python/eager/polymorphic_function/polymorphic_function.py\u001b[0m in \u001b[0;36m_call\u001b[0;34m(self, *args, **kwds)\u001b[0m\n\u001b[1;32m    917\u001b[0m       \u001b[0;31m# In this case we have not created variables on the first call. So we can\u001b[0m\u001b[0;34m\u001b[0m\u001b[0;34m\u001b[0m\u001b[0m\n\u001b[1;32m    918\u001b[0m       \u001b[0;31m# run the first trace but we should fail if variables are created.\u001b[0m\u001b[0;34m\u001b[0m\u001b[0;34m\u001b[0m\u001b[0m\n\u001b[0;32m--> 919\u001b[0;31m       \u001b[0mresults\u001b[0m \u001b[0;34m=\u001b[0m \u001b[0mself\u001b[0m\u001b[0;34m.\u001b[0m\u001b[0m_variable_creation_fn\u001b[0m\u001b[0;34m(\u001b[0m\u001b[0;34m*\u001b[0m\u001b[0margs\u001b[0m\u001b[0;34m,\u001b[0m \u001b[0;34m**\u001b[0m\u001b[0mkwds\u001b[0m\u001b[0;34m)\u001b[0m\u001b[0;34m\u001b[0m\u001b[0;34m\u001b[0m\u001b[0m\n\u001b[0m\u001b[1;32m    920\u001b[0m       \u001b[0;32mif\u001b[0m \u001b[0mself\u001b[0m\u001b[0;34m.\u001b[0m\u001b[0m_created_variables\u001b[0m \u001b[0;32mand\u001b[0m \u001b[0;32mnot\u001b[0m \u001b[0mALLOW_DYNAMIC_VARIABLE_CREATION\u001b[0m\u001b[0;34m:\u001b[0m\u001b[0;34m\u001b[0m\u001b[0;34m\u001b[0m\u001b[0m\n\u001b[1;32m    921\u001b[0m         raise ValueError(\"Creating variables on a non-first call to a function\"\n",
            "\u001b[0;32m/usr/local/lib/python3.9/dist-packages/tensorflow/python/eager/polymorphic_function/tracing_compiler.py\u001b[0m in \u001b[0;36m__call__\u001b[0;34m(self, *args, **kwargs)\u001b[0m\n\u001b[1;32m    132\u001b[0m       (concrete_function,\n\u001b[1;32m    133\u001b[0m        filtered_flat_args) = self._maybe_define_function(args, kwargs)\n\u001b[0;32m--> 134\u001b[0;31m     return concrete_function._call_flat(\n\u001b[0m\u001b[1;32m    135\u001b[0m         filtered_flat_args, captured_inputs=concrete_function.captured_inputs)  # pylint: disable=protected-access\n\u001b[1;32m    136\u001b[0m \u001b[0;34m\u001b[0m\u001b[0m\n",
            "\u001b[0;32m/usr/local/lib/python3.9/dist-packages/tensorflow/python/eager/polymorphic_function/monomorphic_function.py\u001b[0m in \u001b[0;36m_call_flat\u001b[0;34m(self, args, captured_inputs, cancellation_manager)\u001b[0m\n\u001b[1;32m   1743\u001b[0m         and executing_eagerly):\n\u001b[1;32m   1744\u001b[0m       \u001b[0;31m# No tape is watching; skip to running the function.\u001b[0m\u001b[0;34m\u001b[0m\u001b[0;34m\u001b[0m\u001b[0m\n\u001b[0;32m-> 1745\u001b[0;31m       return self._build_call_outputs(self._inference_function.call(\n\u001b[0m\u001b[1;32m   1746\u001b[0m           ctx, args, cancellation_manager=cancellation_manager))\n\u001b[1;32m   1747\u001b[0m     forward_backward = self._select_forward_and_backward_functions(\n",
            "\u001b[0;32m/usr/local/lib/python3.9/dist-packages/tensorflow/python/eager/polymorphic_function/monomorphic_function.py\u001b[0m in \u001b[0;36mcall\u001b[0;34m(self, ctx, args, cancellation_manager)\u001b[0m\n\u001b[1;32m    376\u001b[0m       \u001b[0;32mwith\u001b[0m \u001b[0m_InterpolateFunctionError\u001b[0m\u001b[0;34m(\u001b[0m\u001b[0mself\u001b[0m\u001b[0;34m)\u001b[0m\u001b[0;34m:\u001b[0m\u001b[0;34m\u001b[0m\u001b[0;34m\u001b[0m\u001b[0m\n\u001b[1;32m    377\u001b[0m         \u001b[0;32mif\u001b[0m \u001b[0mcancellation_manager\u001b[0m \u001b[0;32mis\u001b[0m \u001b[0;32mNone\u001b[0m\u001b[0;34m:\u001b[0m\u001b[0;34m\u001b[0m\u001b[0;34m\u001b[0m\u001b[0m\n\u001b[0;32m--> 378\u001b[0;31m           outputs = execute.execute(\n\u001b[0m\u001b[1;32m    379\u001b[0m               \u001b[0mstr\u001b[0m\u001b[0;34m(\u001b[0m\u001b[0mself\u001b[0m\u001b[0;34m.\u001b[0m\u001b[0msignature\u001b[0m\u001b[0;34m.\u001b[0m\u001b[0mname\u001b[0m\u001b[0;34m)\u001b[0m\u001b[0;34m,\u001b[0m\u001b[0;34m\u001b[0m\u001b[0;34m\u001b[0m\u001b[0m\n\u001b[1;32m    380\u001b[0m               \u001b[0mnum_outputs\u001b[0m\u001b[0;34m=\u001b[0m\u001b[0mself\u001b[0m\u001b[0;34m.\u001b[0m\u001b[0m_num_outputs\u001b[0m\u001b[0;34m,\u001b[0m\u001b[0;34m\u001b[0m\u001b[0;34m\u001b[0m\u001b[0m\n",
            "\u001b[0;32m/usr/local/lib/python3.9/dist-packages/tensorflow/python/eager/execute.py\u001b[0m in \u001b[0;36mquick_execute\u001b[0;34m(op_name, num_outputs, inputs, attrs, ctx, name)\u001b[0m\n\u001b[1;32m     50\u001b[0m   \u001b[0;32mtry\u001b[0m\u001b[0;34m:\u001b[0m\u001b[0;34m\u001b[0m\u001b[0;34m\u001b[0m\u001b[0m\n\u001b[1;32m     51\u001b[0m     \u001b[0mctx\u001b[0m\u001b[0;34m.\u001b[0m\u001b[0mensure_initialized\u001b[0m\u001b[0;34m(\u001b[0m\u001b[0;34m)\u001b[0m\u001b[0;34m\u001b[0m\u001b[0;34m\u001b[0m\u001b[0m\n\u001b[0;32m---> 52\u001b[0;31m     tensors = pywrap_tfe.TFE_Py_Execute(ctx._handle, device_name, op_name,\n\u001b[0m\u001b[1;32m     53\u001b[0m                                         inputs, attrs, num_outputs)\n\u001b[1;32m     54\u001b[0m   \u001b[0;32mexcept\u001b[0m \u001b[0mcore\u001b[0m\u001b[0;34m.\u001b[0m\u001b[0m_NotOkStatusException\u001b[0m \u001b[0;32mas\u001b[0m \u001b[0me\u001b[0m\u001b[0;34m:\u001b[0m\u001b[0;34m\u001b[0m\u001b[0;34m\u001b[0m\u001b[0m\n",
            "\u001b[0;31mKeyboardInterrupt\u001b[0m: "
          ]
        }
      ]
    },
    {
      "cell_type": "code",
      "source": [],
      "metadata": {
        "id": "kkrJlrGcX_Qp"
      },
      "execution_count": null,
      "outputs": []
    },
    {
      "cell_type": "code",
      "source": [
        "!apt install --allow-change-held-packages libcudnn8=8.4.1.50-1+cuda11.6"
      ],
      "metadata": {
        "colab": {
          "base_uri": "https://localhost:8080/"
        },
        "id": "y8Nlu8p4c6U2",
        "outputId": "740e48c3-8dd3-4651-a4db-fc966ffc45e4"
      },
      "execution_count": null,
      "outputs": [
        {
          "output_type": "stream",
          "name": "stdout",
          "text": [
            "Reading package lists... Done\n",
            "Building dependency tree       \n",
            "Reading state information... Done\n",
            "The following packages will be REMOVED:\n",
            "  libcudnn8-dev\n",
            "The following held packages will be changed:\n",
            "  libcudnn8\n",
            "The following packages will be DOWNGRADED:\n",
            "  libcudnn8\n",
            "0 upgraded, 0 newly installed, 1 downgraded, 1 to remove and 21 not upgraded.\n",
            "Need to get 420 MB of archives.\n",
            "After this operation, 1,383 MB disk space will be freed.\n",
            "Get:1 https://developer.download.nvidia.com/compute/cuda/repos/ubuntu2004/x86_64  libcudnn8 8.4.1.50-1+cuda11.6 [420 MB]\n",
            "Fetched 420 MB in 6s (71.2 MB/s)\n",
            "(Reading database ... 128285 files and directories currently installed.)\n",
            "Removing libcudnn8-dev (8.7.0.84-1+cuda11.8) ...\n",
            "update-alternatives: removing manually selected alternative - switching libcudnn to auto mode\n",
            "\u001b[1mdpkg:\u001b[0m \u001b[1;33mwarning:\u001b[0m downgrading libcudnn8 from 8.7.0.84-1+cuda11.8 to 8.4.1.50-1+cuda11.6\n",
            "(Reading database ... 128252 files and directories currently installed.)\n",
            "Preparing to unpack .../libcudnn8_8.4.1.50-1+cuda11.6_amd64.deb ...\n",
            "Unpacking libcudnn8 (8.4.1.50-1+cuda11.6) over (8.7.0.84-1+cuda11.8) ...\n",
            "Setting up libcudnn8 (8.4.1.50-1+cuda11.6) ...\n"
          ]
        }
      ]
    },
    {
      "cell_type": "code",
      "source": [
        "import random\n",
        "from keras.layers import Conv2D, MaxPooling2D, Flatten, Dense, Dropout\n",
        "from keras.models import Sequential\n",
        "from keras.optimizers import Adam, RMSprop, SGD"
      ],
      "metadata": {
        "id": "VVYCkgtmHea8"
      },
      "execution_count": null,
      "outputs": []
    },
    {
      "cell_type": "markdown",
      "source": [
        "# Correct Code of Genetic Algorithm"
      ],
      "metadata": {
        "id": "8rO6HBl5aKvS"
      }
    },
    {
      "cell_type": "code",
      "source": [
        "import random\n",
        "\n",
        "# Define the parameter values for the CNN model\n",
        "parameter_values = {\n",
        "    'dropout': [0, 0.25, 0.5],\n",
        "    'optimizer': ['Adam', 'RMSprop', 'SGD'],\n",
        "    'batch_size': [16, 32, 64],\n",
        "    'epochs': [2, 3, 5],\n",
        "    'activation': ['relu', 'sigmoid', 'tanh']\n",
        "}\n",
        "\n",
        "# Define the size of the population and the number of generations\n",
        "POPULATION_SIZE = 10\n",
        "NUM_GENERATIONS = 5\n",
        "\n",
        "# Define the fitness function for evaluating each individual in the population\n",
        "def evaluate_fitness(individual):\n",
        "    # Define the CNN model using the parameters in the individual\n",
        "    fitness_scores = []\n",
        "    model = keras.Sequential([\n",
        "        keras.layers.Conv2D(filters=128, kernel_size=3, activation=individual['activation'], padding = 'same', input_shape=(256, 256, 3)),\n",
        "        keras.layers.MaxPooling2D(pool_size=(2, 2)),\n",
        "        keras.layers.Conv2D(filters=64, kernel_size=3, padding = 'same', activation=individual['activation']),\n",
        "        keras.layers.MaxPooling2D(pool_size=(2, 2)),\n",
        "        keras.layers.Dropout(individual['dropout']),\n",
        "        keras.layers.Conv2D(filters=32, kernel_size=3, padding = 'same', activation=individual['activation']),\n",
        "        keras.layers.MaxPooling2D(pool_size=(2, 2)),\n",
        "        keras.layers.Dropout(individual['dropout']),\n",
        "        keras.layers.Flatten(),\n",
        "        keras.layers.Dense(128, activation=individual['activation']),\n",
        "        keras.layers.Dense(64, activation=individual['activation']),\n",
        "        keras.layers.Dense(1, activation='sigmoid')\n",
        "    ])\n",
        "\n",
        "    model.compile(optimizer=individual['optimizer'], loss='binary_crossentropy', metrics=['accuracy'])\n",
        "    \n",
        "    # epochs_str = individual['epochs']\n",
        "    # epochs_int = int(epochs_str)\n",
        "    # individual['epochs'] = epochs_int\n",
        "    # Define the early stopping callback\n",
        "    # early_stop_callback = tf.keras.callbacks.EarlyStopping(monitor='val_accuracy', patience=3, mode='max', verbose=1)\n",
        "\n",
        "    history = model.fit(traingen, batch_size=individual['batch_size'], epochs=individual['epochs'], validation_data=(valgen))\n",
        "    fitness_scores.append(history.history['val_accuracy'][-1])\n",
        "    # fitness_score = random.uniform(0, 1)  # This is just a placeholder for demonstration purposes\n",
        "    return fitness_scores\n",
        "\n",
        "# Define the selection function for selecting parents from the population\n",
        "def select_parents(population):\n",
        "    # Here you could use any selection method you like, such as tournament selection, roulette wheel selection, etc.\n",
        "    # For simplicity, let's just select two random individuals from the population\n",
        "    parent1, parent2 = random.sample(population, 2)\n",
        "    return [parent1, parent2]\n",
        "\n",
        "# Define the crossover function for combining the genes of two parents to create a child\n",
        "def crossover(parent1, parent2):\n",
        "    # Here you could use any crossover method you like, such as single-point crossover, uniform crossover, etc.\n",
        "    # For simplicity, let's just randomly select genes from the two parents to create a new individual\n",
        "    child = {}\n",
        "    for param in parameter_values:\n",
        "        if isinstance(parameter_values[param], list):\n",
        "            child[param] = random.choice([parent1[param], parent2[param]])\n",
        "        else:\n",
        "            child[param] = parent1[param] if random.random() < 0.5 else parent2[param]\n",
        "    return child\n",
        "\n",
        "# Define the mutation function for introducing random changes in an individual's genes\n",
        "def mutate(params):\n",
        "    # Here you could use any mutation method you like, such as random resetting, Gaussian mutation, etc.\n",
        "    # For simplicity, let's just randomly choose a gene and replace its value with a random value from the parameter values\n",
        "    # param_to_mutate = random.choice(list(parameter_values.keys()))\n",
        "    individual = {}\n",
        "    # if isinstance(parameter_values[params], list):\n",
        "    #   individual[params] = random.choice(parameter_values[params])\n",
        "\n",
        "    if isinstance(parameter_values[params], list):\n",
        "        individual = {params: random.choice(parameter_values[params])}\n",
        "    else:\n",
        "        individual = {params: parameter_values[params][random.randint(0, len(parameter_values[params])-1)]}\n",
        "    \n",
        "    return individual[params]\n",
        "\n",
        "# # Generate an initial population of individuals with random parameter values\n",
        "# population = []\n",
        "# for i in range(POPULATION_SIZE):\n",
        "#     individual = {}\n",
        "#     for param in parameter_values:\n",
        "#         if isinstance(parameter_values[param], list):\n",
        "#             individual[param] = random.choice(parameter_values[param])\n",
        "#         else:\n",
        "#             individual[param] = parameter_values[param][random.randint(0, len(parameter_values[param])-1)]\n",
        "#     population.append(individual)\n",
        "\n",
        "# # Evolve the population for the specified number of generations\n",
        "# for generation in range(NUM_GENERATIONS):\n",
        "#     print(f\"Generation {generation + 1}\")\n",
        "#     # Evaluate the fitness of each individual in the population\n",
        "#     fitness_scores = [evaluate_fitness(individual) for individual in population]\n",
        "\n",
        "    # Select parents and create a new population through\n"
      ],
      "metadata": {
        "id": "rA6J7WC7CeuC"
      },
      "execution_count": null,
      "outputs": []
    },
    {
      "cell_type": "code",
      "source": [
        "population = []\n",
        "POPULATION_SIZE = 10\n",
        "for i in range(POPULATION_SIZE):\n",
        "    individual = {}\n",
        "    for param in parameter_values:\n",
        "        if isinstance(parameter_values[param], list):\n",
        "            individual[param] = random.choice(parameter_values[param])\n",
        "        else:\n",
        "            individual[param] = parameter_values[param][random.randint(0, len(parameter_values[param])-1)]\n",
        "    population.append(individual)\n",
        "child = {}\n",
        "offspring = []\n",
        "for param in parameter_values:\n",
        "  print(param)\n",
        "  if random.random() < 0.1:\n",
        "    child[param] = mutate(param)\n",
        "    # print(child[param])\n",
        "  # else:\n",
        "    # child[param] = random.choice([parent1[param], parent2[param]])\n",
        "  print(f\"Child: {child}\")\n",
        "  offspring.append(child)"
      ],
      "metadata": {
        "id": "2_yK8iInTBL6",
        "colab": {
          "base_uri": "https://localhost:8080/"
        },
        "outputId": "94b7af00-3c66-4f31-c079-cd3c8446076e"
      },
      "execution_count": null,
      "outputs": [
        {
          "output_type": "stream",
          "name": "stdout",
          "text": [
            "dropout\n",
            "Child: {}\n",
            "optimizer\n",
            "Child: {}\n",
            "batch_size\n",
            "Child: {}\n",
            "epochs\n",
            "Child: {}\n",
            "activation\n",
            "Child: {}\n"
          ]
        }
      ]
    },
    {
      "cell_type": "code",
      "source": [
        "random.random()"
      ],
      "metadata": {
        "colab": {
          "base_uri": "https://localhost:8080/"
        },
        "id": "w9elfZy0nexu",
        "outputId": "d3dd8e35-5b2c-45ef-a792-88881c12b870"
      },
      "execution_count": null,
      "outputs": [
        {
          "output_type": "execute_result",
          "data": {
            "text/plain": [
              "0.04743757764301415"
            ]
          },
          "metadata": {},
          "execution_count": 17
        }
      ]
    },
    {
      "cell_type": "code",
      "source": [
        "population = []\n",
        "POPULATION_SIZE = 10\n",
        "for i in range(POPULATION_SIZE):\n",
        "    individual = {}\n",
        "    for param in parameter_values:\n",
        "        if isinstance(parameter_values[param], list):\n",
        "            individual[param] = random.choice(parameter_values[param])\n",
        "        else:\n",
        "            individual[param] = parameter_values[param][random.randint(0, len(parameter_values[param])-1)]\n",
        "    population.append(individual)\n",
        "NUM_GENERATIONS = 5\n",
        "for generation in range(NUM_GENERATIONS):\n",
        "    print(f\"Generation {generation + 1}\")\n",
        "    # Evaluate the fitness of each individual in the population\n",
        "    # fitness_scores = [evaluate_fitness(individual) for individual in population]\n",
        "\n",
        "    parents = select_parents(population)\n",
        "    # print(parents)\n",
        "    # print(len(parents))\n",
        "    # fitness_scores = [0.3, 0.4, 0.7, 0.1, 0.6, 0.8, 0.5, 0.3]\n",
        "    offspring = []\n",
        "    for i in range(6):\n",
        "      parent1, parent2 = random.sample(parents, 2)\n",
        "      # print(f\"Parent1: {parent1}\")\n",
        "      # print(f\"Parent2: {parent2}\")\n",
        "      child = {}\n",
        "      for param in parameter_values:\n",
        "        if random.random() < 0.1:\n",
        "          child[param] = mutate(param)\n",
        "        else:\n",
        "          child[param] = random.choice([parent1[param], parent2[param]])\n",
        "        # print(f\"Child: {child}\")\n",
        "        offspring.append(child)\n",
        "      \n",
        "      # print(f'Offspring: {offspring}')\n",
        "      # print(len(offspring))\n",
        "      new_population = parents + offspring\n",
        "      # if new_population['epochs'] == {}:\n",
        "      #   # new_population['epochs'] = new_population['epochs']\n",
        "      #   print(new_population['epochs']['epochs'])\n",
        "      print(f'new_population: {new_population}')\n",
        "      print(len(new_population))\n",
        "      old_population = population\n",
        "      # population = select_population(new_population, fitness_scores, 10) \n",
        "      # best_fitness = max(fitness_scores, key=lambda x: x[1])[1]\n",
        "\n",
        "      # print(f\"Generation {g}: Best validation accuracy = {best_fitness}\")\n",
        "                \n",
        "      # # Save the best hyperparameters and their corresponding validation accuracy to the file\n",
        "      # best_parameters = max(fitness_scores, key=lambda x: x[1])[0]\n",
        "      # writer.writerow({'Generation': g, \n",
        "      #               'Epochs': best_parameters['epochs'], \n",
        "      #               'Batch Size': best_parameters['batch_size'], \n",
        "      #               'Optimizer': best_parameters['optimizer'], \n",
        "      #               'Accuracy': best_fitness\n",
        "      #           })\n",
        "      # if best_fitness > 0.97:\n",
        "      #   break"
      ],
      "metadata": {
        "colab": {
          "base_uri": "https://localhost:8080/"
        },
        "id": "EWs9sr_1Drr1",
        "outputId": "2127e86d-f03b-451e-bbf7-01d1ea014f62"
      },
      "execution_count": null,
      "outputs": [
        {
          "output_type": "stream",
          "name": "stdout",
          "text": [
            "Generation 1\n",
            "new_population: [{'dropout': 0, 'optimizer': 'SGD', 'batch_size': 16, 'epochs': 3, 'activation': 'sigmoid'}, {'dropout': 0, 'optimizer': 'RMSprop', 'batch_size': 16, 'epochs': 2, 'activation': 'relu'}, {'dropout': 0, 'optimizer': 'RMSprop', 'batch_size': 16, 'epochs': 2, 'activation': 'sigmoid'}, {'dropout': 0, 'optimizer': 'RMSprop', 'batch_size': 16, 'epochs': 2, 'activation': 'sigmoid'}, {'dropout': 0, 'optimizer': 'RMSprop', 'batch_size': 16, 'epochs': 2, 'activation': 'sigmoid'}, {'dropout': 0, 'optimizer': 'RMSprop', 'batch_size': 16, 'epochs': 2, 'activation': 'sigmoid'}, {'dropout': 0, 'optimizer': 'RMSprop', 'batch_size': 16, 'epochs': 2, 'activation': 'sigmoid'}]\n",
            "7\n",
            "new_population: [{'dropout': 0, 'optimizer': 'SGD', 'batch_size': 16, 'epochs': 3, 'activation': 'sigmoid'}, {'dropout': 0, 'optimizer': 'RMSprop', 'batch_size': 16, 'epochs': 2, 'activation': 'relu'}, {'dropout': 0, 'optimizer': 'RMSprop', 'batch_size': 16, 'epochs': 2, 'activation': 'sigmoid'}, {'dropout': 0, 'optimizer': 'RMSprop', 'batch_size': 16, 'epochs': 2, 'activation': 'sigmoid'}, {'dropout': 0, 'optimizer': 'RMSprop', 'batch_size': 16, 'epochs': 2, 'activation': 'sigmoid'}, {'dropout': 0, 'optimizer': 'RMSprop', 'batch_size': 16, 'epochs': 2, 'activation': 'sigmoid'}, {'dropout': 0, 'optimizer': 'RMSprop', 'batch_size': 16, 'epochs': 2, 'activation': 'sigmoid'}, {'dropout': 0, 'optimizer': 'RMSprop', 'batch_size': 16, 'epochs': 3, 'activation': 'sigmoid'}, {'dropout': 0, 'optimizer': 'RMSprop', 'batch_size': 16, 'epochs': 3, 'activation': 'sigmoid'}, {'dropout': 0, 'optimizer': 'RMSprop', 'batch_size': 16, 'epochs': 3, 'activation': 'sigmoid'}, {'dropout': 0, 'optimizer': 'RMSprop', 'batch_size': 16, 'epochs': 3, 'activation': 'sigmoid'}, {'dropout': 0, 'optimizer': 'RMSprop', 'batch_size': 16, 'epochs': 3, 'activation': 'sigmoid'}]\n",
            "12\n",
            "new_population: [{'dropout': 0, 'optimizer': 'SGD', 'batch_size': 16, 'epochs': 3, 'activation': 'sigmoid'}, {'dropout': 0, 'optimizer': 'RMSprop', 'batch_size': 16, 'epochs': 2, 'activation': 'relu'}, {'dropout': 0, 'optimizer': 'RMSprop', 'batch_size': 16, 'epochs': 2, 'activation': 'sigmoid'}, {'dropout': 0, 'optimizer': 'RMSprop', 'batch_size': 16, 'epochs': 2, 'activation': 'sigmoid'}, {'dropout': 0, 'optimizer': 'RMSprop', 'batch_size': 16, 'epochs': 2, 'activation': 'sigmoid'}, {'dropout': 0, 'optimizer': 'RMSprop', 'batch_size': 16, 'epochs': 2, 'activation': 'sigmoid'}, {'dropout': 0, 'optimizer': 'RMSprop', 'batch_size': 16, 'epochs': 2, 'activation': 'sigmoid'}, {'dropout': 0, 'optimizer': 'RMSprop', 'batch_size': 16, 'epochs': 3, 'activation': 'sigmoid'}, {'dropout': 0, 'optimizer': 'RMSprop', 'batch_size': 16, 'epochs': 3, 'activation': 'sigmoid'}, {'dropout': 0, 'optimizer': 'RMSprop', 'batch_size': 16, 'epochs': 3, 'activation': 'sigmoid'}, {'dropout': 0, 'optimizer': 'RMSprop', 'batch_size': 16, 'epochs': 3, 'activation': 'sigmoid'}, {'dropout': 0, 'optimizer': 'RMSprop', 'batch_size': 16, 'epochs': 3, 'activation': 'sigmoid'}, {'dropout': 0, 'optimizer': 'RMSprop', 'batch_size': 16, 'epochs': 2, 'activation': 'relu'}, {'dropout': 0, 'optimizer': 'RMSprop', 'batch_size': 16, 'epochs': 2, 'activation': 'relu'}, {'dropout': 0, 'optimizer': 'RMSprop', 'batch_size': 16, 'epochs': 2, 'activation': 'relu'}, {'dropout': 0, 'optimizer': 'RMSprop', 'batch_size': 16, 'epochs': 2, 'activation': 'relu'}, {'dropout': 0, 'optimizer': 'RMSprop', 'batch_size': 16, 'epochs': 2, 'activation': 'relu'}]\n",
            "17\n",
            "new_population: [{'dropout': 0, 'optimizer': 'SGD', 'batch_size': 16, 'epochs': 3, 'activation': 'sigmoid'}, {'dropout': 0, 'optimizer': 'RMSprop', 'batch_size': 16, 'epochs': 2, 'activation': 'relu'}, {'dropout': 0, 'optimizer': 'RMSprop', 'batch_size': 16, 'epochs': 2, 'activation': 'sigmoid'}, {'dropout': 0, 'optimizer': 'RMSprop', 'batch_size': 16, 'epochs': 2, 'activation': 'sigmoid'}, {'dropout': 0, 'optimizer': 'RMSprop', 'batch_size': 16, 'epochs': 2, 'activation': 'sigmoid'}, {'dropout': 0, 'optimizer': 'RMSprop', 'batch_size': 16, 'epochs': 2, 'activation': 'sigmoid'}, {'dropout': 0, 'optimizer': 'RMSprop', 'batch_size': 16, 'epochs': 2, 'activation': 'sigmoid'}, {'dropout': 0, 'optimizer': 'RMSprop', 'batch_size': 16, 'epochs': 3, 'activation': 'sigmoid'}, {'dropout': 0, 'optimizer': 'RMSprop', 'batch_size': 16, 'epochs': 3, 'activation': 'sigmoid'}, {'dropout': 0, 'optimizer': 'RMSprop', 'batch_size': 16, 'epochs': 3, 'activation': 'sigmoid'}, {'dropout': 0, 'optimizer': 'RMSprop', 'batch_size': 16, 'epochs': 3, 'activation': 'sigmoid'}, {'dropout': 0, 'optimizer': 'RMSprop', 'batch_size': 16, 'epochs': 3, 'activation': 'sigmoid'}, {'dropout': 0, 'optimizer': 'RMSprop', 'batch_size': 16, 'epochs': 2, 'activation': 'relu'}, {'dropout': 0, 'optimizer': 'RMSprop', 'batch_size': 16, 'epochs': 2, 'activation': 'relu'}, {'dropout': 0, 'optimizer': 'RMSprop', 'batch_size': 16, 'epochs': 2, 'activation': 'relu'}, {'dropout': 0, 'optimizer': 'RMSprop', 'batch_size': 16, 'epochs': 2, 'activation': 'relu'}, {'dropout': 0, 'optimizer': 'RMSprop', 'batch_size': 16, 'epochs': 2, 'activation': 'relu'}, {'dropout': 0, 'optimizer': 'RMSprop', 'batch_size': 64, 'epochs': 3, 'activation': 'sigmoid'}, {'dropout': 0, 'optimizer': 'RMSprop', 'batch_size': 64, 'epochs': 3, 'activation': 'sigmoid'}, {'dropout': 0, 'optimizer': 'RMSprop', 'batch_size': 64, 'epochs': 3, 'activation': 'sigmoid'}, {'dropout': 0, 'optimizer': 'RMSprop', 'batch_size': 64, 'epochs': 3, 'activation': 'sigmoid'}, {'dropout': 0, 'optimizer': 'RMSprop', 'batch_size': 64, 'epochs': 3, 'activation': 'sigmoid'}]\n",
            "22\n",
            "new_population: [{'dropout': 0, 'optimizer': 'SGD', 'batch_size': 16, 'epochs': 3, 'activation': 'sigmoid'}, {'dropout': 0, 'optimizer': 'RMSprop', 'batch_size': 16, 'epochs': 2, 'activation': 'relu'}, {'dropout': 0, 'optimizer': 'RMSprop', 'batch_size': 16, 'epochs': 2, 'activation': 'sigmoid'}, {'dropout': 0, 'optimizer': 'RMSprop', 'batch_size': 16, 'epochs': 2, 'activation': 'sigmoid'}, {'dropout': 0, 'optimizer': 'RMSprop', 'batch_size': 16, 'epochs': 2, 'activation': 'sigmoid'}, {'dropout': 0, 'optimizer': 'RMSprop', 'batch_size': 16, 'epochs': 2, 'activation': 'sigmoid'}, {'dropout': 0, 'optimizer': 'RMSprop', 'batch_size': 16, 'epochs': 2, 'activation': 'sigmoid'}, {'dropout': 0, 'optimizer': 'RMSprop', 'batch_size': 16, 'epochs': 3, 'activation': 'sigmoid'}, {'dropout': 0, 'optimizer': 'RMSprop', 'batch_size': 16, 'epochs': 3, 'activation': 'sigmoid'}, {'dropout': 0, 'optimizer': 'RMSprop', 'batch_size': 16, 'epochs': 3, 'activation': 'sigmoid'}, {'dropout': 0, 'optimizer': 'RMSprop', 'batch_size': 16, 'epochs': 3, 'activation': 'sigmoid'}, {'dropout': 0, 'optimizer': 'RMSprop', 'batch_size': 16, 'epochs': 3, 'activation': 'sigmoid'}, {'dropout': 0, 'optimizer': 'RMSprop', 'batch_size': 16, 'epochs': 2, 'activation': 'relu'}, {'dropout': 0, 'optimizer': 'RMSprop', 'batch_size': 16, 'epochs': 2, 'activation': 'relu'}, {'dropout': 0, 'optimizer': 'RMSprop', 'batch_size': 16, 'epochs': 2, 'activation': 'relu'}, {'dropout': 0, 'optimizer': 'RMSprop', 'batch_size': 16, 'epochs': 2, 'activation': 'relu'}, {'dropout': 0, 'optimizer': 'RMSprop', 'batch_size': 16, 'epochs': 2, 'activation': 'relu'}, {'dropout': 0, 'optimizer': 'RMSprop', 'batch_size': 64, 'epochs': 3, 'activation': 'sigmoid'}, {'dropout': 0, 'optimizer': 'RMSprop', 'batch_size': 64, 'epochs': 3, 'activation': 'sigmoid'}, {'dropout': 0, 'optimizer': 'RMSprop', 'batch_size': 64, 'epochs': 3, 'activation': 'sigmoid'}, {'dropout': 0, 'optimizer': 'RMSprop', 'batch_size': 64, 'epochs': 3, 'activation': 'sigmoid'}, {'dropout': 0, 'optimizer': 'RMSprop', 'batch_size': 64, 'epochs': 3, 'activation': 'sigmoid'}, {'dropout': 0, 'optimizer': 'RMSprop', 'batch_size': 16, 'epochs': 3, 'activation': 'sigmoid'}, {'dropout': 0, 'optimizer': 'RMSprop', 'batch_size': 16, 'epochs': 3, 'activation': 'sigmoid'}, {'dropout': 0, 'optimizer': 'RMSprop', 'batch_size': 16, 'epochs': 3, 'activation': 'sigmoid'}, {'dropout': 0, 'optimizer': 'RMSprop', 'batch_size': 16, 'epochs': 3, 'activation': 'sigmoid'}, {'dropout': 0, 'optimizer': 'RMSprop', 'batch_size': 16, 'epochs': 3, 'activation': 'sigmoid'}]\n",
            "27\n",
            "new_population: [{'dropout': 0, 'optimizer': 'SGD', 'batch_size': 16, 'epochs': 3, 'activation': 'sigmoid'}, {'dropout': 0, 'optimizer': 'RMSprop', 'batch_size': 16, 'epochs': 2, 'activation': 'relu'}, {'dropout': 0, 'optimizer': 'RMSprop', 'batch_size': 16, 'epochs': 2, 'activation': 'sigmoid'}, {'dropout': 0, 'optimizer': 'RMSprop', 'batch_size': 16, 'epochs': 2, 'activation': 'sigmoid'}, {'dropout': 0, 'optimizer': 'RMSprop', 'batch_size': 16, 'epochs': 2, 'activation': 'sigmoid'}, {'dropout': 0, 'optimizer': 'RMSprop', 'batch_size': 16, 'epochs': 2, 'activation': 'sigmoid'}, {'dropout': 0, 'optimizer': 'RMSprop', 'batch_size': 16, 'epochs': 2, 'activation': 'sigmoid'}, {'dropout': 0, 'optimizer': 'RMSprop', 'batch_size': 16, 'epochs': 3, 'activation': 'sigmoid'}, {'dropout': 0, 'optimizer': 'RMSprop', 'batch_size': 16, 'epochs': 3, 'activation': 'sigmoid'}, {'dropout': 0, 'optimizer': 'RMSprop', 'batch_size': 16, 'epochs': 3, 'activation': 'sigmoid'}, {'dropout': 0, 'optimizer': 'RMSprop', 'batch_size': 16, 'epochs': 3, 'activation': 'sigmoid'}, {'dropout': 0, 'optimizer': 'RMSprop', 'batch_size': 16, 'epochs': 3, 'activation': 'sigmoid'}, {'dropout': 0, 'optimizer': 'RMSprop', 'batch_size': 16, 'epochs': 2, 'activation': 'relu'}, {'dropout': 0, 'optimizer': 'RMSprop', 'batch_size': 16, 'epochs': 2, 'activation': 'relu'}, {'dropout': 0, 'optimizer': 'RMSprop', 'batch_size': 16, 'epochs': 2, 'activation': 'relu'}, {'dropout': 0, 'optimizer': 'RMSprop', 'batch_size': 16, 'epochs': 2, 'activation': 'relu'}, {'dropout': 0, 'optimizer': 'RMSprop', 'batch_size': 16, 'epochs': 2, 'activation': 'relu'}, {'dropout': 0, 'optimizer': 'RMSprop', 'batch_size': 64, 'epochs': 3, 'activation': 'sigmoid'}, {'dropout': 0, 'optimizer': 'RMSprop', 'batch_size': 64, 'epochs': 3, 'activation': 'sigmoid'}, {'dropout': 0, 'optimizer': 'RMSprop', 'batch_size': 64, 'epochs': 3, 'activation': 'sigmoid'}, {'dropout': 0, 'optimizer': 'RMSprop', 'batch_size': 64, 'epochs': 3, 'activation': 'sigmoid'}, {'dropout': 0, 'optimizer': 'RMSprop', 'batch_size': 64, 'epochs': 3, 'activation': 'sigmoid'}, {'dropout': 0, 'optimizer': 'RMSprop', 'batch_size': 16, 'epochs': 3, 'activation': 'sigmoid'}, {'dropout': 0, 'optimizer': 'RMSprop', 'batch_size': 16, 'epochs': 3, 'activation': 'sigmoid'}, {'dropout': 0, 'optimizer': 'RMSprop', 'batch_size': 16, 'epochs': 3, 'activation': 'sigmoid'}, {'dropout': 0, 'optimizer': 'RMSprop', 'batch_size': 16, 'epochs': 3, 'activation': 'sigmoid'}, {'dropout': 0, 'optimizer': 'RMSprop', 'batch_size': 16, 'epochs': 3, 'activation': 'sigmoid'}, {'dropout': 0, 'optimizer': 'Adam', 'batch_size': 16, 'epochs': 2, 'activation': 'relu'}, {'dropout': 0, 'optimizer': 'Adam', 'batch_size': 16, 'epochs': 2, 'activation': 'relu'}, {'dropout': 0, 'optimizer': 'Adam', 'batch_size': 16, 'epochs': 2, 'activation': 'relu'}, {'dropout': 0, 'optimizer': 'Adam', 'batch_size': 16, 'epochs': 2, 'activation': 'relu'}, {'dropout': 0, 'optimizer': 'Adam', 'batch_size': 16, 'epochs': 2, 'activation': 'relu'}]\n",
            "32\n",
            "Generation 2\n",
            "new_population: [{'dropout': 0.5, 'optimizer': 'SGD', 'batch_size': 32, 'epochs': 5, 'activation': 'tanh'}, {'dropout': 0.5, 'optimizer': 'Adam', 'batch_size': 64, 'epochs': 2, 'activation': 'relu'}, {'dropout': 0.5, 'optimizer': 'SGD', 'batch_size': 32, 'epochs': 5, 'activation': 'relu'}, {'dropout': 0.5, 'optimizer': 'SGD', 'batch_size': 32, 'epochs': 5, 'activation': 'relu'}, {'dropout': 0.5, 'optimizer': 'SGD', 'batch_size': 32, 'epochs': 5, 'activation': 'relu'}, {'dropout': 0.5, 'optimizer': 'SGD', 'batch_size': 32, 'epochs': 5, 'activation': 'relu'}, {'dropout': 0.5, 'optimizer': 'SGD', 'batch_size': 32, 'epochs': 5, 'activation': 'relu'}]\n",
            "7\n",
            "new_population: [{'dropout': 0.5, 'optimizer': 'SGD', 'batch_size': 32, 'epochs': 5, 'activation': 'tanh'}, {'dropout': 0.5, 'optimizer': 'Adam', 'batch_size': 64, 'epochs': 2, 'activation': 'relu'}, {'dropout': 0.5, 'optimizer': 'SGD', 'batch_size': 32, 'epochs': 5, 'activation': 'relu'}, {'dropout': 0.5, 'optimizer': 'SGD', 'batch_size': 32, 'epochs': 5, 'activation': 'relu'}, {'dropout': 0.5, 'optimizer': 'SGD', 'batch_size': 32, 'epochs': 5, 'activation': 'relu'}, {'dropout': 0.5, 'optimizer': 'SGD', 'batch_size': 32, 'epochs': 5, 'activation': 'relu'}, {'dropout': 0.5, 'optimizer': 'SGD', 'batch_size': 32, 'epochs': 5, 'activation': 'relu'}, {'dropout': 0.5, 'optimizer': 'SGD', 'batch_size': 32, 'epochs': 5, 'activation': 'relu'}, {'dropout': 0.5, 'optimizer': 'SGD', 'batch_size': 32, 'epochs': 5, 'activation': 'relu'}, {'dropout': 0.5, 'optimizer': 'SGD', 'batch_size': 32, 'epochs': 5, 'activation': 'relu'}, {'dropout': 0.5, 'optimizer': 'SGD', 'batch_size': 32, 'epochs': 5, 'activation': 'relu'}, {'dropout': 0.5, 'optimizer': 'SGD', 'batch_size': 32, 'epochs': 5, 'activation': 'relu'}]\n",
            "12\n",
            "new_population: [{'dropout': 0.5, 'optimizer': 'SGD', 'batch_size': 32, 'epochs': 5, 'activation': 'tanh'}, {'dropout': 0.5, 'optimizer': 'Adam', 'batch_size': 64, 'epochs': 2, 'activation': 'relu'}, {'dropout': 0.5, 'optimizer': 'SGD', 'batch_size': 32, 'epochs': 5, 'activation': 'relu'}, {'dropout': 0.5, 'optimizer': 'SGD', 'batch_size': 32, 'epochs': 5, 'activation': 'relu'}, {'dropout': 0.5, 'optimizer': 'SGD', 'batch_size': 32, 'epochs': 5, 'activation': 'relu'}, {'dropout': 0.5, 'optimizer': 'SGD', 'batch_size': 32, 'epochs': 5, 'activation': 'relu'}, {'dropout': 0.5, 'optimizer': 'SGD', 'batch_size': 32, 'epochs': 5, 'activation': 'relu'}, {'dropout': 0.5, 'optimizer': 'SGD', 'batch_size': 32, 'epochs': 5, 'activation': 'relu'}, {'dropout': 0.5, 'optimizer': 'SGD', 'batch_size': 32, 'epochs': 5, 'activation': 'relu'}, {'dropout': 0.5, 'optimizer': 'SGD', 'batch_size': 32, 'epochs': 5, 'activation': 'relu'}, {'dropout': 0.5, 'optimizer': 'SGD', 'batch_size': 32, 'epochs': 5, 'activation': 'relu'}, {'dropout': 0.5, 'optimizer': 'SGD', 'batch_size': 32, 'epochs': 5, 'activation': 'relu'}, {'dropout': 0.5, 'optimizer': 'Adam', 'batch_size': 32, 'epochs': 2, 'activation': 'tanh'}, {'dropout': 0.5, 'optimizer': 'Adam', 'batch_size': 32, 'epochs': 2, 'activation': 'tanh'}, {'dropout': 0.5, 'optimizer': 'Adam', 'batch_size': 32, 'epochs': 2, 'activation': 'tanh'}, {'dropout': 0.5, 'optimizer': 'Adam', 'batch_size': 32, 'epochs': 2, 'activation': 'tanh'}, {'dropout': 0.5, 'optimizer': 'Adam', 'batch_size': 32, 'epochs': 2, 'activation': 'tanh'}]\n",
            "17\n",
            "new_population: [{'dropout': 0.5, 'optimizer': 'SGD', 'batch_size': 32, 'epochs': 5, 'activation': 'tanh'}, {'dropout': 0.5, 'optimizer': 'Adam', 'batch_size': 64, 'epochs': 2, 'activation': 'relu'}, {'dropout': 0.5, 'optimizer': 'SGD', 'batch_size': 32, 'epochs': 5, 'activation': 'relu'}, {'dropout': 0.5, 'optimizer': 'SGD', 'batch_size': 32, 'epochs': 5, 'activation': 'relu'}, {'dropout': 0.5, 'optimizer': 'SGD', 'batch_size': 32, 'epochs': 5, 'activation': 'relu'}, {'dropout': 0.5, 'optimizer': 'SGD', 'batch_size': 32, 'epochs': 5, 'activation': 'relu'}, {'dropout': 0.5, 'optimizer': 'SGD', 'batch_size': 32, 'epochs': 5, 'activation': 'relu'}, {'dropout': 0.5, 'optimizer': 'SGD', 'batch_size': 32, 'epochs': 5, 'activation': 'relu'}, {'dropout': 0.5, 'optimizer': 'SGD', 'batch_size': 32, 'epochs': 5, 'activation': 'relu'}, {'dropout': 0.5, 'optimizer': 'SGD', 'batch_size': 32, 'epochs': 5, 'activation': 'relu'}, {'dropout': 0.5, 'optimizer': 'SGD', 'batch_size': 32, 'epochs': 5, 'activation': 'relu'}, {'dropout': 0.5, 'optimizer': 'SGD', 'batch_size': 32, 'epochs': 5, 'activation': 'relu'}, {'dropout': 0.5, 'optimizer': 'Adam', 'batch_size': 32, 'epochs': 2, 'activation': 'tanh'}, {'dropout': 0.5, 'optimizer': 'Adam', 'batch_size': 32, 'epochs': 2, 'activation': 'tanh'}, {'dropout': 0.5, 'optimizer': 'Adam', 'batch_size': 32, 'epochs': 2, 'activation': 'tanh'}, {'dropout': 0.5, 'optimizer': 'Adam', 'batch_size': 32, 'epochs': 2, 'activation': 'tanh'}, {'dropout': 0.5, 'optimizer': 'Adam', 'batch_size': 32, 'epochs': 2, 'activation': 'tanh'}, {'dropout': 0.5, 'optimizer': 'Adam', 'batch_size': 32, 'epochs': 2, 'activation': 'tanh'}, {'dropout': 0.5, 'optimizer': 'Adam', 'batch_size': 32, 'epochs': 2, 'activation': 'tanh'}, {'dropout': 0.5, 'optimizer': 'Adam', 'batch_size': 32, 'epochs': 2, 'activation': 'tanh'}, {'dropout': 0.5, 'optimizer': 'Adam', 'batch_size': 32, 'epochs': 2, 'activation': 'tanh'}, {'dropout': 0.5, 'optimizer': 'Adam', 'batch_size': 32, 'epochs': 2, 'activation': 'tanh'}]\n",
            "22\n",
            "new_population: [{'dropout': 0.5, 'optimizer': 'SGD', 'batch_size': 32, 'epochs': 5, 'activation': 'tanh'}, {'dropout': 0.5, 'optimizer': 'Adam', 'batch_size': 64, 'epochs': 2, 'activation': 'relu'}, {'dropout': 0.5, 'optimizer': 'SGD', 'batch_size': 32, 'epochs': 5, 'activation': 'relu'}, {'dropout': 0.5, 'optimizer': 'SGD', 'batch_size': 32, 'epochs': 5, 'activation': 'relu'}, {'dropout': 0.5, 'optimizer': 'SGD', 'batch_size': 32, 'epochs': 5, 'activation': 'relu'}, {'dropout': 0.5, 'optimizer': 'SGD', 'batch_size': 32, 'epochs': 5, 'activation': 'relu'}, {'dropout': 0.5, 'optimizer': 'SGD', 'batch_size': 32, 'epochs': 5, 'activation': 'relu'}, {'dropout': 0.5, 'optimizer': 'SGD', 'batch_size': 32, 'epochs': 5, 'activation': 'relu'}, {'dropout': 0.5, 'optimizer': 'SGD', 'batch_size': 32, 'epochs': 5, 'activation': 'relu'}, {'dropout': 0.5, 'optimizer': 'SGD', 'batch_size': 32, 'epochs': 5, 'activation': 'relu'}, {'dropout': 0.5, 'optimizer': 'SGD', 'batch_size': 32, 'epochs': 5, 'activation': 'relu'}, {'dropout': 0.5, 'optimizer': 'SGD', 'batch_size': 32, 'epochs': 5, 'activation': 'relu'}, {'dropout': 0.5, 'optimizer': 'Adam', 'batch_size': 32, 'epochs': 2, 'activation': 'tanh'}, {'dropout': 0.5, 'optimizer': 'Adam', 'batch_size': 32, 'epochs': 2, 'activation': 'tanh'}, {'dropout': 0.5, 'optimizer': 'Adam', 'batch_size': 32, 'epochs': 2, 'activation': 'tanh'}, {'dropout': 0.5, 'optimizer': 'Adam', 'batch_size': 32, 'epochs': 2, 'activation': 'tanh'}, {'dropout': 0.5, 'optimizer': 'Adam', 'batch_size': 32, 'epochs': 2, 'activation': 'tanh'}, {'dropout': 0.5, 'optimizer': 'Adam', 'batch_size': 32, 'epochs': 2, 'activation': 'tanh'}, {'dropout': 0.5, 'optimizer': 'Adam', 'batch_size': 32, 'epochs': 2, 'activation': 'tanh'}, {'dropout': 0.5, 'optimizer': 'Adam', 'batch_size': 32, 'epochs': 2, 'activation': 'tanh'}, {'dropout': 0.5, 'optimizer': 'Adam', 'batch_size': 32, 'epochs': 2, 'activation': 'tanh'}, {'dropout': 0.5, 'optimizer': 'Adam', 'batch_size': 32, 'epochs': 2, 'activation': 'tanh'}, {'dropout': 0.5, 'optimizer': 'Adam', 'batch_size': 64, 'epochs': 2, 'activation': 'relu'}, {'dropout': 0.5, 'optimizer': 'Adam', 'batch_size': 64, 'epochs': 2, 'activation': 'relu'}, {'dropout': 0.5, 'optimizer': 'Adam', 'batch_size': 64, 'epochs': 2, 'activation': 'relu'}, {'dropout': 0.5, 'optimizer': 'Adam', 'batch_size': 64, 'epochs': 2, 'activation': 'relu'}, {'dropout': 0.5, 'optimizer': 'Adam', 'batch_size': 64, 'epochs': 2, 'activation': 'relu'}]\n",
            "27\n",
            "new_population: [{'dropout': 0.5, 'optimizer': 'SGD', 'batch_size': 32, 'epochs': 5, 'activation': 'tanh'}, {'dropout': 0.5, 'optimizer': 'Adam', 'batch_size': 64, 'epochs': 2, 'activation': 'relu'}, {'dropout': 0.5, 'optimizer': 'SGD', 'batch_size': 32, 'epochs': 5, 'activation': 'relu'}, {'dropout': 0.5, 'optimizer': 'SGD', 'batch_size': 32, 'epochs': 5, 'activation': 'relu'}, {'dropout': 0.5, 'optimizer': 'SGD', 'batch_size': 32, 'epochs': 5, 'activation': 'relu'}, {'dropout': 0.5, 'optimizer': 'SGD', 'batch_size': 32, 'epochs': 5, 'activation': 'relu'}, {'dropout': 0.5, 'optimizer': 'SGD', 'batch_size': 32, 'epochs': 5, 'activation': 'relu'}, {'dropout': 0.5, 'optimizer': 'SGD', 'batch_size': 32, 'epochs': 5, 'activation': 'relu'}, {'dropout': 0.5, 'optimizer': 'SGD', 'batch_size': 32, 'epochs': 5, 'activation': 'relu'}, {'dropout': 0.5, 'optimizer': 'SGD', 'batch_size': 32, 'epochs': 5, 'activation': 'relu'}, {'dropout': 0.5, 'optimizer': 'SGD', 'batch_size': 32, 'epochs': 5, 'activation': 'relu'}, {'dropout': 0.5, 'optimizer': 'SGD', 'batch_size': 32, 'epochs': 5, 'activation': 'relu'}, {'dropout': 0.5, 'optimizer': 'Adam', 'batch_size': 32, 'epochs': 2, 'activation': 'tanh'}, {'dropout': 0.5, 'optimizer': 'Adam', 'batch_size': 32, 'epochs': 2, 'activation': 'tanh'}, {'dropout': 0.5, 'optimizer': 'Adam', 'batch_size': 32, 'epochs': 2, 'activation': 'tanh'}, {'dropout': 0.5, 'optimizer': 'Adam', 'batch_size': 32, 'epochs': 2, 'activation': 'tanh'}, {'dropout': 0.5, 'optimizer': 'Adam', 'batch_size': 32, 'epochs': 2, 'activation': 'tanh'}, {'dropout': 0.5, 'optimizer': 'Adam', 'batch_size': 32, 'epochs': 2, 'activation': 'tanh'}, {'dropout': 0.5, 'optimizer': 'Adam', 'batch_size': 32, 'epochs': 2, 'activation': 'tanh'}, {'dropout': 0.5, 'optimizer': 'Adam', 'batch_size': 32, 'epochs': 2, 'activation': 'tanh'}, {'dropout': 0.5, 'optimizer': 'Adam', 'batch_size': 32, 'epochs': 2, 'activation': 'tanh'}, {'dropout': 0.5, 'optimizer': 'Adam', 'batch_size': 32, 'epochs': 2, 'activation': 'tanh'}, {'dropout': 0.5, 'optimizer': 'Adam', 'batch_size': 64, 'epochs': 2, 'activation': 'relu'}, {'dropout': 0.5, 'optimizer': 'Adam', 'batch_size': 64, 'epochs': 2, 'activation': 'relu'}, {'dropout': 0.5, 'optimizer': 'Adam', 'batch_size': 64, 'epochs': 2, 'activation': 'relu'}, {'dropout': 0.5, 'optimizer': 'Adam', 'batch_size': 64, 'epochs': 2, 'activation': 'relu'}, {'dropout': 0.5, 'optimizer': 'Adam', 'batch_size': 64, 'epochs': 2, 'activation': 'relu'}, {'dropout': 0.5, 'optimizer': 'SGD', 'batch_size': 64, 'epochs': 2, 'activation': 'tanh'}, {'dropout': 0.5, 'optimizer': 'SGD', 'batch_size': 64, 'epochs': 2, 'activation': 'tanh'}, {'dropout': 0.5, 'optimizer': 'SGD', 'batch_size': 64, 'epochs': 2, 'activation': 'tanh'}, {'dropout': 0.5, 'optimizer': 'SGD', 'batch_size': 64, 'epochs': 2, 'activation': 'tanh'}, {'dropout': 0.5, 'optimizer': 'SGD', 'batch_size': 64, 'epochs': 2, 'activation': 'tanh'}]\n",
            "32\n",
            "Generation 3\n",
            "new_population: [{'dropout': 0.25, 'optimizer': 'RMSprop', 'batch_size': 64, 'epochs': 3, 'activation': 'tanh'}, {'dropout': 0, 'optimizer': 'RMSprop', 'batch_size': 16, 'epochs': 2, 'activation': 'relu'}, {'dropout': 0, 'optimizer': 'RMSprop', 'batch_size': 16, 'epochs': 2, 'activation': 'relu'}, {'dropout': 0, 'optimizer': 'RMSprop', 'batch_size': 16, 'epochs': 2, 'activation': 'relu'}, {'dropout': 0, 'optimizer': 'RMSprop', 'batch_size': 16, 'epochs': 2, 'activation': 'relu'}, {'dropout': 0, 'optimizer': 'RMSprop', 'batch_size': 16, 'epochs': 2, 'activation': 'relu'}, {'dropout': 0, 'optimizer': 'RMSprop', 'batch_size': 16, 'epochs': 2, 'activation': 'relu'}]\n",
            "7\n",
            "new_population: [{'dropout': 0.25, 'optimizer': 'RMSprop', 'batch_size': 64, 'epochs': 3, 'activation': 'tanh'}, {'dropout': 0, 'optimizer': 'RMSprop', 'batch_size': 16, 'epochs': 2, 'activation': 'relu'}, {'dropout': 0, 'optimizer': 'RMSprop', 'batch_size': 16, 'epochs': 2, 'activation': 'relu'}, {'dropout': 0, 'optimizer': 'RMSprop', 'batch_size': 16, 'epochs': 2, 'activation': 'relu'}, {'dropout': 0, 'optimizer': 'RMSprop', 'batch_size': 16, 'epochs': 2, 'activation': 'relu'}, {'dropout': 0, 'optimizer': 'RMSprop', 'batch_size': 16, 'epochs': 2, 'activation': 'relu'}, {'dropout': 0, 'optimizer': 'RMSprop', 'batch_size': 16, 'epochs': 2, 'activation': 'relu'}, {'dropout': 0.25, 'optimizer': 'RMSprop', 'batch_size': 32, 'epochs': 3, 'activation': 'relu'}, {'dropout': 0.25, 'optimizer': 'RMSprop', 'batch_size': 32, 'epochs': 3, 'activation': 'relu'}, {'dropout': 0.25, 'optimizer': 'RMSprop', 'batch_size': 32, 'epochs': 3, 'activation': 'relu'}, {'dropout': 0.25, 'optimizer': 'RMSprop', 'batch_size': 32, 'epochs': 3, 'activation': 'relu'}, {'dropout': 0.25, 'optimizer': 'RMSprop', 'batch_size': 32, 'epochs': 3, 'activation': 'relu'}]\n",
            "12\n",
            "new_population: [{'dropout': 0.25, 'optimizer': 'RMSprop', 'batch_size': 64, 'epochs': 3, 'activation': 'tanh'}, {'dropout': 0, 'optimizer': 'RMSprop', 'batch_size': 16, 'epochs': 2, 'activation': 'relu'}, {'dropout': 0, 'optimizer': 'RMSprop', 'batch_size': 16, 'epochs': 2, 'activation': 'relu'}, {'dropout': 0, 'optimizer': 'RMSprop', 'batch_size': 16, 'epochs': 2, 'activation': 'relu'}, {'dropout': 0, 'optimizer': 'RMSprop', 'batch_size': 16, 'epochs': 2, 'activation': 'relu'}, {'dropout': 0, 'optimizer': 'RMSprop', 'batch_size': 16, 'epochs': 2, 'activation': 'relu'}, {'dropout': 0, 'optimizer': 'RMSprop', 'batch_size': 16, 'epochs': 2, 'activation': 'relu'}, {'dropout': 0.25, 'optimizer': 'RMSprop', 'batch_size': 32, 'epochs': 3, 'activation': 'relu'}, {'dropout': 0.25, 'optimizer': 'RMSprop', 'batch_size': 32, 'epochs': 3, 'activation': 'relu'}, {'dropout': 0.25, 'optimizer': 'RMSprop', 'batch_size': 32, 'epochs': 3, 'activation': 'relu'}, {'dropout': 0.25, 'optimizer': 'RMSprop', 'batch_size': 32, 'epochs': 3, 'activation': 'relu'}, {'dropout': 0.25, 'optimizer': 'RMSprop', 'batch_size': 32, 'epochs': 3, 'activation': 'relu'}, {'dropout': 0, 'optimizer': 'RMSprop', 'batch_size': 16, 'epochs': 3, 'activation': 'relu'}, {'dropout': 0, 'optimizer': 'RMSprop', 'batch_size': 16, 'epochs': 3, 'activation': 'relu'}, {'dropout': 0, 'optimizer': 'RMSprop', 'batch_size': 16, 'epochs': 3, 'activation': 'relu'}, {'dropout': 0, 'optimizer': 'RMSprop', 'batch_size': 16, 'epochs': 3, 'activation': 'relu'}, {'dropout': 0, 'optimizer': 'RMSprop', 'batch_size': 16, 'epochs': 3, 'activation': 'relu'}]\n",
            "17\n",
            "new_population: [{'dropout': 0.25, 'optimizer': 'RMSprop', 'batch_size': 64, 'epochs': 3, 'activation': 'tanh'}, {'dropout': 0, 'optimizer': 'RMSprop', 'batch_size': 16, 'epochs': 2, 'activation': 'relu'}, {'dropout': 0, 'optimizer': 'RMSprop', 'batch_size': 16, 'epochs': 2, 'activation': 'relu'}, {'dropout': 0, 'optimizer': 'RMSprop', 'batch_size': 16, 'epochs': 2, 'activation': 'relu'}, {'dropout': 0, 'optimizer': 'RMSprop', 'batch_size': 16, 'epochs': 2, 'activation': 'relu'}, {'dropout': 0, 'optimizer': 'RMSprop', 'batch_size': 16, 'epochs': 2, 'activation': 'relu'}, {'dropout': 0, 'optimizer': 'RMSprop', 'batch_size': 16, 'epochs': 2, 'activation': 'relu'}, {'dropout': 0.25, 'optimizer': 'RMSprop', 'batch_size': 32, 'epochs': 3, 'activation': 'relu'}, {'dropout': 0.25, 'optimizer': 'RMSprop', 'batch_size': 32, 'epochs': 3, 'activation': 'relu'}, {'dropout': 0.25, 'optimizer': 'RMSprop', 'batch_size': 32, 'epochs': 3, 'activation': 'relu'}, {'dropout': 0.25, 'optimizer': 'RMSprop', 'batch_size': 32, 'epochs': 3, 'activation': 'relu'}, {'dropout': 0.25, 'optimizer': 'RMSprop', 'batch_size': 32, 'epochs': 3, 'activation': 'relu'}, {'dropout': 0, 'optimizer': 'RMSprop', 'batch_size': 16, 'epochs': 3, 'activation': 'relu'}, {'dropout': 0, 'optimizer': 'RMSprop', 'batch_size': 16, 'epochs': 3, 'activation': 'relu'}, {'dropout': 0, 'optimizer': 'RMSprop', 'batch_size': 16, 'epochs': 3, 'activation': 'relu'}, {'dropout': 0, 'optimizer': 'RMSprop', 'batch_size': 16, 'epochs': 3, 'activation': 'relu'}, {'dropout': 0, 'optimizer': 'RMSprop', 'batch_size': 16, 'epochs': 3, 'activation': 'relu'}, {'dropout': 0.25, 'optimizer': 'RMSprop', 'batch_size': 16, 'epochs': 2, 'activation': 'relu'}, {'dropout': 0.25, 'optimizer': 'RMSprop', 'batch_size': 16, 'epochs': 2, 'activation': 'relu'}, {'dropout': 0.25, 'optimizer': 'RMSprop', 'batch_size': 16, 'epochs': 2, 'activation': 'relu'}, {'dropout': 0.25, 'optimizer': 'RMSprop', 'batch_size': 16, 'epochs': 2, 'activation': 'relu'}, {'dropout': 0.25, 'optimizer': 'RMSprop', 'batch_size': 16, 'epochs': 2, 'activation': 'relu'}]\n",
            "22\n",
            "new_population: [{'dropout': 0.25, 'optimizer': 'RMSprop', 'batch_size': 64, 'epochs': 3, 'activation': 'tanh'}, {'dropout': 0, 'optimizer': 'RMSprop', 'batch_size': 16, 'epochs': 2, 'activation': 'relu'}, {'dropout': 0, 'optimizer': 'RMSprop', 'batch_size': 16, 'epochs': 2, 'activation': 'relu'}, {'dropout': 0, 'optimizer': 'RMSprop', 'batch_size': 16, 'epochs': 2, 'activation': 'relu'}, {'dropout': 0, 'optimizer': 'RMSprop', 'batch_size': 16, 'epochs': 2, 'activation': 'relu'}, {'dropout': 0, 'optimizer': 'RMSprop', 'batch_size': 16, 'epochs': 2, 'activation': 'relu'}, {'dropout': 0, 'optimizer': 'RMSprop', 'batch_size': 16, 'epochs': 2, 'activation': 'relu'}, {'dropout': 0.25, 'optimizer': 'RMSprop', 'batch_size': 32, 'epochs': 3, 'activation': 'relu'}, {'dropout': 0.25, 'optimizer': 'RMSprop', 'batch_size': 32, 'epochs': 3, 'activation': 'relu'}, {'dropout': 0.25, 'optimizer': 'RMSprop', 'batch_size': 32, 'epochs': 3, 'activation': 'relu'}, {'dropout': 0.25, 'optimizer': 'RMSprop', 'batch_size': 32, 'epochs': 3, 'activation': 'relu'}, {'dropout': 0.25, 'optimizer': 'RMSprop', 'batch_size': 32, 'epochs': 3, 'activation': 'relu'}, {'dropout': 0, 'optimizer': 'RMSprop', 'batch_size': 16, 'epochs': 3, 'activation': 'relu'}, {'dropout': 0, 'optimizer': 'RMSprop', 'batch_size': 16, 'epochs': 3, 'activation': 'relu'}, {'dropout': 0, 'optimizer': 'RMSprop', 'batch_size': 16, 'epochs': 3, 'activation': 'relu'}, {'dropout': 0, 'optimizer': 'RMSprop', 'batch_size': 16, 'epochs': 3, 'activation': 'relu'}, {'dropout': 0, 'optimizer': 'RMSprop', 'batch_size': 16, 'epochs': 3, 'activation': 'relu'}, {'dropout': 0.25, 'optimizer': 'RMSprop', 'batch_size': 16, 'epochs': 2, 'activation': 'relu'}, {'dropout': 0.25, 'optimizer': 'RMSprop', 'batch_size': 16, 'epochs': 2, 'activation': 'relu'}, {'dropout': 0.25, 'optimizer': 'RMSprop', 'batch_size': 16, 'epochs': 2, 'activation': 'relu'}, {'dropout': 0.25, 'optimizer': 'RMSprop', 'batch_size': 16, 'epochs': 2, 'activation': 'relu'}, {'dropout': 0.25, 'optimizer': 'RMSprop', 'batch_size': 16, 'epochs': 2, 'activation': 'relu'}, {'dropout': 0.25, 'optimizer': 'RMSprop', 'batch_size': 64, 'epochs': 3, 'activation': 'relu'}, {'dropout': 0.25, 'optimizer': 'RMSprop', 'batch_size': 64, 'epochs': 3, 'activation': 'relu'}, {'dropout': 0.25, 'optimizer': 'RMSprop', 'batch_size': 64, 'epochs': 3, 'activation': 'relu'}, {'dropout': 0.25, 'optimizer': 'RMSprop', 'batch_size': 64, 'epochs': 3, 'activation': 'relu'}, {'dropout': 0.25, 'optimizer': 'RMSprop', 'batch_size': 64, 'epochs': 3, 'activation': 'relu'}]\n",
            "27\n",
            "new_population: [{'dropout': 0.25, 'optimizer': 'RMSprop', 'batch_size': 64, 'epochs': 3, 'activation': 'tanh'}, {'dropout': 0, 'optimizer': 'RMSprop', 'batch_size': 16, 'epochs': 2, 'activation': 'relu'}, {'dropout': 0, 'optimizer': 'RMSprop', 'batch_size': 16, 'epochs': 2, 'activation': 'relu'}, {'dropout': 0, 'optimizer': 'RMSprop', 'batch_size': 16, 'epochs': 2, 'activation': 'relu'}, {'dropout': 0, 'optimizer': 'RMSprop', 'batch_size': 16, 'epochs': 2, 'activation': 'relu'}, {'dropout': 0, 'optimizer': 'RMSprop', 'batch_size': 16, 'epochs': 2, 'activation': 'relu'}, {'dropout': 0, 'optimizer': 'RMSprop', 'batch_size': 16, 'epochs': 2, 'activation': 'relu'}, {'dropout': 0.25, 'optimizer': 'RMSprop', 'batch_size': 32, 'epochs': 3, 'activation': 'relu'}, {'dropout': 0.25, 'optimizer': 'RMSprop', 'batch_size': 32, 'epochs': 3, 'activation': 'relu'}, {'dropout': 0.25, 'optimizer': 'RMSprop', 'batch_size': 32, 'epochs': 3, 'activation': 'relu'}, {'dropout': 0.25, 'optimizer': 'RMSprop', 'batch_size': 32, 'epochs': 3, 'activation': 'relu'}, {'dropout': 0.25, 'optimizer': 'RMSprop', 'batch_size': 32, 'epochs': 3, 'activation': 'relu'}, {'dropout': 0, 'optimizer': 'RMSprop', 'batch_size': 16, 'epochs': 3, 'activation': 'relu'}, {'dropout': 0, 'optimizer': 'RMSprop', 'batch_size': 16, 'epochs': 3, 'activation': 'relu'}, {'dropout': 0, 'optimizer': 'RMSprop', 'batch_size': 16, 'epochs': 3, 'activation': 'relu'}, {'dropout': 0, 'optimizer': 'RMSprop', 'batch_size': 16, 'epochs': 3, 'activation': 'relu'}, {'dropout': 0, 'optimizer': 'RMSprop', 'batch_size': 16, 'epochs': 3, 'activation': 'relu'}, {'dropout': 0.25, 'optimizer': 'RMSprop', 'batch_size': 16, 'epochs': 2, 'activation': 'relu'}, {'dropout': 0.25, 'optimizer': 'RMSprop', 'batch_size': 16, 'epochs': 2, 'activation': 'relu'}, {'dropout': 0.25, 'optimizer': 'RMSprop', 'batch_size': 16, 'epochs': 2, 'activation': 'relu'}, {'dropout': 0.25, 'optimizer': 'RMSprop', 'batch_size': 16, 'epochs': 2, 'activation': 'relu'}, {'dropout': 0.25, 'optimizer': 'RMSprop', 'batch_size': 16, 'epochs': 2, 'activation': 'relu'}, {'dropout': 0.25, 'optimizer': 'RMSprop', 'batch_size': 64, 'epochs': 3, 'activation': 'relu'}, {'dropout': 0.25, 'optimizer': 'RMSprop', 'batch_size': 64, 'epochs': 3, 'activation': 'relu'}, {'dropout': 0.25, 'optimizer': 'RMSprop', 'batch_size': 64, 'epochs': 3, 'activation': 'relu'}, {'dropout': 0.25, 'optimizer': 'RMSprop', 'batch_size': 64, 'epochs': 3, 'activation': 'relu'}, {'dropout': 0.25, 'optimizer': 'RMSprop', 'batch_size': 64, 'epochs': 3, 'activation': 'relu'}, {'dropout': 0.25, 'optimizer': 'RMSprop', 'batch_size': 16, 'epochs': 3, 'activation': 'relu'}, {'dropout': 0.25, 'optimizer': 'RMSprop', 'batch_size': 16, 'epochs': 3, 'activation': 'relu'}, {'dropout': 0.25, 'optimizer': 'RMSprop', 'batch_size': 16, 'epochs': 3, 'activation': 'relu'}, {'dropout': 0.25, 'optimizer': 'RMSprop', 'batch_size': 16, 'epochs': 3, 'activation': 'relu'}, {'dropout': 0.25, 'optimizer': 'RMSprop', 'batch_size': 16, 'epochs': 3, 'activation': 'relu'}]\n",
            "32\n",
            "Generation 4\n",
            "new_population: [{'dropout': 0.25, 'optimizer': 'SGD', 'batch_size': 32, 'epochs': 5, 'activation': 'sigmoid'}, {'dropout': 0.5, 'optimizer': 'SGD', 'batch_size': 32, 'epochs': 5, 'activation': 'tanh'}, {'dropout': 0.25, 'optimizer': 'SGD', 'batch_size': 32, 'epochs': 5, 'activation': 'sigmoid'}, {'dropout': 0.25, 'optimizer': 'SGD', 'batch_size': 32, 'epochs': 5, 'activation': 'sigmoid'}, {'dropout': 0.25, 'optimizer': 'SGD', 'batch_size': 32, 'epochs': 5, 'activation': 'sigmoid'}, {'dropout': 0.25, 'optimizer': 'SGD', 'batch_size': 32, 'epochs': 5, 'activation': 'sigmoid'}, {'dropout': 0.25, 'optimizer': 'SGD', 'batch_size': 32, 'epochs': 5, 'activation': 'sigmoid'}]\n",
            "7\n",
            "new_population: [{'dropout': 0.25, 'optimizer': 'SGD', 'batch_size': 32, 'epochs': 5, 'activation': 'sigmoid'}, {'dropout': 0.5, 'optimizer': 'SGD', 'batch_size': 32, 'epochs': 5, 'activation': 'tanh'}, {'dropout': 0.25, 'optimizer': 'SGD', 'batch_size': 32, 'epochs': 5, 'activation': 'sigmoid'}, {'dropout': 0.25, 'optimizer': 'SGD', 'batch_size': 32, 'epochs': 5, 'activation': 'sigmoid'}, {'dropout': 0.25, 'optimizer': 'SGD', 'batch_size': 32, 'epochs': 5, 'activation': 'sigmoid'}, {'dropout': 0.25, 'optimizer': 'SGD', 'batch_size': 32, 'epochs': 5, 'activation': 'sigmoid'}, {'dropout': 0.25, 'optimizer': 'SGD', 'batch_size': 32, 'epochs': 5, 'activation': 'sigmoid'}, {'dropout': 0.25, 'optimizer': 'SGD', 'batch_size': 32, 'epochs': 2, 'activation': 'sigmoid'}, {'dropout': 0.25, 'optimizer': 'SGD', 'batch_size': 32, 'epochs': 2, 'activation': 'sigmoid'}, {'dropout': 0.25, 'optimizer': 'SGD', 'batch_size': 32, 'epochs': 2, 'activation': 'sigmoid'}, {'dropout': 0.25, 'optimizer': 'SGD', 'batch_size': 32, 'epochs': 2, 'activation': 'sigmoid'}, {'dropout': 0.25, 'optimizer': 'SGD', 'batch_size': 32, 'epochs': 2, 'activation': 'sigmoid'}]\n",
            "12\n",
            "new_population: [{'dropout': 0.25, 'optimizer': 'SGD', 'batch_size': 32, 'epochs': 5, 'activation': 'sigmoid'}, {'dropout': 0.5, 'optimizer': 'SGD', 'batch_size': 32, 'epochs': 5, 'activation': 'tanh'}, {'dropout': 0.25, 'optimizer': 'SGD', 'batch_size': 32, 'epochs': 5, 'activation': 'sigmoid'}, {'dropout': 0.25, 'optimizer': 'SGD', 'batch_size': 32, 'epochs': 5, 'activation': 'sigmoid'}, {'dropout': 0.25, 'optimizer': 'SGD', 'batch_size': 32, 'epochs': 5, 'activation': 'sigmoid'}, {'dropout': 0.25, 'optimizer': 'SGD', 'batch_size': 32, 'epochs': 5, 'activation': 'sigmoid'}, {'dropout': 0.25, 'optimizer': 'SGD', 'batch_size': 32, 'epochs': 5, 'activation': 'sigmoid'}, {'dropout': 0.25, 'optimizer': 'SGD', 'batch_size': 32, 'epochs': 2, 'activation': 'sigmoid'}, {'dropout': 0.25, 'optimizer': 'SGD', 'batch_size': 32, 'epochs': 2, 'activation': 'sigmoid'}, {'dropout': 0.25, 'optimizer': 'SGD', 'batch_size': 32, 'epochs': 2, 'activation': 'sigmoid'}, {'dropout': 0.25, 'optimizer': 'SGD', 'batch_size': 32, 'epochs': 2, 'activation': 'sigmoid'}, {'dropout': 0.25, 'optimizer': 'SGD', 'batch_size': 32, 'epochs': 2, 'activation': 'sigmoid'}, {'dropout': 0.5, 'optimizer': 'SGD', 'batch_size': 32, 'epochs': 5, 'activation': 'sigmoid'}, {'dropout': 0.5, 'optimizer': 'SGD', 'batch_size': 32, 'epochs': 5, 'activation': 'sigmoid'}, {'dropout': 0.5, 'optimizer': 'SGD', 'batch_size': 32, 'epochs': 5, 'activation': 'sigmoid'}, {'dropout': 0.5, 'optimizer': 'SGD', 'batch_size': 32, 'epochs': 5, 'activation': 'sigmoid'}, {'dropout': 0.5, 'optimizer': 'SGD', 'batch_size': 32, 'epochs': 5, 'activation': 'sigmoid'}]\n",
            "17\n",
            "new_population: [{'dropout': 0.25, 'optimizer': 'SGD', 'batch_size': 32, 'epochs': 5, 'activation': 'sigmoid'}, {'dropout': 0.5, 'optimizer': 'SGD', 'batch_size': 32, 'epochs': 5, 'activation': 'tanh'}, {'dropout': 0.25, 'optimizer': 'SGD', 'batch_size': 32, 'epochs': 5, 'activation': 'sigmoid'}, {'dropout': 0.25, 'optimizer': 'SGD', 'batch_size': 32, 'epochs': 5, 'activation': 'sigmoid'}, {'dropout': 0.25, 'optimizer': 'SGD', 'batch_size': 32, 'epochs': 5, 'activation': 'sigmoid'}, {'dropout': 0.25, 'optimizer': 'SGD', 'batch_size': 32, 'epochs': 5, 'activation': 'sigmoid'}, {'dropout': 0.25, 'optimizer': 'SGD', 'batch_size': 32, 'epochs': 5, 'activation': 'sigmoid'}, {'dropout': 0.25, 'optimizer': 'SGD', 'batch_size': 32, 'epochs': 2, 'activation': 'sigmoid'}, {'dropout': 0.25, 'optimizer': 'SGD', 'batch_size': 32, 'epochs': 2, 'activation': 'sigmoid'}, {'dropout': 0.25, 'optimizer': 'SGD', 'batch_size': 32, 'epochs': 2, 'activation': 'sigmoid'}, {'dropout': 0.25, 'optimizer': 'SGD', 'batch_size': 32, 'epochs': 2, 'activation': 'sigmoid'}, {'dropout': 0.25, 'optimizer': 'SGD', 'batch_size': 32, 'epochs': 2, 'activation': 'sigmoid'}, {'dropout': 0.5, 'optimizer': 'SGD', 'batch_size': 32, 'epochs': 5, 'activation': 'sigmoid'}, {'dropout': 0.5, 'optimizer': 'SGD', 'batch_size': 32, 'epochs': 5, 'activation': 'sigmoid'}, {'dropout': 0.5, 'optimizer': 'SGD', 'batch_size': 32, 'epochs': 5, 'activation': 'sigmoid'}, {'dropout': 0.5, 'optimizer': 'SGD', 'batch_size': 32, 'epochs': 5, 'activation': 'sigmoid'}, {'dropout': 0.5, 'optimizer': 'SGD', 'batch_size': 32, 'epochs': 5, 'activation': 'sigmoid'}, {'dropout': 0.25, 'optimizer': 'SGD', 'batch_size': 32, 'epochs': 5, 'activation': 'sigmoid'}, {'dropout': 0.25, 'optimizer': 'SGD', 'batch_size': 32, 'epochs': 5, 'activation': 'sigmoid'}, {'dropout': 0.25, 'optimizer': 'SGD', 'batch_size': 32, 'epochs': 5, 'activation': 'sigmoid'}, {'dropout': 0.25, 'optimizer': 'SGD', 'batch_size': 32, 'epochs': 5, 'activation': 'sigmoid'}, {'dropout': 0.25, 'optimizer': 'SGD', 'batch_size': 32, 'epochs': 5, 'activation': 'sigmoid'}]\n",
            "22\n",
            "new_population: [{'dropout': 0.25, 'optimizer': 'SGD', 'batch_size': 32, 'epochs': 5, 'activation': 'sigmoid'}, {'dropout': 0.5, 'optimizer': 'SGD', 'batch_size': 32, 'epochs': 5, 'activation': 'tanh'}, {'dropout': 0.25, 'optimizer': 'SGD', 'batch_size': 32, 'epochs': 5, 'activation': 'sigmoid'}, {'dropout': 0.25, 'optimizer': 'SGD', 'batch_size': 32, 'epochs': 5, 'activation': 'sigmoid'}, {'dropout': 0.25, 'optimizer': 'SGD', 'batch_size': 32, 'epochs': 5, 'activation': 'sigmoid'}, {'dropout': 0.25, 'optimizer': 'SGD', 'batch_size': 32, 'epochs': 5, 'activation': 'sigmoid'}, {'dropout': 0.25, 'optimizer': 'SGD', 'batch_size': 32, 'epochs': 5, 'activation': 'sigmoid'}, {'dropout': 0.25, 'optimizer': 'SGD', 'batch_size': 32, 'epochs': 2, 'activation': 'sigmoid'}, {'dropout': 0.25, 'optimizer': 'SGD', 'batch_size': 32, 'epochs': 2, 'activation': 'sigmoid'}, {'dropout': 0.25, 'optimizer': 'SGD', 'batch_size': 32, 'epochs': 2, 'activation': 'sigmoid'}, {'dropout': 0.25, 'optimizer': 'SGD', 'batch_size': 32, 'epochs': 2, 'activation': 'sigmoid'}, {'dropout': 0.25, 'optimizer': 'SGD', 'batch_size': 32, 'epochs': 2, 'activation': 'sigmoid'}, {'dropout': 0.5, 'optimizer': 'SGD', 'batch_size': 32, 'epochs': 5, 'activation': 'sigmoid'}, {'dropout': 0.5, 'optimizer': 'SGD', 'batch_size': 32, 'epochs': 5, 'activation': 'sigmoid'}, {'dropout': 0.5, 'optimizer': 'SGD', 'batch_size': 32, 'epochs': 5, 'activation': 'sigmoid'}, {'dropout': 0.5, 'optimizer': 'SGD', 'batch_size': 32, 'epochs': 5, 'activation': 'sigmoid'}, {'dropout': 0.5, 'optimizer': 'SGD', 'batch_size': 32, 'epochs': 5, 'activation': 'sigmoid'}, {'dropout': 0.25, 'optimizer': 'SGD', 'batch_size': 32, 'epochs': 5, 'activation': 'sigmoid'}, {'dropout': 0.25, 'optimizer': 'SGD', 'batch_size': 32, 'epochs': 5, 'activation': 'sigmoid'}, {'dropout': 0.25, 'optimizer': 'SGD', 'batch_size': 32, 'epochs': 5, 'activation': 'sigmoid'}, {'dropout': 0.25, 'optimizer': 'SGD', 'batch_size': 32, 'epochs': 5, 'activation': 'sigmoid'}, {'dropout': 0.25, 'optimizer': 'SGD', 'batch_size': 32, 'epochs': 5, 'activation': 'sigmoid'}, {'dropout': 0.5, 'optimizer': 'SGD', 'batch_size': 32, 'epochs': 3, 'activation': 'tanh'}, {'dropout': 0.5, 'optimizer': 'SGD', 'batch_size': 32, 'epochs': 3, 'activation': 'tanh'}, {'dropout': 0.5, 'optimizer': 'SGD', 'batch_size': 32, 'epochs': 3, 'activation': 'tanh'}, {'dropout': 0.5, 'optimizer': 'SGD', 'batch_size': 32, 'epochs': 3, 'activation': 'tanh'}, {'dropout': 0.5, 'optimizer': 'SGD', 'batch_size': 32, 'epochs': 3, 'activation': 'tanh'}]\n",
            "27\n",
            "new_population: [{'dropout': 0.25, 'optimizer': 'SGD', 'batch_size': 32, 'epochs': 5, 'activation': 'sigmoid'}, {'dropout': 0.5, 'optimizer': 'SGD', 'batch_size': 32, 'epochs': 5, 'activation': 'tanh'}, {'dropout': 0.25, 'optimizer': 'SGD', 'batch_size': 32, 'epochs': 5, 'activation': 'sigmoid'}, {'dropout': 0.25, 'optimizer': 'SGD', 'batch_size': 32, 'epochs': 5, 'activation': 'sigmoid'}, {'dropout': 0.25, 'optimizer': 'SGD', 'batch_size': 32, 'epochs': 5, 'activation': 'sigmoid'}, {'dropout': 0.25, 'optimizer': 'SGD', 'batch_size': 32, 'epochs': 5, 'activation': 'sigmoid'}, {'dropout': 0.25, 'optimizer': 'SGD', 'batch_size': 32, 'epochs': 5, 'activation': 'sigmoid'}, {'dropout': 0.25, 'optimizer': 'SGD', 'batch_size': 32, 'epochs': 2, 'activation': 'sigmoid'}, {'dropout': 0.25, 'optimizer': 'SGD', 'batch_size': 32, 'epochs': 2, 'activation': 'sigmoid'}, {'dropout': 0.25, 'optimizer': 'SGD', 'batch_size': 32, 'epochs': 2, 'activation': 'sigmoid'}, {'dropout': 0.25, 'optimizer': 'SGD', 'batch_size': 32, 'epochs': 2, 'activation': 'sigmoid'}, {'dropout': 0.25, 'optimizer': 'SGD', 'batch_size': 32, 'epochs': 2, 'activation': 'sigmoid'}, {'dropout': 0.5, 'optimizer': 'SGD', 'batch_size': 32, 'epochs': 5, 'activation': 'sigmoid'}, {'dropout': 0.5, 'optimizer': 'SGD', 'batch_size': 32, 'epochs': 5, 'activation': 'sigmoid'}, {'dropout': 0.5, 'optimizer': 'SGD', 'batch_size': 32, 'epochs': 5, 'activation': 'sigmoid'}, {'dropout': 0.5, 'optimizer': 'SGD', 'batch_size': 32, 'epochs': 5, 'activation': 'sigmoid'}, {'dropout': 0.5, 'optimizer': 'SGD', 'batch_size': 32, 'epochs': 5, 'activation': 'sigmoid'}, {'dropout': 0.25, 'optimizer': 'SGD', 'batch_size': 32, 'epochs': 5, 'activation': 'sigmoid'}, {'dropout': 0.25, 'optimizer': 'SGD', 'batch_size': 32, 'epochs': 5, 'activation': 'sigmoid'}, {'dropout': 0.25, 'optimizer': 'SGD', 'batch_size': 32, 'epochs': 5, 'activation': 'sigmoid'}, {'dropout': 0.25, 'optimizer': 'SGD', 'batch_size': 32, 'epochs': 5, 'activation': 'sigmoid'}, {'dropout': 0.25, 'optimizer': 'SGD', 'batch_size': 32, 'epochs': 5, 'activation': 'sigmoid'}, {'dropout': 0.5, 'optimizer': 'SGD', 'batch_size': 32, 'epochs': 3, 'activation': 'tanh'}, {'dropout': 0.5, 'optimizer': 'SGD', 'batch_size': 32, 'epochs': 3, 'activation': 'tanh'}, {'dropout': 0.5, 'optimizer': 'SGD', 'batch_size': 32, 'epochs': 3, 'activation': 'tanh'}, {'dropout': 0.5, 'optimizer': 'SGD', 'batch_size': 32, 'epochs': 3, 'activation': 'tanh'}, {'dropout': 0.5, 'optimizer': 'SGD', 'batch_size': 32, 'epochs': 3, 'activation': 'tanh'}, {'dropout': 0.5, 'optimizer': 'SGD', 'batch_size': 32, 'epochs': 5, 'activation': 'sigmoid'}, {'dropout': 0.5, 'optimizer': 'SGD', 'batch_size': 32, 'epochs': 5, 'activation': 'sigmoid'}, {'dropout': 0.5, 'optimizer': 'SGD', 'batch_size': 32, 'epochs': 5, 'activation': 'sigmoid'}, {'dropout': 0.5, 'optimizer': 'SGD', 'batch_size': 32, 'epochs': 5, 'activation': 'sigmoid'}, {'dropout': 0.5, 'optimizer': 'SGD', 'batch_size': 32, 'epochs': 5, 'activation': 'sigmoid'}]\n",
            "32\n",
            "Generation 5\n",
            "new_population: [{'dropout': 0.5, 'optimizer': 'RMSprop', 'batch_size': 16, 'epochs': 2, 'activation': 'sigmoid'}, {'dropout': 0, 'optimizer': 'SGD', 'batch_size': 16, 'epochs': 5, 'activation': 'relu'}, {'dropout': 0, 'optimizer': 'SGD', 'batch_size': 16, 'epochs': 5, 'activation': 'relu'}, {'dropout': 0, 'optimizer': 'SGD', 'batch_size': 16, 'epochs': 5, 'activation': 'relu'}, {'dropout': 0, 'optimizer': 'SGD', 'batch_size': 16, 'epochs': 5, 'activation': 'relu'}, {'dropout': 0, 'optimizer': 'SGD', 'batch_size': 16, 'epochs': 5, 'activation': 'relu'}, {'dropout': 0, 'optimizer': 'SGD', 'batch_size': 16, 'epochs': 5, 'activation': 'relu'}]\n",
            "7\n",
            "new_population: [{'dropout': 0.5, 'optimizer': 'RMSprop', 'batch_size': 16, 'epochs': 2, 'activation': 'sigmoid'}, {'dropout': 0, 'optimizer': 'SGD', 'batch_size': 16, 'epochs': 5, 'activation': 'relu'}, {'dropout': 0, 'optimizer': 'SGD', 'batch_size': 16, 'epochs': 5, 'activation': 'relu'}, {'dropout': 0, 'optimizer': 'SGD', 'batch_size': 16, 'epochs': 5, 'activation': 'relu'}, {'dropout': 0, 'optimizer': 'SGD', 'batch_size': 16, 'epochs': 5, 'activation': 'relu'}, {'dropout': 0, 'optimizer': 'SGD', 'batch_size': 16, 'epochs': 5, 'activation': 'relu'}, {'dropout': 0, 'optimizer': 'SGD', 'batch_size': 16, 'epochs': 5, 'activation': 'relu'}, {'dropout': 0.5, 'optimizer': 'RMSprop', 'batch_size': 16, 'epochs': 5, 'activation': 'sigmoid'}, {'dropout': 0.5, 'optimizer': 'RMSprop', 'batch_size': 16, 'epochs': 5, 'activation': 'sigmoid'}, {'dropout': 0.5, 'optimizer': 'RMSprop', 'batch_size': 16, 'epochs': 5, 'activation': 'sigmoid'}, {'dropout': 0.5, 'optimizer': 'RMSprop', 'batch_size': 16, 'epochs': 5, 'activation': 'sigmoid'}, {'dropout': 0.5, 'optimizer': 'RMSprop', 'batch_size': 16, 'epochs': 5, 'activation': 'sigmoid'}]\n",
            "12\n",
            "new_population: [{'dropout': 0.5, 'optimizer': 'RMSprop', 'batch_size': 16, 'epochs': 2, 'activation': 'sigmoid'}, {'dropout': 0, 'optimizer': 'SGD', 'batch_size': 16, 'epochs': 5, 'activation': 'relu'}, {'dropout': 0, 'optimizer': 'SGD', 'batch_size': 16, 'epochs': 5, 'activation': 'relu'}, {'dropout': 0, 'optimizer': 'SGD', 'batch_size': 16, 'epochs': 5, 'activation': 'relu'}, {'dropout': 0, 'optimizer': 'SGD', 'batch_size': 16, 'epochs': 5, 'activation': 'relu'}, {'dropout': 0, 'optimizer': 'SGD', 'batch_size': 16, 'epochs': 5, 'activation': 'relu'}, {'dropout': 0, 'optimizer': 'SGD', 'batch_size': 16, 'epochs': 5, 'activation': 'relu'}, {'dropout': 0.5, 'optimizer': 'RMSprop', 'batch_size': 16, 'epochs': 5, 'activation': 'sigmoid'}, {'dropout': 0.5, 'optimizer': 'RMSprop', 'batch_size': 16, 'epochs': 5, 'activation': 'sigmoid'}, {'dropout': 0.5, 'optimizer': 'RMSprop', 'batch_size': 16, 'epochs': 5, 'activation': 'sigmoid'}, {'dropout': 0.5, 'optimizer': 'RMSprop', 'batch_size': 16, 'epochs': 5, 'activation': 'sigmoid'}, {'dropout': 0.5, 'optimizer': 'RMSprop', 'batch_size': 16, 'epochs': 5, 'activation': 'sigmoid'}, {'dropout': 0.5, 'optimizer': 'Adam', 'batch_size': 16, 'epochs': 2, 'activation': 'relu'}, {'dropout': 0.5, 'optimizer': 'Adam', 'batch_size': 16, 'epochs': 2, 'activation': 'relu'}, {'dropout': 0.5, 'optimizer': 'Adam', 'batch_size': 16, 'epochs': 2, 'activation': 'relu'}, {'dropout': 0.5, 'optimizer': 'Adam', 'batch_size': 16, 'epochs': 2, 'activation': 'relu'}, {'dropout': 0.5, 'optimizer': 'Adam', 'batch_size': 16, 'epochs': 2, 'activation': 'relu'}]\n",
            "17\n",
            "new_population: [{'dropout': 0.5, 'optimizer': 'RMSprop', 'batch_size': 16, 'epochs': 2, 'activation': 'sigmoid'}, {'dropout': 0, 'optimizer': 'SGD', 'batch_size': 16, 'epochs': 5, 'activation': 'relu'}, {'dropout': 0, 'optimizer': 'SGD', 'batch_size': 16, 'epochs': 5, 'activation': 'relu'}, {'dropout': 0, 'optimizer': 'SGD', 'batch_size': 16, 'epochs': 5, 'activation': 'relu'}, {'dropout': 0, 'optimizer': 'SGD', 'batch_size': 16, 'epochs': 5, 'activation': 'relu'}, {'dropout': 0, 'optimizer': 'SGD', 'batch_size': 16, 'epochs': 5, 'activation': 'relu'}, {'dropout': 0, 'optimizer': 'SGD', 'batch_size': 16, 'epochs': 5, 'activation': 'relu'}, {'dropout': 0.5, 'optimizer': 'RMSprop', 'batch_size': 16, 'epochs': 5, 'activation': 'sigmoid'}, {'dropout': 0.5, 'optimizer': 'RMSprop', 'batch_size': 16, 'epochs': 5, 'activation': 'sigmoid'}, {'dropout': 0.5, 'optimizer': 'RMSprop', 'batch_size': 16, 'epochs': 5, 'activation': 'sigmoid'}, {'dropout': 0.5, 'optimizer': 'RMSprop', 'batch_size': 16, 'epochs': 5, 'activation': 'sigmoid'}, {'dropout': 0.5, 'optimizer': 'RMSprop', 'batch_size': 16, 'epochs': 5, 'activation': 'sigmoid'}, {'dropout': 0.5, 'optimizer': 'Adam', 'batch_size': 16, 'epochs': 2, 'activation': 'relu'}, {'dropout': 0.5, 'optimizer': 'Adam', 'batch_size': 16, 'epochs': 2, 'activation': 'relu'}, {'dropout': 0.5, 'optimizer': 'Adam', 'batch_size': 16, 'epochs': 2, 'activation': 'relu'}, {'dropout': 0.5, 'optimizer': 'Adam', 'batch_size': 16, 'epochs': 2, 'activation': 'relu'}, {'dropout': 0.5, 'optimizer': 'Adam', 'batch_size': 16, 'epochs': 2, 'activation': 'relu'}, {'dropout': 0, 'optimizer': 'RMSprop', 'batch_size': 64, 'epochs': 2, 'activation': 'sigmoid'}, {'dropout': 0, 'optimizer': 'RMSprop', 'batch_size': 64, 'epochs': 2, 'activation': 'sigmoid'}, {'dropout': 0, 'optimizer': 'RMSprop', 'batch_size': 64, 'epochs': 2, 'activation': 'sigmoid'}, {'dropout': 0, 'optimizer': 'RMSprop', 'batch_size': 64, 'epochs': 2, 'activation': 'sigmoid'}, {'dropout': 0, 'optimizer': 'RMSprop', 'batch_size': 64, 'epochs': 2, 'activation': 'sigmoid'}]\n",
            "22\n",
            "new_population: [{'dropout': 0.5, 'optimizer': 'RMSprop', 'batch_size': 16, 'epochs': 2, 'activation': 'sigmoid'}, {'dropout': 0, 'optimizer': 'SGD', 'batch_size': 16, 'epochs': 5, 'activation': 'relu'}, {'dropout': 0, 'optimizer': 'SGD', 'batch_size': 16, 'epochs': 5, 'activation': 'relu'}, {'dropout': 0, 'optimizer': 'SGD', 'batch_size': 16, 'epochs': 5, 'activation': 'relu'}, {'dropout': 0, 'optimizer': 'SGD', 'batch_size': 16, 'epochs': 5, 'activation': 'relu'}, {'dropout': 0, 'optimizer': 'SGD', 'batch_size': 16, 'epochs': 5, 'activation': 'relu'}, {'dropout': 0, 'optimizer': 'SGD', 'batch_size': 16, 'epochs': 5, 'activation': 'relu'}, {'dropout': 0.5, 'optimizer': 'RMSprop', 'batch_size': 16, 'epochs': 5, 'activation': 'sigmoid'}, {'dropout': 0.5, 'optimizer': 'RMSprop', 'batch_size': 16, 'epochs': 5, 'activation': 'sigmoid'}, {'dropout': 0.5, 'optimizer': 'RMSprop', 'batch_size': 16, 'epochs': 5, 'activation': 'sigmoid'}, {'dropout': 0.5, 'optimizer': 'RMSprop', 'batch_size': 16, 'epochs': 5, 'activation': 'sigmoid'}, {'dropout': 0.5, 'optimizer': 'RMSprop', 'batch_size': 16, 'epochs': 5, 'activation': 'sigmoid'}, {'dropout': 0.5, 'optimizer': 'Adam', 'batch_size': 16, 'epochs': 2, 'activation': 'relu'}, {'dropout': 0.5, 'optimizer': 'Adam', 'batch_size': 16, 'epochs': 2, 'activation': 'relu'}, {'dropout': 0.5, 'optimizer': 'Adam', 'batch_size': 16, 'epochs': 2, 'activation': 'relu'}, {'dropout': 0.5, 'optimizer': 'Adam', 'batch_size': 16, 'epochs': 2, 'activation': 'relu'}, {'dropout': 0.5, 'optimizer': 'Adam', 'batch_size': 16, 'epochs': 2, 'activation': 'relu'}, {'dropout': 0, 'optimizer': 'RMSprop', 'batch_size': 64, 'epochs': 2, 'activation': 'sigmoid'}, {'dropout': 0, 'optimizer': 'RMSprop', 'batch_size': 64, 'epochs': 2, 'activation': 'sigmoid'}, {'dropout': 0, 'optimizer': 'RMSprop', 'batch_size': 64, 'epochs': 2, 'activation': 'sigmoid'}, {'dropout': 0, 'optimizer': 'RMSprop', 'batch_size': 64, 'epochs': 2, 'activation': 'sigmoid'}, {'dropout': 0, 'optimizer': 'RMSprop', 'batch_size': 64, 'epochs': 2, 'activation': 'sigmoid'}, {'dropout': 0.5, 'optimizer': 'SGD', 'batch_size': 16, 'epochs': 5, 'activation': 'sigmoid'}, {'dropout': 0.5, 'optimizer': 'SGD', 'batch_size': 16, 'epochs': 5, 'activation': 'sigmoid'}, {'dropout': 0.5, 'optimizer': 'SGD', 'batch_size': 16, 'epochs': 5, 'activation': 'sigmoid'}, {'dropout': 0.5, 'optimizer': 'SGD', 'batch_size': 16, 'epochs': 5, 'activation': 'sigmoid'}, {'dropout': 0.5, 'optimizer': 'SGD', 'batch_size': 16, 'epochs': 5, 'activation': 'sigmoid'}]\n",
            "27\n",
            "new_population: [{'dropout': 0.5, 'optimizer': 'RMSprop', 'batch_size': 16, 'epochs': 2, 'activation': 'sigmoid'}, {'dropout': 0, 'optimizer': 'SGD', 'batch_size': 16, 'epochs': 5, 'activation': 'relu'}, {'dropout': 0, 'optimizer': 'SGD', 'batch_size': 16, 'epochs': 5, 'activation': 'relu'}, {'dropout': 0, 'optimizer': 'SGD', 'batch_size': 16, 'epochs': 5, 'activation': 'relu'}, {'dropout': 0, 'optimizer': 'SGD', 'batch_size': 16, 'epochs': 5, 'activation': 'relu'}, {'dropout': 0, 'optimizer': 'SGD', 'batch_size': 16, 'epochs': 5, 'activation': 'relu'}, {'dropout': 0, 'optimizer': 'SGD', 'batch_size': 16, 'epochs': 5, 'activation': 'relu'}, {'dropout': 0.5, 'optimizer': 'RMSprop', 'batch_size': 16, 'epochs': 5, 'activation': 'sigmoid'}, {'dropout': 0.5, 'optimizer': 'RMSprop', 'batch_size': 16, 'epochs': 5, 'activation': 'sigmoid'}, {'dropout': 0.5, 'optimizer': 'RMSprop', 'batch_size': 16, 'epochs': 5, 'activation': 'sigmoid'}, {'dropout': 0.5, 'optimizer': 'RMSprop', 'batch_size': 16, 'epochs': 5, 'activation': 'sigmoid'}, {'dropout': 0.5, 'optimizer': 'RMSprop', 'batch_size': 16, 'epochs': 5, 'activation': 'sigmoid'}, {'dropout': 0.5, 'optimizer': 'Adam', 'batch_size': 16, 'epochs': 2, 'activation': 'relu'}, {'dropout': 0.5, 'optimizer': 'Adam', 'batch_size': 16, 'epochs': 2, 'activation': 'relu'}, {'dropout': 0.5, 'optimizer': 'Adam', 'batch_size': 16, 'epochs': 2, 'activation': 'relu'}, {'dropout': 0.5, 'optimizer': 'Adam', 'batch_size': 16, 'epochs': 2, 'activation': 'relu'}, {'dropout': 0.5, 'optimizer': 'Adam', 'batch_size': 16, 'epochs': 2, 'activation': 'relu'}, {'dropout': 0, 'optimizer': 'RMSprop', 'batch_size': 64, 'epochs': 2, 'activation': 'sigmoid'}, {'dropout': 0, 'optimizer': 'RMSprop', 'batch_size': 64, 'epochs': 2, 'activation': 'sigmoid'}, {'dropout': 0, 'optimizer': 'RMSprop', 'batch_size': 64, 'epochs': 2, 'activation': 'sigmoid'}, {'dropout': 0, 'optimizer': 'RMSprop', 'batch_size': 64, 'epochs': 2, 'activation': 'sigmoid'}, {'dropout': 0, 'optimizer': 'RMSprop', 'batch_size': 64, 'epochs': 2, 'activation': 'sigmoid'}, {'dropout': 0.5, 'optimizer': 'SGD', 'batch_size': 16, 'epochs': 5, 'activation': 'sigmoid'}, {'dropout': 0.5, 'optimizer': 'SGD', 'batch_size': 16, 'epochs': 5, 'activation': 'sigmoid'}, {'dropout': 0.5, 'optimizer': 'SGD', 'batch_size': 16, 'epochs': 5, 'activation': 'sigmoid'}, {'dropout': 0.5, 'optimizer': 'SGD', 'batch_size': 16, 'epochs': 5, 'activation': 'sigmoid'}, {'dropout': 0.5, 'optimizer': 'SGD', 'batch_size': 16, 'epochs': 5, 'activation': 'sigmoid'}, {'dropout': 0.25, 'optimizer': 'RMSprop', 'batch_size': 16, 'epochs': 2, 'activation': 'relu'}, {'dropout': 0.25, 'optimizer': 'RMSprop', 'batch_size': 16, 'epochs': 2, 'activation': 'relu'}, {'dropout': 0.25, 'optimizer': 'RMSprop', 'batch_size': 16, 'epochs': 2, 'activation': 'relu'}, {'dropout': 0.25, 'optimizer': 'RMSprop', 'batch_size': 16, 'epochs': 2, 'activation': 'relu'}, {'dropout': 0.25, 'optimizer': 'RMSprop', 'batch_size': 16, 'epochs': 2, 'activation': 'relu'}]\n",
            "32\n"
          ]
        }
      ]
    },
    {
      "cell_type": "code",
      "source": [
        "import csv\n",
        "\n",
        "# Define the main genetic algorithm function\n",
        "def genetic_algorithm(parameter_values, population_size, num_parents, mutation_rate, generations, save_file):\n",
        "    # Initialize the population with random hyperparameters\n",
        "    # population = []\n",
        "    population = []\n",
        "    for i in range(population_size):\n",
        "      individual = {}\n",
        "      for param in parameter_values:\n",
        "        if isinstance(parameter_values[param], list):\n",
        "          individual[param] = random.choice(parameter_values[param])\n",
        "        else:\n",
        "          individual[param] = parameter_values[param][random.randint(0, len(parameter_values[param])-1)]\n",
        "        population.append(individual)\n",
        "    # NUM_GENERATIONS = 5\n",
        "    num_offspring = population_size - num_parents\n",
        "    # Open a CSV file to write the results\n",
        "    with open(save_file, mode='w') as result_file:\n",
        "        fieldnames = ['Generation', 'Epochs', 'Batch Size', 'Optimizer', 'Accuracy']\n",
        "        writer = csv.DictWriter(result_file, fieldnames=fieldnames)\n",
        "        writer.writeheader()\n",
        "\n",
        "        for generation in range(generations):\n",
        "            print(f\"Generation {generation + 1}\")\n",
        "            # Evaluate the fitness of each individual in the population\n",
        "            # [(parameters, fitness_function(parameters)) for parameters in population]\n",
        "            fitness_scores = [(individual, evaluate_fitness(individual)) for individual in population]\n",
        "\n",
        "            parents = select_parents(population)\n",
        "            # print(parents)\n",
        "            # print(len(parents))\n",
        "            # fitness_scores = [0.3, 0.4, 0.7, 0.1, 0.6, 0.8, 0.5, 0.3]\n",
        "            offspring = []\n",
        "            for i in range(num_offspring):\n",
        "              parent1, parent2 = random.sample(parents, 2)\n",
        "              # print(f\"Parent1: {parent1}\")\n",
        "              # print(f\"Parent2: {parent2}\")\n",
        "              child = {}\n",
        "              for param in parameter_values:\n",
        "                if random.random() < mutation_rate:\n",
        "                  child[param] = mutate(param)\n",
        "                else:\n",
        "                  child[param] = random.choice([parent1[param], parent2[param]])\n",
        "                # print(f\"Child: {child}\")\n",
        "                offspring.append(child)\n",
        "              \n",
        "              # print(f'Offspring: {offspring}')\n",
        "              # print(len(offspring))\n",
        "              population = parents + offspring\n",
        "              # print(f'new_population: {population}')\n",
        "              # print(len(new_population))\n",
        "              # old_population = population\n",
        "              # population = select_population(new_population, fitness_scores, 10) \n",
        "            best_fitness = max(fitness_scores, key=lambda x: x[1])[1]\n",
        "\n",
        "            print(f\"Generation {generation}: Best validation accuracy = {best_fitness}\")\n",
        "                        \n",
        "              # Save the best hyperparameters and their corresponding validation accuracy to the file\n",
        "            best_parameters = max(fitness_scores, key=lambda x: x[1])[0]\n",
        "            writer.writerow({'Generation': generation, \n",
        "                            'Epochs': best_parameters['epochs'], \n",
        "                            'Batch Size': best_parameters['batch_size'], \n",
        "                            'Optimizer': best_parameters['optimizer'], \n",
        "                            'Accuracy': best_fitness\n",
        "                        })\n",
        "              # if best_fitness > 0.97:\n",
        "              #   break\n",
        "    # Return the best individual from the final population\n",
        "    best_parameters = max(fitness_scores, key=lambda x: x[1])[0]\n",
        "    return best_parameters\n"
      ],
      "metadata": {
        "id": "c2A1_zZEWj0T"
      },
      "execution_count": null,
      "outputs": []
    },
    {
      "cell_type": "code",
      "source": [
        "best_params = genetic_algorithm(parameter_values, population_size=10, num_parents=4, mutation_rate=0.1, generations=3, save_file ='result.csv')"
      ],
      "metadata": {
        "colab": {
          "base_uri": "https://localhost:8080/"
        },
        "id": "OIB-GDgbaZ3V",
        "outputId": "e58c8e6b-124f-442f-8cc2-75fa7c1e80c7"
      },
      "execution_count": null,
      "outputs": [
        {
          "output_type": "stream",
          "name": "stdout",
          "text": [
            "Generation 1\n",
            "Epoch 1/5\n",
            "5/5 [==============================] - 72s 11s/step - loss: 0.8583 - accuracy: 0.3533 - val_loss: 0.7515 - val_accuracy: 0.2333\n",
            "Epoch 2/5\n",
            "5/5 [==============================] - 4s 666ms/step - loss: 0.7024 - accuracy: 0.4267 - val_loss: 0.6639 - val_accuracy: 0.7667\n",
            "Epoch 3/5\n",
            "5/5 [==============================] - 4s 880ms/step - loss: 0.6681 - accuracy: 0.6467 - val_loss: 0.6235 - val_accuracy: 0.7667\n",
            "Epoch 4/5\n",
            "5/5 [==============================] - 4s 666ms/step - loss: 0.6552 - accuracy: 0.6467 - val_loss: 0.6078 - val_accuracy: 0.7667\n",
            "Epoch 5/5\n",
            "5/5 [==============================] - 3s 723ms/step - loss: 0.6538 - accuracy: 0.6467 - val_loss: 0.5985 - val_accuracy: 0.7667\n",
            "Epoch 1/5\n",
            "5/5 [==============================] - 6s 1s/step - loss: 0.7712 - accuracy: 0.3600 - val_loss: 0.6810 - val_accuracy: 0.7667\n",
            "Epoch 2/5\n",
            "5/5 [==============================] - 3s 633ms/step - loss: 0.6687 - accuracy: 0.6467 - val_loss: 0.6237 - val_accuracy: 0.7667\n",
            "Epoch 3/5\n",
            "5/5 [==============================] - 3s 647ms/step - loss: 0.6557 - accuracy: 0.6467 - val_loss: 0.5992 - val_accuracy: 0.7667\n",
            "Epoch 4/5\n",
            "5/5 [==============================] - 4s 820ms/step - loss: 0.6520 - accuracy: 0.6467 - val_loss: 0.5898 - val_accuracy: 0.7667\n",
            "Epoch 5/5\n",
            "5/5 [==============================] - 4s 664ms/step - loss: 0.6524 - accuracy: 0.6467 - val_loss: 0.5864 - val_accuracy: 0.7667\n",
            "Epoch 1/5\n",
            "5/5 [==============================] - 5s 784ms/step - loss: 0.7878 - accuracy: 0.6467 - val_loss: 0.5452 - val_accuracy: 0.7667\n",
            "Epoch 2/5\n",
            "5/5 [==============================] - 4s 727ms/step - loss: 0.6823 - accuracy: 0.6467 - val_loss: 0.5460 - val_accuracy: 0.7667\n",
            "Epoch 3/5\n",
            "5/5 [==============================] - 3s 634ms/step - loss: 0.6651 - accuracy: 0.6467 - val_loss: 0.5543 - val_accuracy: 0.7667\n",
            "Epoch 4/5\n",
            "5/5 [==============================] - 3s 654ms/step - loss: 0.6527 - accuracy: 0.6467 - val_loss: 0.5611 - val_accuracy: 0.7667\n",
            "Epoch 5/5\n",
            "5/5 [==============================] - 5s 1s/step - loss: 0.6509 - accuracy: 0.6467 - val_loss: 0.5658 - val_accuracy: 0.7667\n",
            "Epoch 1/5\n",
            "5/5 [==============================] - 5s 828ms/step - loss: 0.6525 - accuracy: 0.6467 - val_loss: 0.5758 - val_accuracy: 0.7667\n",
            "Epoch 2/5\n",
            "5/5 [==============================] - 4s 725ms/step - loss: 0.6490 - accuracy: 0.6467 - val_loss: 0.5755 - val_accuracy: 0.7667\n",
            "Epoch 3/5\n",
            "5/5 [==============================] - 4s 868ms/step - loss: 0.6502 - accuracy: 0.6467 - val_loss: 0.5760 - val_accuracy: 0.7667\n",
            "Epoch 4/5\n",
            "5/5 [==============================] - 4s 736ms/step - loss: 0.6494 - accuracy: 0.6467 - val_loss: 0.5778 - val_accuracy: 0.7667\n",
            "Epoch 5/5\n",
            "5/5 [==============================] - 3s 639ms/step - loss: 0.6525 - accuracy: 0.6467 - val_loss: 0.5701 - val_accuracy: 0.7667\n",
            "Epoch 1/5\n",
            "5/5 [==============================] - 6s 991ms/step - loss: 1.0190 - accuracy: 0.3533 - val_loss: 0.8265 - val_accuracy: 0.2333\n",
            "Epoch 2/5\n",
            "5/5 [==============================] - 4s 687ms/step - loss: 0.7262 - accuracy: 0.3533 - val_loss: 0.6925 - val_accuracy: 0.7667\n",
            "Epoch 3/5\n",
            "5/5 [==============================] - 4s 670ms/step - loss: 0.6772 - accuracy: 0.6467 - val_loss: 0.6478 - val_accuracy: 0.7667\n",
            "Epoch 4/5\n",
            "5/5 [==============================] - 4s 678ms/step - loss: 0.6633 - accuracy: 0.6467 - val_loss: 0.6240 - val_accuracy: 0.7667\n",
            "Epoch 5/5\n",
            "5/5 [==============================] - 4s 772ms/step - loss: 0.6560 - accuracy: 0.6467 - val_loss: 0.6105 - val_accuracy: 0.7667\n",
            "Epoch 1/3\n",
            "5/5 [==============================] - 6s 815ms/step - loss: 0.6924 - accuracy: 0.5933 - val_loss: 0.6036 - val_accuracy: 0.7667\n",
            "Epoch 2/3\n",
            "5/5 [==============================] - 4s 766ms/step - loss: 0.6544 - accuracy: 0.6467 - val_loss: 0.5597 - val_accuracy: 0.7667\n",
            "Epoch 3/3\n",
            "5/5 [==============================] - 3s 713ms/step - loss: 0.6513 - accuracy: 0.6467 - val_loss: 0.5873 - val_accuracy: 0.7667\n",
            "Epoch 1/3\n",
            "5/5 [==============================] - 6s 754ms/step - loss: 0.7162 - accuracy: 0.6400 - val_loss: 0.5646 - val_accuracy: 0.7667\n",
            "Epoch 2/3\n",
            "5/5 [==============================] - 4s 947ms/step - loss: 0.6508 - accuracy: 0.6467 - val_loss: 0.6090 - val_accuracy: 0.7667\n",
            "Epoch 3/3\n",
            "5/5 [==============================] - 3s 717ms/step - loss: 0.6555 - accuracy: 0.6467 - val_loss: 0.5845 - val_accuracy: 0.7667\n",
            "Epoch 1/3\n",
            "5/5 [==============================] - 6s 790ms/step - loss: 0.8523 - accuracy: 0.3933 - val_loss: 0.7056 - val_accuracy: 0.2333\n",
            "Epoch 2/3\n",
            "5/5 [==============================] - 4s 830ms/step - loss: 0.6702 - accuracy: 0.5533 - val_loss: 0.5824 - val_accuracy: 0.7667\n",
            "Epoch 3/3\n",
            "5/5 [==============================] - 3s 659ms/step - loss: 0.6533 - accuracy: 0.6467 - val_loss: 0.5726 - val_accuracy: 0.7667\n",
            "Epoch 1/3\n",
            "5/5 [==============================] - ETA: 0s - loss: 0.7331 - accuracy: 0.5267"
          ]
        },
        {
          "output_type": "stream",
          "name": "stderr",
          "text": [
            "WARNING:tensorflow:5 out of the last 15 calls to <function Model.make_test_function.<locals>.test_function at 0x7fa6d90c1d30> triggered tf.function retracing. Tracing is expensive and the excessive number of tracings could be due to (1) creating @tf.function repeatedly in a loop, (2) passing tensors with different shapes, (3) passing Python objects instead of tensors. For (1), please define your @tf.function outside of the loop. For (2), @tf.function has reduce_retracing=True option that can avoid unnecessary retracing. For (3), please refer to https://www.tensorflow.org/guide/function#controlling_retracing and https://www.tensorflow.org/api_docs/python/tf/function for  more details.\n"
          ]
        },
        {
          "output_type": "stream",
          "name": "stdout",
          "text": [
            "\b\b\b\b\b\b\b\b\b\b\b\b\b\b\b\b\b\b\b\b\b\b\b\b\b\b\b\b\b\b\b\b\b\b\b\b\b\b\b\b\b\b\b\b\b\b\b\b\b\b\b\b\b\b\b\b\b\b\b\b\b\b\b\b\b\b\b\b\b\b\b\b\b\b\b\b\b\b\b\b\r5/5 [==============================] - 6s 1s/step - loss: 0.7331 - accuracy: 0.5267 - val_loss: 0.5948 - val_accuracy: 0.7667\n",
            "Epoch 2/3\n",
            "5/5 [==============================] - 4s 717ms/step - loss: 0.6623 - accuracy: 0.6467 - val_loss: 0.5666 - val_accuracy: 0.7667\n",
            "Epoch 3/3\n",
            "5/5 [==============================] - 4s 675ms/step - loss: 0.6498 - accuracy: 0.6467 - val_loss: 0.5859 - val_accuracy: 0.7667\n",
            "Epoch 1/3\n",
            "5/5 [==============================] - ETA: 0s - loss: 0.7338 - accuracy: 0.6467"
          ]
        },
        {
          "output_type": "stream",
          "name": "stderr",
          "text": [
            "WARNING:tensorflow:5 out of the last 13 calls to <function Model.make_test_function.<locals>.test_function at 0x7fa6d833dd30> triggered tf.function retracing. Tracing is expensive and the excessive number of tracings could be due to (1) creating @tf.function repeatedly in a loop, (2) passing tensors with different shapes, (3) passing Python objects instead of tensors. For (1), please define your @tf.function outside of the loop. For (2), @tf.function has reduce_retracing=True option that can avoid unnecessary retracing. For (3), please refer to https://www.tensorflow.org/guide/function#controlling_retracing and https://www.tensorflow.org/api_docs/python/tf/function for  more details.\n"
          ]
        },
        {
          "output_type": "stream",
          "name": "stdout",
          "text": [
            "\b\b\b\b\b\b\b\b\b\b\b\b\b\b\b\b\b\b\b\b\b\b\b\b\b\b\b\b\b\b\b\b\b\b\b\b\b\b\b\b\b\b\b\b\b\b\b\b\b\b\b\b\b\b\b\b\b\b\b\b\b\b\b\b\b\b\b\b\b\b\b\b\b\b\b\b\b\b\b\b\r5/5 [==============================] - 7s 861ms/step - loss: 0.7338 - accuracy: 0.6467 - val_loss: 0.5506 - val_accuracy: 0.7667\n",
            "Epoch 2/3\n",
            "5/5 [==============================] - 3s 646ms/step - loss: 0.6575 - accuracy: 0.6467 - val_loss: 0.5593 - val_accuracy: 0.7667\n",
            "Epoch 3/3\n",
            "5/5 [==============================] - 4s 664ms/step - loss: 0.6510 - accuracy: 0.6467 - val_loss: 0.5904 - val_accuracy: 0.7667\n",
            "Epoch 1/5\n",
            "5/5 [==============================] - 6s 782ms/step - loss: 0.7612 - accuracy: 0.5667 - val_loss: 0.5605 - val_accuracy: 0.7667\n",
            "Epoch 2/5\n",
            "5/5 [==============================] - 3s 633ms/step - loss: 0.6585 - accuracy: 0.6467 - val_loss: 0.5641 - val_accuracy: 0.7667\n",
            "Epoch 3/5\n",
            "5/5 [==============================] - 4s 728ms/step - loss: 0.6516 - accuracy: 0.6467 - val_loss: 0.5729 - val_accuracy: 0.7667\n",
            "Epoch 4/5\n",
            "5/5 [==============================] - 3s 626ms/step - loss: 0.6617 - accuracy: 0.6467 - val_loss: 0.5677 - val_accuracy: 0.7667\n",
            "Epoch 5/5\n",
            "5/5 [==============================] - 3s 644ms/step - loss: 0.6610 - accuracy: 0.6467 - val_loss: 0.5595 - val_accuracy: 0.7667\n",
            "Epoch 1/5\n",
            "5/5 [==============================] - 7s 931ms/step - loss: 0.6992 - accuracy: 0.6467 - val_loss: 0.5673 - val_accuracy: 0.7667\n",
            "Epoch 2/5\n",
            "5/5 [==============================] - 3s 632ms/step - loss: 0.6590 - accuracy: 0.6467 - val_loss: 0.5620 - val_accuracy: 0.7667\n",
            "Epoch 3/5\n",
            "5/5 [==============================] - 4s 731ms/step - loss: 0.6551 - accuracy: 0.6467 - val_loss: 0.5711 - val_accuracy: 0.7667\n",
            "Epoch 4/5\n",
            "5/5 [==============================] - 4s 873ms/step - loss: 0.6516 - accuracy: 0.6467 - val_loss: 0.5707 - val_accuracy: 0.7667\n",
            "Epoch 5/5\n",
            "5/5 [==============================] - 3s 646ms/step - loss: 0.6569 - accuracy: 0.6467 - val_loss: 0.5847 - val_accuracy: 0.7667\n",
            "Epoch 1/5\n",
            "5/5 [==============================] - 7s 997ms/step - loss: 0.7166 - accuracy: 0.6467 - val_loss: 0.5481 - val_accuracy: 0.7667\n",
            "Epoch 2/5\n",
            "5/5 [==============================] - 4s 680ms/step - loss: 0.6593 - accuracy: 0.6467 - val_loss: 0.5771 - val_accuracy: 0.7667\n",
            "Epoch 3/5\n",
            "5/5 [==============================] - 3s 649ms/step - loss: 0.6522 - accuracy: 0.6467 - val_loss: 0.5787 - val_accuracy: 0.7667\n",
            "Epoch 4/5\n",
            "5/5 [==============================] - 4s 674ms/step - loss: 0.6511 - accuracy: 0.6467 - val_loss: 0.5857 - val_accuracy: 0.7667\n",
            "Epoch 5/5\n",
            "5/5 [==============================] - 4s 892ms/step - loss: 0.6495 - accuracy: 0.6467 - val_loss: 0.5735 - val_accuracy: 0.7667\n",
            "Epoch 1/5\n",
            "5/5 [==============================] - 6s 801ms/step - loss: 0.7111 - accuracy: 0.6200 - val_loss: 0.5778 - val_accuracy: 0.7667\n",
            "Epoch 2/5\n",
            "5/5 [==============================] - 4s 699ms/step - loss: 0.6544 - accuracy: 0.6467 - val_loss: 0.5736 - val_accuracy: 0.7667\n",
            "Epoch 3/5\n",
            "5/5 [==============================] - 5s 855ms/step - loss: 0.6619 - accuracy: 0.6467 - val_loss: 0.5861 - val_accuracy: 0.7667\n",
            "Epoch 4/5\n",
            "5/5 [==============================] - 4s 671ms/step - loss: 0.6538 - accuracy: 0.6467 - val_loss: 0.5837 - val_accuracy: 0.7667\n",
            "Epoch 5/5\n",
            "5/5 [==============================] - 4s 671ms/step - loss: 0.6548 - accuracy: 0.6467 - val_loss: 0.5694 - val_accuracy: 0.7667\n",
            "Epoch 1/5\n",
            "5/5 [==============================] - 7s 915ms/step - loss: 0.7493 - accuracy: 0.5667 - val_loss: 0.5610 - val_accuracy: 0.7667\n",
            "Epoch 2/5\n",
            "5/5 [==============================] - 4s 676ms/step - loss: 0.6547 - accuracy: 0.6467 - val_loss: 0.5726 - val_accuracy: 0.7667\n",
            "Epoch 3/5\n",
            "5/5 [==============================] - 4s 661ms/step - loss: 0.6496 - accuracy: 0.6467 - val_loss: 0.5771 - val_accuracy: 0.7667\n",
            "Epoch 4/5\n",
            "5/5 [==============================] - 5s 1s/step - loss: 0.6573 - accuracy: 0.6467 - val_loss: 0.5641 - val_accuracy: 0.7667\n",
            "Epoch 5/5\n",
            "5/5 [==============================] - 4s 675ms/step - loss: 0.6517 - accuracy: 0.6467 - val_loss: 0.5634 - val_accuracy: 0.7667\n",
            "Epoch 1/5\n",
            "5/5 [==============================] - 7s 1s/step - loss: 0.9326 - accuracy: 0.5800 - val_loss: 0.6212 - val_accuracy: 0.7667\n",
            "Epoch 2/5\n",
            "5/5 [==============================] - 3s 615ms/step - loss: 0.6862 - accuracy: 0.6467 - val_loss: 0.5644 - val_accuracy: 0.7667\n",
            "Epoch 3/5\n",
            "5/5 [==============================] - 3s 609ms/step - loss: 0.6457 - accuracy: 0.6467 - val_loss: 0.5899 - val_accuracy: 0.7667\n",
            "Epoch 4/5\n",
            "5/5 [==============================] - 3s 603ms/step - loss: 0.6622 - accuracy: 0.6467 - val_loss: 0.6400 - val_accuracy: 0.7667\n",
            "Epoch 5/5\n",
            "5/5 [==============================] - 4s 961ms/step - loss: 0.6630 - accuracy: 0.6467 - val_loss: 0.6509 - val_accuracy: 0.7667\n",
            "Epoch 1/5\n",
            "5/5 [==============================] - 5s 684ms/step - loss: 1.8981 - accuracy: 0.5533 - val_loss: 0.7707 - val_accuracy: 0.2333\n",
            "Epoch 2/5\n",
            "5/5 [==============================] - 3s 645ms/step - loss: 0.6598 - accuracy: 0.6200 - val_loss: 0.5453 - val_accuracy: 0.7667\n",
            "Epoch 3/5\n",
            "5/5 [==============================] - 4s 1s/step - loss: 0.6437 - accuracy: 0.6467 - val_loss: 0.5680 - val_accuracy: 0.7667\n",
            "Epoch 4/5\n",
            "5/5 [==============================] - 3s 599ms/step - loss: 0.6468 - accuracy: 0.6467 - val_loss: 0.5420 - val_accuracy: 0.7667\n",
            "Epoch 5/5\n",
            "5/5 [==============================] - 3s 614ms/step - loss: 0.6685 - accuracy: 0.6467 - val_loss: 0.6611 - val_accuracy: 0.7000\n",
            "Epoch 1/5\n",
            "5/5 [==============================] - 6s 834ms/step - loss: 1.3281 - accuracy: 0.5133 - val_loss: 0.5504 - val_accuracy: 0.7667\n",
            "Epoch 2/5\n",
            "5/5 [==============================] - 3s 604ms/step - loss: 0.6810 - accuracy: 0.5867 - val_loss: 0.6095 - val_accuracy: 0.7667\n",
            "Epoch 3/5\n",
            "5/5 [==============================] - 3s 595ms/step - loss: 0.6914 - accuracy: 0.6467 - val_loss: 0.5474 - val_accuracy: 0.7667\n",
            "Epoch 4/5\n",
            "5/5 [==============================] - 3s 645ms/step - loss: 0.6556 - accuracy: 0.6133 - val_loss: 0.6218 - val_accuracy: 0.7667\n",
            "Epoch 5/5\n",
            "5/5 [==============================] - 3s 595ms/step - loss: 0.6587 - accuracy: 0.6467 - val_loss: 0.6051 - val_accuracy: 0.7667\n",
            "Epoch 1/5\n",
            "5/5 [==============================] - 5s 652ms/step - loss: 2.3243 - accuracy: 0.5733 - val_loss: 0.6581 - val_accuracy: 0.7667\n",
            "Epoch 2/5\n",
            "5/5 [==============================] - 4s 799ms/step - loss: 0.6668 - accuracy: 0.6467 - val_loss: 0.5978 - val_accuracy: 0.7667\n",
            "Epoch 3/5\n",
            "5/5 [==============================] - 3s 642ms/step - loss: 0.6852 - accuracy: 0.6467 - val_loss: 0.6089 - val_accuracy: 0.7667\n",
            "Epoch 4/5\n",
            "5/5 [==============================] - 3s 597ms/step - loss: 0.6550 - accuracy: 0.6467 - val_loss: 0.5827 - val_accuracy: 0.7667\n",
            "Epoch 5/5\n",
            "5/5 [==============================] - 3s 600ms/step - loss: 0.6454 - accuracy: 0.6467 - val_loss: 0.5848 - val_accuracy: 0.7667\n",
            "Epoch 1/5\n",
            "5/5 [==============================] - 6s 802ms/step - loss: 2.9090 - accuracy: 0.5400 - val_loss: 0.7021 - val_accuracy: 0.2333\n",
            "Epoch 2/5\n",
            "5/5 [==============================] - 3s 588ms/step - loss: 0.6747 - accuracy: 0.5667 - val_loss: 0.5458 - val_accuracy: 0.7667\n",
            "Epoch 3/5\n",
            "5/5 [==============================] - 3s 612ms/step - loss: 0.6595 - accuracy: 0.6467 - val_loss: 0.5609 - val_accuracy: 0.7667\n",
            "Epoch 4/5\n",
            "5/5 [==============================] - 3s 652ms/step - loss: 0.7017 - accuracy: 0.6467 - val_loss: 0.6436 - val_accuracy: 0.7667\n",
            "Epoch 5/5\n",
            "5/5 [==============================] - 3s 649ms/step - loss: 0.6450 - accuracy: 0.6467 - val_loss: 0.6105 - val_accuracy: 0.7667\n",
            "Epoch 1/2\n",
            "5/5 [==============================] - 5s 809ms/step - loss: 1.4193 - accuracy: 0.5667 - val_loss: 0.5550 - val_accuracy: 0.7667\n",
            "Epoch 2/2\n",
            "5/5 [==============================] - 4s 909ms/step - loss: 0.6655 - accuracy: 0.6467 - val_loss: 0.5612 - val_accuracy: 0.7667\n",
            "Epoch 1/2\n",
            "5/5 [==============================] - 5s 929ms/step - loss: 1.0400 - accuracy: 0.5200 - val_loss: 0.7632 - val_accuracy: 0.2333\n",
            "Epoch 2/2\n",
            "5/5 [==============================] - 4s 663ms/step - loss: 0.7216 - accuracy: 0.6067 - val_loss: 0.5637 - val_accuracy: 0.7667\n",
            "Epoch 1/2\n",
            "5/5 [==============================] - 5s 781ms/step - loss: 0.9124 - accuracy: 0.5667 - val_loss: 0.8850 - val_accuracy: 0.2333\n",
            "Epoch 2/2\n",
            "5/5 [==============================] - 4s 675ms/step - loss: 0.7038 - accuracy: 0.5667 - val_loss: 0.6062 - val_accuracy: 0.7667\n",
            "Epoch 1/2\n",
            "5/5 [==============================] - 6s 824ms/step - loss: 1.3438 - accuracy: 0.4867 - val_loss: 0.6027 - val_accuracy: 0.7667\n",
            "Epoch 2/2\n",
            "5/5 [==============================] - 3s 639ms/step - loss: 0.8512 - accuracy: 0.5467 - val_loss: 0.5587 - val_accuracy: 0.7667\n",
            "Epoch 1/2\n",
            "5/5 [==============================] - 6s 996ms/step - loss: 1.1418 - accuracy: 0.5467 - val_loss: 0.5710 - val_accuracy: 0.7667\n",
            "Epoch 2/2\n",
            "5/5 [==============================] - 4s 661ms/step - loss: 0.6805 - accuracy: 0.6467 - val_loss: 1.1834 - val_accuracy: 0.2333\n",
            "Epoch 1/2\n",
            "5/5 [==============================] - 6s 956ms/step - loss: 2.4175 - accuracy: 0.5933 - val_loss: 0.5528 - val_accuracy: 0.7667\n",
            "Epoch 2/2\n",
            "5/5 [==============================] - 3s 652ms/step - loss: 0.6949 - accuracy: 0.5400 - val_loss: 0.5691 - val_accuracy: 0.7667\n",
            "Epoch 1/2\n",
            "5/5 [==============================] - 6s 857ms/step - loss: 1.4319 - accuracy: 0.6000 - val_loss: 0.6486 - val_accuracy: 0.7667\n",
            "Epoch 2/2\n",
            "5/5 [==============================] - 3s 588ms/step - loss: 0.9200 - accuracy: 0.6133 - val_loss: 0.6805 - val_accuracy: 0.7667\n",
            "Epoch 1/2\n",
            "5/5 [==============================] - 5s 656ms/step - loss: 1.5561 - accuracy: 0.5467 - val_loss: 0.5605 - val_accuracy: 0.7667\n",
            "Epoch 2/2\n",
            "5/5 [==============================] - 4s 766ms/step - loss: 0.8307 - accuracy: 0.5667 - val_loss: 0.5494 - val_accuracy: 0.7667\n",
            "Epoch 1/2\n",
            "5/5 [==============================] - 5s 659ms/step - loss: 1.4171 - accuracy: 0.5200 - val_loss: 0.6701 - val_accuracy: 0.7667\n",
            "Epoch 2/2\n",
            "5/5 [==============================] - 3s 603ms/step - loss: 0.6632 - accuracy: 0.6467 - val_loss: 0.6609 - val_accuracy: 0.7667\n",
            "Epoch 1/2\n",
            "5/5 [==============================] - 6s 770ms/step - loss: 3.1550 - accuracy: 0.5267 - val_loss: 0.6535 - val_accuracy: 0.7667\n",
            "Epoch 2/2\n",
            "5/5 [==============================] - 3s 618ms/step - loss: 0.6827 - accuracy: 0.6467 - val_loss: 0.6898 - val_accuracy: 0.7667\n",
            "Epoch 1/2\n",
            "5/5 [==============================] - 7s 890ms/step - loss: 1.1372 - accuracy: 0.4600 - val_loss: 0.5820 - val_accuracy: 0.7667\n",
            "Epoch 2/2\n",
            "5/5 [==============================] - 4s 652ms/step - loss: 0.6715 - accuracy: 0.6467 - val_loss: 0.6169 - val_accuracy: 0.7667\n",
            "Epoch 1/2\n",
            "5/5 [==============================] - 6s 725ms/step - loss: 0.7119 - accuracy: 0.5000 - val_loss: 0.5716 - val_accuracy: 0.7667\n",
            "Epoch 2/2\n",
            "5/5 [==============================] - 4s 735ms/step - loss: 0.6682 - accuracy: 0.6600 - val_loss: 0.6352 - val_accuracy: 0.7667\n",
            "Epoch 1/2\n",
            "5/5 [==============================] - 5s 653ms/step - loss: 0.9397 - accuracy: 0.4600 - val_loss: 0.7312 - val_accuracy: 0.2333\n",
            "Epoch 2/2\n",
            "5/5 [==============================] - 3s 592ms/step - loss: 0.6799 - accuracy: 0.5667 - val_loss: 0.5760 - val_accuracy: 0.7667\n",
            "Epoch 1/2\n",
            "5/5 [==============================] - 5s 666ms/step - loss: 0.8889 - accuracy: 0.4933 - val_loss: 0.5808 - val_accuracy: 0.7667\n",
            "Epoch 2/2\n",
            "5/5 [==============================] - 3s 604ms/step - loss: 0.6732 - accuracy: 0.6467 - val_loss: 0.6207 - val_accuracy: 0.7667\n",
            "Epoch 1/2\n",
            "5/5 [==============================] - 6s 706ms/step - loss: 0.8946 - accuracy: 0.5933 - val_loss: 0.5833 - val_accuracy: 0.7667\n",
            "Epoch 2/2\n",
            "5/5 [==============================] - 3s 617ms/step - loss: 0.6716 - accuracy: 0.6467 - val_loss: 0.5496 - val_accuracy: 0.7667\n",
            "Epoch 1/2\n",
            "5/5 [==============================] - 7s 911ms/step - loss: 1.4167 - accuracy: 0.6333 - val_loss: 3.3059 - val_accuracy: 0.2333\n",
            "Epoch 2/2\n",
            "5/5 [==============================] - 4s 661ms/step - loss: 1.7975 - accuracy: 0.4200 - val_loss: 1.3388 - val_accuracy: 0.2333\n",
            "Epoch 1/2\n",
            "5/5 [==============================] - 7s 1s/step - loss: 0.8703 - accuracy: 0.5333 - val_loss: 0.5647 - val_accuracy: 0.7667\n",
            "Epoch 2/2\n",
            "5/5 [==============================] - 4s 671ms/step - loss: 0.7080 - accuracy: 0.6467 - val_loss: 0.5946 - val_accuracy: 0.7667\n",
            "Epoch 1/2\n",
            "5/5 [==============================] - 6s 765ms/step - loss: 0.9130 - accuracy: 0.5867 - val_loss: 0.7766 - val_accuracy: 0.7667\n",
            "Epoch 2/2\n",
            "5/5 [==============================] - 5s 910ms/step - loss: 0.8142 - accuracy: 0.6467 - val_loss: 0.5493 - val_accuracy: 0.7667\n",
            "Epoch 1/2\n",
            "5/5 [==============================] - 6s 904ms/step - loss: 1.6043 - accuracy: 0.6467 - val_loss: 4.3136 - val_accuracy: 0.2333\n",
            "Epoch 2/2\n",
            "5/5 [==============================] - 4s 913ms/step - loss: 0.9883 - accuracy: 0.6067 - val_loss: 0.5447 - val_accuracy: 0.7667\n",
            "Epoch 1/2\n",
            "5/5 [==============================] - 6s 760ms/step - loss: 1.9669 - accuracy: 0.5333 - val_loss: 0.6904 - val_accuracy: 0.7667\n",
            "Epoch 2/2\n",
            "5/5 [==============================] - 3s 640ms/step - loss: 0.8621 - accuracy: 0.5867 - val_loss: 0.6325 - val_accuracy: 0.7667\n",
            "Epoch 1/5\n",
            "5/5 [==============================] - 6s 842ms/step - loss: 0.6665 - accuracy: 0.5667 - val_loss: 0.5968 - val_accuracy: 0.7667\n",
            "Epoch 2/5\n",
            "5/5 [==============================] - 3s 653ms/step - loss: 0.6585 - accuracy: 0.6467 - val_loss: 0.5871 - val_accuracy: 0.7667\n",
            "Epoch 3/5\n",
            "5/5 [==============================] - 3s 656ms/step - loss: 0.6562 - accuracy: 0.6467 - val_loss: 0.5926 - val_accuracy: 0.7667\n",
            "Epoch 4/5\n",
            "5/5 [==============================] - 4s 870ms/step - loss: 0.6511 - accuracy: 0.6467 - val_loss: 0.6177 - val_accuracy: 0.7667\n",
            "Epoch 5/5\n",
            "5/5 [==============================] - 3s 647ms/step - loss: 0.6487 - accuracy: 0.6467 - val_loss: 0.5946 - val_accuracy: 0.7667\n",
            "Epoch 1/5\n",
            "5/5 [==============================] - 5s 742ms/step - loss: 0.6736 - accuracy: 0.5933 - val_loss: 0.5954 - val_accuracy: 0.7667\n",
            "Epoch 2/5\n",
            "5/5 [==============================] - 4s 868ms/step - loss: 0.6641 - accuracy: 0.6467 - val_loss: 0.5988 - val_accuracy: 0.7667\n",
            "Epoch 3/5\n",
            "5/5 [==============================] - 3s 653ms/step - loss: 0.6606 - accuracy: 0.6467 - val_loss: 0.6072 - val_accuracy: 0.7667\n",
            "Epoch 4/5\n",
            "5/5 [==============================] - 3s 624ms/step - loss: 0.6513 - accuracy: 0.6467 - val_loss: 0.5822 - val_accuracy: 0.7667\n",
            "Epoch 5/5\n",
            "5/5 [==============================] - 4s 676ms/step - loss: 0.6575 - accuracy: 0.6467 - val_loss: 0.6168 - val_accuracy: 0.7667\n",
            "Epoch 1/5\n",
            "5/5 [==============================] - 6s 794ms/step - loss: 0.6829 - accuracy: 0.5667 - val_loss: 0.6324 - val_accuracy: 0.7667\n",
            "Epoch 2/5\n",
            "5/5 [==============================] - 4s 668ms/step - loss: 0.6578 - accuracy: 0.6467 - val_loss: 0.6082 - val_accuracy: 0.7667\n",
            "Epoch 3/5\n",
            "5/5 [==============================] - 4s 666ms/step - loss: 0.6451 - accuracy: 0.6467 - val_loss: 0.6190 - val_accuracy: 0.7667\n",
            "Epoch 4/5\n",
            "5/5 [==============================] - 4s 651ms/step - loss: 0.6490 - accuracy: 0.6467 - val_loss: 0.5909 - val_accuracy: 0.7667\n",
            "Epoch 5/5\n",
            "5/5 [==============================] - 3s 634ms/step - loss: 0.6446 - accuracy: 0.6467 - val_loss: 0.5746 - val_accuracy: 0.7667\n",
            "Epoch 1/5\n",
            "5/5 [==============================] - 6s 989ms/step - loss: 0.6890 - accuracy: 0.5267 - val_loss: 0.6291 - val_accuracy: 0.7667\n",
            "Epoch 2/5\n",
            "5/5 [==============================] - 3s 638ms/step - loss: 0.6510 - accuracy: 0.6467 - val_loss: 0.6129 - val_accuracy: 0.7667\n",
            "Epoch 3/5\n",
            "5/5 [==============================] - 3s 648ms/step - loss: 0.6483 - accuracy: 0.6467 - val_loss: 0.5906 - val_accuracy: 0.7667\n",
            "Epoch 4/5\n",
            "5/5 [==============================] - 4s 702ms/step - loss: 0.6530 - accuracy: 0.6467 - val_loss: 0.5876 - val_accuracy: 0.7667\n",
            "Epoch 5/5\n",
            "5/5 [==============================] - 4s 792ms/step - loss: 0.6438 - accuracy: 0.6467 - val_loss: 0.6013 - val_accuracy: 0.7667\n",
            "Epoch 1/5\n",
            "5/5 [==============================] - 5s 772ms/step - loss: 0.6643 - accuracy: 0.6333 - val_loss: 0.6519 - val_accuracy: 0.7667\n",
            "Epoch 2/5\n",
            "5/5 [==============================] - 4s 892ms/step - loss: 0.6633 - accuracy: 0.6267 - val_loss: 0.6084 - val_accuracy: 0.7667\n",
            "Epoch 3/5\n",
            "5/5 [==============================] - 4s 644ms/step - loss: 0.6472 - accuracy: 0.6467 - val_loss: 0.6322 - val_accuracy: 0.7667\n",
            "Epoch 4/5\n",
            "5/5 [==============================] - 3s 630ms/step - loss: 0.6432 - accuracy: 0.6467 - val_loss: 0.5714 - val_accuracy: 0.7667\n",
            "Epoch 5/5\n",
            "5/5 [==============================] - 3s 649ms/step - loss: 0.6338 - accuracy: 0.6467 - val_loss: 0.6518 - val_accuracy: 0.7667\n",
            "Epoch 1/3\n",
            "5/5 [==============================] - 7s 666ms/step - loss: 1.3234 - accuracy: 0.5667 - val_loss: 0.5874 - val_accuracy: 0.7667\n",
            "Epoch 2/3\n",
            "5/5 [==============================] - 3s 612ms/step - loss: 0.6335 - accuracy: 0.6467 - val_loss: 0.6499 - val_accuracy: 0.7667\n",
            "Epoch 3/3\n",
            "5/5 [==============================] - 3s 598ms/step - loss: 0.6150 - accuracy: 0.6467 - val_loss: 0.5735 - val_accuracy: 0.7667\n",
            "Epoch 1/3\n",
            "5/5 [==============================] - 5s 663ms/step - loss: 0.7226 - accuracy: 0.5400 - val_loss: 0.5884 - val_accuracy: 0.7667\n",
            "Epoch 2/3\n",
            "5/5 [==============================] - 3s 638ms/step - loss: 0.6389 - accuracy: 0.6467 - val_loss: 0.7496 - val_accuracy: 0.2333\n",
            "Epoch 3/3\n",
            "5/5 [==============================] - 4s 825ms/step - loss: 0.6754 - accuracy: 0.5533 - val_loss: 0.5699 - val_accuracy: 0.7667\n",
            "Epoch 1/3\n",
            "5/5 [==============================] - 5s 663ms/step - loss: 0.8120 - accuracy: 0.5867 - val_loss: 0.7811 - val_accuracy: 0.2333\n",
            "Epoch 2/3\n",
            "5/5 [==============================] - 3s 609ms/step - loss: 0.6697 - accuracy: 0.6067 - val_loss: 0.5463 - val_accuracy: 0.7667\n",
            "Epoch 3/3\n",
            "5/5 [==============================] - 4s 962ms/step - loss: 0.6070 - accuracy: 0.6733 - val_loss: 0.5548 - val_accuracy: 0.7667\n",
            "Epoch 1/3\n",
            "5/5 [==============================] - 6s 679ms/step - loss: 1.2400 - accuracy: 0.5400 - val_loss: 0.5978 - val_accuracy: 0.7667\n",
            "Epoch 2/3\n",
            "5/5 [==============================] - 3s 597ms/step - loss: 0.6574 - accuracy: 0.6467 - val_loss: 0.6003 - val_accuracy: 0.7667\n",
            "Epoch 3/3\n",
            "5/5 [==============================] - 4s 812ms/step - loss: 0.6492 - accuracy: 0.6467 - val_loss: 0.5879 - val_accuracy: 0.7667\n",
            "Epoch 1/3\n",
            "5/5 [==============================] - 5s 697ms/step - loss: 0.8308 - accuracy: 0.5933 - val_loss: 0.6153 - val_accuracy: 0.7667\n",
            "Epoch 2/3\n",
            "5/5 [==============================] - 3s 632ms/step - loss: 0.6850 - accuracy: 0.6667 - val_loss: 0.5761 - val_accuracy: 0.7667\n",
            "Epoch 3/3\n",
            "5/5 [==============================] - 3s 592ms/step - loss: 0.6499 - accuracy: 0.6467 - val_loss: 0.5494 - val_accuracy: 0.7667\n",
            "Generation 0: Best validation accuracy = [0.7666666507720947]\n",
            "Generation 2\n",
            "Epoch 1/3\n",
            "5/5 [==============================] - 6s 945ms/step - loss: 0.7076 - accuracy: 0.5000 - val_loss: 0.5687 - val_accuracy: 0.7667\n",
            "Epoch 2/3\n",
            "5/5 [==============================] - 3s 625ms/step - loss: 0.6672 - accuracy: 0.6467 - val_loss: 0.6751 - val_accuracy: 0.7667\n",
            "Epoch 3/3\n",
            "5/5 [==============================] - 3s 612ms/step - loss: 0.6660 - accuracy: 0.6467 - val_loss: 0.5577 - val_accuracy: 0.7667\n",
            "Epoch 1/5\n",
            "5/5 [==============================] - 7s 999ms/step - loss: 0.7484 - accuracy: 0.5800 - val_loss: 0.5581 - val_accuracy: 0.7667\n",
            "Epoch 2/5\n",
            "5/5 [==============================] - 4s 774ms/step - loss: 0.6523 - accuracy: 0.6467 - val_loss: 0.5732 - val_accuracy: 0.7667\n",
            "Epoch 3/5\n",
            "5/5 [==============================] - 4s 663ms/step - loss: 0.6545 - accuracy: 0.6467 - val_loss: 0.6010 - val_accuracy: 0.7667\n",
            "Epoch 4/5\n",
            "5/5 [==============================] - 4s 784ms/step - loss: 0.6555 - accuracy: 0.6467 - val_loss: 0.5874 - val_accuracy: 0.7667\n",
            "Epoch 5/5\n",
            "5/5 [==============================] - 4s 810ms/step - loss: 0.6560 - accuracy: 0.6467 - val_loss: 0.5821 - val_accuracy: 0.7667\n",
            "Epoch 1/3\n",
            "5/5 [==============================] - 6s 796ms/step - loss: 0.7732 - accuracy: 0.4067 - val_loss: 0.7307 - val_accuracy: 0.2333\n",
            "Epoch 2/3\n",
            "5/5 [==============================] - 4s 719ms/step - loss: 0.6809 - accuracy: 0.5667 - val_loss: 0.5878 - val_accuracy: 0.7667\n",
            "Epoch 3/3\n",
            "5/5 [==============================] - 4s 699ms/step - loss: 0.6494 - accuracy: 0.6467 - val_loss: 0.5507 - val_accuracy: 0.7667\n",
            "Epoch 1/3\n",
            "5/5 [==============================] - 6s 808ms/step - loss: 0.8007 - accuracy: 0.3933 - val_loss: 0.7815 - val_accuracy: 0.2333\n",
            "Epoch 2/3\n",
            "5/5 [==============================] - 4s 668ms/step - loss: 0.6958 - accuracy: 0.5133 - val_loss: 0.6134 - val_accuracy: 0.7667\n",
            "Epoch 3/3\n",
            "5/5 [==============================] - 5s 908ms/step - loss: 0.6555 - accuracy: 0.6467 - val_loss: 0.5532 - val_accuracy: 0.7667\n",
            "Epoch 1/3\n",
            "5/5 [==============================] - 6s 741ms/step - loss: 0.7254 - accuracy: 0.6333 - val_loss: 0.5439 - val_accuracy: 0.7667\n",
            "Epoch 2/3\n",
            "5/5 [==============================] - 4s 728ms/step - loss: 0.6760 - accuracy: 0.6467 - val_loss: 0.5629 - val_accuracy: 0.7667\n",
            "Epoch 3/3\n",
            "5/5 [==============================] - 4s 655ms/step - loss: 0.6493 - accuracy: 0.6467 - val_loss: 0.6120 - val_accuracy: 0.7667\n",
            "Epoch 1/3\n",
            "5/5 [==============================] - 6s 915ms/step - loss: 0.7355 - accuracy: 0.5667 - val_loss: 0.5433 - val_accuracy: 0.7667\n",
            "Epoch 2/3\n",
            "5/5 [==============================] - 4s 735ms/step - loss: 0.6621 - accuracy: 0.6467 - val_loss: 0.5689 - val_accuracy: 0.7667\n",
            "Epoch 3/3\n",
            "5/5 [==============================] - 4s 909ms/step - loss: 0.6533 - accuracy: 0.6467 - val_loss: 0.6174 - val_accuracy: 0.7667\n",
            "Epoch 1/3\n",
            "5/5 [==============================] - 6s 835ms/step - loss: 0.7425 - accuracy: 0.6133 - val_loss: 0.5442 - val_accuracy: 0.7667\n",
            "Epoch 2/3\n",
            "5/5 [==============================] - 4s 832ms/step - loss: 0.6797 - accuracy: 0.6467 - val_loss: 0.5598 - val_accuracy: 0.7667\n",
            "Epoch 3/3\n",
            "5/5 [==============================] - 4s 831ms/step - loss: 0.6530 - accuracy: 0.6467 - val_loss: 0.6061 - val_accuracy: 0.7667\n",
            "Epoch 1/5\n",
            "5/5 [==============================] - 6s 777ms/step - loss: 0.6646 - accuracy: 0.6467 - val_loss: 0.6148 - val_accuracy: 0.7667\n",
            "Epoch 2/5\n",
            "5/5 [==============================] - 4s 826ms/step - loss: 0.6558 - accuracy: 0.6467 - val_loss: 0.5910 - val_accuracy: 0.7667\n",
            "Epoch 3/5\n",
            "5/5 [==============================] - 4s 689ms/step - loss: 0.6647 - accuracy: 0.6467 - val_loss: 0.5846 - val_accuracy: 0.7667\n",
            "Epoch 4/5\n",
            "5/5 [==============================] - 4s 677ms/step - loss: 0.6549 - accuracy: 0.6467 - val_loss: 0.6021 - val_accuracy: 0.7667\n",
            "Epoch 5/5\n",
            "5/5 [==============================] - 4s 670ms/step - loss: 0.6573 - accuracy: 0.6467 - val_loss: 0.5825 - val_accuracy: 0.7667\n",
            "Epoch 1/5\n",
            "5/5 [==============================] - 6s 742ms/step - loss: 0.6704 - accuracy: 0.6333 - val_loss: 0.5712 - val_accuracy: 0.7667\n",
            "Epoch 2/5\n",
            "5/5 [==============================] - 4s 659ms/step - loss: 0.6661 - accuracy: 0.6467 - val_loss: 0.5748 - val_accuracy: 0.7667\n",
            "Epoch 3/5\n",
            "5/5 [==============================] - 4s 855ms/step - loss: 0.6516 - accuracy: 0.6467 - val_loss: 0.5681 - val_accuracy: 0.7667\n",
            "Epoch 4/5\n",
            "5/5 [==============================] - 4s 655ms/step - loss: 0.6530 - accuracy: 0.6467 - val_loss: 0.5712 - val_accuracy: 0.7667\n",
            "Epoch 5/5\n",
            "5/5 [==============================] - 4s 661ms/step - loss: 0.6531 - accuracy: 0.6467 - val_loss: 0.5729 - val_accuracy: 0.7667\n",
            "Epoch 1/5\n",
            "5/5 [==============================] - 7s 994ms/step - loss: 0.7035 - accuracy: 0.6067 - val_loss: 0.5721 - val_accuracy: 0.7667\n",
            "Epoch 2/5\n",
            "5/5 [==============================] - 3s 634ms/step - loss: 0.6649 - accuracy: 0.6467 - val_loss: 0.5732 - val_accuracy: 0.7667\n",
            "Epoch 3/5\n",
            "5/5 [==============================] - 4s 736ms/step - loss: 0.6532 - accuracy: 0.6467 - val_loss: 0.5934 - val_accuracy: 0.7667\n",
            "Epoch 4/5\n",
            "5/5 [==============================] - 4s 808ms/step - loss: 0.6558 - accuracy: 0.6467 - val_loss: 0.5775 - val_accuracy: 0.7667\n",
            "Epoch 5/5\n",
            "5/5 [==============================] - 4s 666ms/step - loss: 0.6527 - accuracy: 0.6467 - val_loss: 0.5783 - val_accuracy: 0.7667\n",
            "Epoch 1/5\n",
            "5/5 [==============================] - 6s 849ms/step - loss: 0.7973 - accuracy: 0.6467 - val_loss: 0.5509 - val_accuracy: 0.7667\n",
            "Epoch 2/5\n",
            "5/5 [==============================] - 5s 886ms/step - loss: 0.6555 - accuracy: 0.6467 - val_loss: 0.5808 - val_accuracy: 0.7667\n",
            "Epoch 3/5\n",
            "5/5 [==============================] - 4s 677ms/step - loss: 0.6532 - accuracy: 0.6467 - val_loss: 0.5883 - val_accuracy: 0.7667\n",
            "Epoch 4/5\n",
            "5/5 [==============================] - 3s 653ms/step - loss: 0.6509 - accuracy: 0.6467 - val_loss: 0.5815 - val_accuracy: 0.7667\n",
            "Epoch 5/5\n",
            "5/5 [==============================] - 4s 946ms/step - loss: 0.6648 - accuracy: 0.6467 - val_loss: 0.5705 - val_accuracy: 0.7667\n",
            "Epoch 1/5\n",
            "5/5 [==============================] - 5s 803ms/step - loss: 0.7570 - accuracy: 0.5667 - val_loss: 0.5513 - val_accuracy: 0.7667\n",
            "Epoch 2/5\n",
            "5/5 [==============================] - 4s 672ms/step - loss: 0.6566 - accuracy: 0.6467 - val_loss: 0.5807 - val_accuracy: 0.7667\n",
            "Epoch 3/5\n",
            "5/5 [==============================] - 4s 869ms/step - loss: 0.6539 - accuracy: 0.6467 - val_loss: 0.5873 - val_accuracy: 0.7667\n",
            "Epoch 4/5\n",
            "5/5 [==============================] - 4s 665ms/step - loss: 0.6506 - accuracy: 0.6467 - val_loss: 0.5657 - val_accuracy: 0.7667\n",
            "Epoch 5/5\n",
            "5/5 [==============================] - 4s 769ms/step - loss: 0.6660 - accuracy: 0.6467 - val_loss: 0.5775 - val_accuracy: 0.7667\n",
            "Epoch 1/3\n",
            "5/5 [==============================] - 6s 830ms/step - loss: 0.6692 - accuracy: 0.6467 - val_loss: 0.6092 - val_accuracy: 0.7667\n",
            "Epoch 2/3\n",
            "5/5 [==============================] - 3s 616ms/step - loss: 0.6545 - accuracy: 0.6467 - val_loss: 0.5871 - val_accuracy: 0.7667\n",
            "Epoch 3/3\n",
            "5/5 [==============================] - 3s 613ms/step - loss: 0.6517 - accuracy: 0.6467 - val_loss: 0.5817 - val_accuracy: 0.7667\n",
            "Epoch 1/3\n",
            "5/5 [==============================] - 5s 776ms/step - loss: 0.7755 - accuracy: 0.3533 - val_loss: 0.7024 - val_accuracy: 0.2333\n",
            "Epoch 2/3\n",
            "5/5 [==============================] - 3s 605ms/step - loss: 0.6820 - accuracy: 0.6067 - val_loss: 0.6312 - val_accuracy: 0.7667\n",
            "Epoch 3/3\n",
            "5/5 [==============================] - 3s 638ms/step - loss: 0.6590 - accuracy: 0.6467 - val_loss: 0.6055 - val_accuracy: 0.7667\n",
            "Epoch 1/3\n",
            "5/5 [==============================] - 5s 873ms/step - loss: 0.6790 - accuracy: 0.5933 - val_loss: 0.6008 - val_accuracy: 0.7667\n",
            "Epoch 2/3\n",
            "5/5 [==============================] - 3s 615ms/step - loss: 0.6524 - accuracy: 0.6467 - val_loss: 0.5860 - val_accuracy: 0.7667\n",
            "Epoch 3/3\n",
            "5/5 [==============================] - 3s 624ms/step - loss: 0.6514 - accuracy: 0.6467 - val_loss: 0.5796 - val_accuracy: 0.7667\n",
            "Epoch 1/3\n",
            "5/5 [==============================] - 5s 824ms/step - loss: 0.6510 - accuracy: 0.6467 - val_loss: 0.5786 - val_accuracy: 0.7667\n",
            "Epoch 2/3\n",
            "5/5 [==============================] - 3s 618ms/step - loss: 0.6500 - accuracy: 0.6467 - val_loss: 0.5809 - val_accuracy: 0.7667\n",
            "Epoch 3/3\n",
            "5/5 [==============================] - 3s 622ms/step - loss: 0.6498 - accuracy: 0.6467 - val_loss: 0.5738 - val_accuracy: 0.7667\n",
            "Epoch 1/3\n",
            "5/5 [==============================] - 5s 790ms/step - loss: 0.6585 - accuracy: 0.6467 - val_loss: 0.5611 - val_accuracy: 0.7667\n",
            "Epoch 2/3\n",
            "5/5 [==============================] - 3s 660ms/step - loss: 0.6537 - accuracy: 0.6467 - val_loss: 0.5662 - val_accuracy: 0.7667\n",
            "Epoch 3/3\n",
            "5/5 [==============================] - 3s 608ms/step - loss: 0.6518 - accuracy: 0.6467 - val_loss: 0.5731 - val_accuracy: 0.7667\n",
            "Epoch 1/5\n",
            "5/5 [==============================] - 7s 743ms/step - loss: 2.1779 - accuracy: 0.6067 - val_loss: 0.6778 - val_accuracy: 0.7667\n",
            "Epoch 2/5\n",
            "5/5 [==============================] - 3s 666ms/step - loss: 0.6559 - accuracy: 0.6467 - val_loss: 0.6134 - val_accuracy: 0.7667\n",
            "Epoch 3/5\n",
            "5/5 [==============================] - 4s 813ms/step - loss: 0.6525 - accuracy: 0.6467 - val_loss: 0.6871 - val_accuracy: 0.7667\n",
            "Epoch 4/5\n",
            "5/5 [==============================] - 3s 715ms/step - loss: 0.6795 - accuracy: 0.6467 - val_loss: 0.6507 - val_accuracy: 0.7667\n",
            "Epoch 5/5\n",
            "5/5 [==============================] - 3s 726ms/step - loss: 0.6391 - accuracy: 0.6467 - val_loss: 0.6813 - val_accuracy: 0.7667\n",
            "Epoch 1/5\n",
            "5/5 [==============================] - 7s 904ms/step - loss: 0.8111 - accuracy: 0.4667 - val_loss: 0.6065 - val_accuracy: 0.7667\n",
            "Epoch 2/5\n",
            "5/5 [==============================] - 3s 662ms/step - loss: 0.7171 - accuracy: 0.6467 - val_loss: 0.6878 - val_accuracy: 0.7667\n",
            "Epoch 3/5\n",
            "5/5 [==============================] - 3s 637ms/step - loss: 0.6639 - accuracy: 0.6467 - val_loss: 0.6071 - val_accuracy: 0.7667\n",
            "Epoch 4/5\n",
            "5/5 [==============================] - 4s 833ms/step - loss: 0.6613 - accuracy: 0.6467 - val_loss: 0.6835 - val_accuracy: 0.7667\n",
            "Epoch 5/5\n",
            "5/5 [==============================] - 4s 663ms/step - loss: 0.6489 - accuracy: 0.6467 - val_loss: 0.6253 - val_accuracy: 0.7667\n",
            "Epoch 1/5\n",
            "5/5 [==============================] - 6s 883ms/step - loss: 0.7222 - accuracy: 0.5933 - val_loss: 0.5573 - val_accuracy: 0.7667\n",
            "Epoch 2/5\n",
            "5/5 [==============================] - 3s 693ms/step - loss: 0.6643 - accuracy: 0.6467 - val_loss: 0.6378 - val_accuracy: 0.7667\n",
            "Epoch 3/5\n",
            "5/5 [==============================] - 4s 713ms/step - loss: 0.6123 - accuracy: 0.6467 - val_loss: 0.5704 - val_accuracy: 0.7667\n",
            "Epoch 4/5\n",
            "5/5 [==============================] - 4s 787ms/step - loss: 0.6011 - accuracy: 0.6467 - val_loss: 0.6460 - val_accuracy: 0.5000\n",
            "Epoch 5/5\n",
            "5/5 [==============================] - 3s 639ms/step - loss: 0.5836 - accuracy: 0.7067 - val_loss: 0.6048 - val_accuracy: 0.6333\n",
            "Epoch 1/5\n",
            "5/5 [==============================] - 7s 1s/step - loss: 0.9796 - accuracy: 0.5400 - val_loss: 0.5468 - val_accuracy: 0.7667\n",
            "Epoch 2/5\n",
            "5/5 [==============================] - 3s 614ms/step - loss: 0.6943 - accuracy: 0.6400 - val_loss: 0.6230 - val_accuracy: 0.7667\n",
            "Epoch 3/5\n",
            "5/5 [==============================] - 4s 691ms/step - loss: 0.6385 - accuracy: 0.6467 - val_loss: 0.6187 - val_accuracy: 0.7667\n",
            "Epoch 4/5\n",
            "5/5 [==============================] - 3s 636ms/step - loss: 0.6266 - accuracy: 0.6467 - val_loss: 0.6366 - val_accuracy: 0.7667\n",
            "Epoch 5/5\n",
            "5/5 [==============================] - 3s 712ms/step - loss: 0.6592 - accuracy: 0.5800 - val_loss: 0.6160 - val_accuracy: 0.7667\n",
            "Epoch 1/5\n",
            "5/5 [==============================] - 7s 988ms/step - loss: 2.1143 - accuracy: 0.5467 - val_loss: 0.6984 - val_accuracy: 0.2333\n",
            "Epoch 2/5\n",
            "5/5 [==============================] - 3s 717ms/step - loss: 0.6819 - accuracy: 0.5533 - val_loss: 0.6436 - val_accuracy: 0.7667\n",
            "Epoch 3/5\n",
            "5/5 [==============================] - 3s 653ms/step - loss: 0.6544 - accuracy: 0.6467 - val_loss: 0.6670 - val_accuracy: 0.7667\n",
            "Epoch 4/5\n",
            "5/5 [==============================] - 4s 693ms/step - loss: 0.6429 - accuracy: 0.6467 - val_loss: 0.6625 - val_accuracy: 0.7667\n",
            "Epoch 5/5\n",
            "5/5 [==============================] - 4s 646ms/step - loss: 0.6202 - accuracy: 0.6467 - val_loss: 0.6507 - val_accuracy: 0.7667\n",
            "Epoch 1/3\n",
            "5/5 [==============================] - 6s 870ms/step - loss: 0.8100 - accuracy: 0.4067 - val_loss: 0.8086 - val_accuracy: 0.2333\n",
            "Epoch 2/3\n",
            "5/5 [==============================] - 4s 759ms/step - loss: 0.7069 - accuracy: 0.4867 - val_loss: 0.6382 - val_accuracy: 0.7667\n",
            "Epoch 3/3\n",
            "5/5 [==============================] - 4s 671ms/step - loss: 0.6572 - accuracy: 0.6467 - val_loss: 0.5612 - val_accuracy: 0.7667\n",
            "Epoch 1/3\n",
            "5/5 [==============================] - 7s 1s/step - loss: 0.7211 - accuracy: 0.5933 - val_loss: 0.5540 - val_accuracy: 0.7667\n",
            "Epoch 2/3\n",
            "5/5 [==============================] - 4s 670ms/step - loss: 0.6560 - accuracy: 0.6467 - val_loss: 0.5581 - val_accuracy: 0.7667\n",
            "Epoch 3/3\n",
            "5/5 [==============================] - 4s 748ms/step - loss: 0.6531 - accuracy: 0.6467 - val_loss: 0.5665 - val_accuracy: 0.7667\n",
            "Epoch 1/3\n",
            "5/5 [==============================] - 7s 911ms/step - loss: 0.8266 - accuracy: 0.6467 - val_loss: 0.5674 - val_accuracy: 0.7667\n",
            "Epoch 2/3\n",
            "5/5 [==============================] - 4s 665ms/step - loss: 0.7205 - accuracy: 0.6467 - val_loss: 0.5450 - val_accuracy: 0.7667\n",
            "Epoch 3/3\n",
            "5/5 [==============================] - 4s 663ms/step - loss: 0.6614 - accuracy: 0.6467 - val_loss: 0.5997 - val_accuracy: 0.7667\n",
            "Epoch 1/3\n",
            "5/5 [==============================] - 7s 770ms/step - loss: 0.7367 - accuracy: 0.5733 - val_loss: 0.5435 - val_accuracy: 0.7667\n",
            "Epoch 2/3\n",
            "5/5 [==============================] - 4s 653ms/step - loss: 0.6715 - accuracy: 0.6467 - val_loss: 0.5659 - val_accuracy: 0.7667\n",
            "Epoch 3/3\n",
            "5/5 [==============================] - 4s 678ms/step - loss: 0.6526 - accuracy: 0.6467 - val_loss: 0.6088 - val_accuracy: 0.7667\n",
            "Epoch 1/3\n",
            "5/5 [==============================] - 7s 756ms/step - loss: 0.7193 - accuracy: 0.5800 - val_loss: 0.5506 - val_accuracy: 0.7667\n",
            "Epoch 2/3\n",
            "5/5 [==============================] - 4s 736ms/step - loss: 0.6574 - accuracy: 0.6467 - val_loss: 0.5635 - val_accuracy: 0.7667\n",
            "Epoch 3/3\n",
            "5/5 [==============================] - 5s 915ms/step - loss: 0.6495 - accuracy: 0.6467 - val_loss: 0.5825 - val_accuracy: 0.7667\n",
            "Epoch 1/5\n",
            "5/5 [==============================] - 5s 680ms/step - loss: 0.7176 - accuracy: 0.5933 - val_loss: 0.5435 - val_accuracy: 0.7667\n",
            "Epoch 2/5\n",
            "5/5 [==============================] - 3s 613ms/step - loss: 0.6626 - accuracy: 0.6467 - val_loss: 0.5635 - val_accuracy: 0.7667\n",
            "Epoch 3/5\n",
            "5/5 [==============================] - 4s 968ms/step - loss: 0.6613 - accuracy: 0.6467 - val_loss: 0.6253 - val_accuracy: 0.7667\n",
            "Epoch 4/5\n",
            "5/5 [==============================] - 3s 608ms/step - loss: 0.6628 - accuracy: 0.6467 - val_loss: 0.6238 - val_accuracy: 0.7667\n",
            "Epoch 5/5\n",
            "5/5 [==============================] - 3s 620ms/step - loss: 0.6553 - accuracy: 0.6467 - val_loss: 0.5934 - val_accuracy: 0.7667\n",
            "Epoch 1/5\n",
            "5/5 [==============================] - 6s 853ms/step - loss: 0.7543 - accuracy: 0.6467 - val_loss: 0.5444 - val_accuracy: 0.7667\n",
            "Epoch 2/5\n",
            "5/5 [==============================] - 3s 622ms/step - loss: 0.6877 - accuracy: 0.6467 - val_loss: 0.5661 - val_accuracy: 0.7667\n",
            "Epoch 3/5\n",
            "5/5 [==============================] - 3s 681ms/step - loss: 0.6537 - accuracy: 0.6467 - val_loss: 0.6109 - val_accuracy: 0.7667\n",
            "Epoch 4/5\n",
            "5/5 [==============================] - 4s 754ms/step - loss: 0.6610 - accuracy: 0.6467 - val_loss: 0.6234 - val_accuracy: 0.7667\n",
            "Epoch 5/5\n",
            "5/5 [==============================] - 3s 668ms/step - loss: 0.6554 - accuracy: 0.6467 - val_loss: 0.5929 - val_accuracy: 0.7667\n",
            "Epoch 1/5\n",
            "5/5 [==============================] - 6s 911ms/step - loss: 0.8394 - accuracy: 0.4200 - val_loss: 0.8562 - val_accuracy: 0.2333\n",
            "Epoch 2/5\n",
            "5/5 [==============================] - 3s 666ms/step - loss: 0.7355 - accuracy: 0.3933 - val_loss: 0.6379 - val_accuracy: 0.7667\n",
            "Epoch 3/5\n",
            "5/5 [==============================] - 3s 625ms/step - loss: 0.6581 - accuracy: 0.6467 - val_loss: 0.5571 - val_accuracy: 0.7667\n",
            "Epoch 4/5\n",
            "5/5 [==============================] - 3s 611ms/step - loss: 0.6560 - accuracy: 0.6467 - val_loss: 0.5466 - val_accuracy: 0.7667\n",
            "Epoch 5/5\n",
            "5/5 [==============================] - 4s 941ms/step - loss: 0.6665 - accuracy: 0.6467 - val_loss: 0.5478 - val_accuracy: 0.7667\n",
            "Epoch 1/5\n",
            "5/5 [==============================] - 5s 694ms/step - loss: 0.9777 - accuracy: 0.3667 - val_loss: 0.9761 - val_accuracy: 0.2333\n",
            "Epoch 2/5\n",
            "5/5 [==============================] - 3s 619ms/step - loss: 0.8033 - accuracy: 0.3533 - val_loss: 0.6872 - val_accuracy: 0.7667\n",
            "Epoch 3/5\n",
            "5/5 [==============================] - 4s 822ms/step - loss: 0.6680 - accuracy: 0.6467 - val_loss: 0.5682 - val_accuracy: 0.7667\n",
            "Epoch 4/5\n",
            "5/5 [==============================] - 3s 666ms/step - loss: 0.6569 - accuracy: 0.6467 - val_loss: 0.5459 - val_accuracy: 0.7667\n",
            "Epoch 5/5\n",
            "5/5 [==============================] - 3s 600ms/step - loss: 0.6713 - accuracy: 0.6467 - val_loss: 0.5452 - val_accuracy: 0.7667\n",
            "Epoch 1/5\n",
            "5/5 [==============================] - 7s 715ms/step - loss: 0.6904 - accuracy: 0.6067 - val_loss: 0.5511 - val_accuracy: 0.7667\n",
            "Epoch 2/5\n",
            "5/5 [==============================] - 3s 624ms/step - loss: 0.6542 - accuracy: 0.6467 - val_loss: 0.5819 - val_accuracy: 0.7667\n",
            "Epoch 3/5\n",
            "5/5 [==============================] - 3s 631ms/step - loss: 0.6593 - accuracy: 0.6467 - val_loss: 0.6097 - val_accuracy: 0.7667\n",
            "Epoch 4/5\n",
            "5/5 [==============================] - 5s 962ms/step - loss: 0.6548 - accuracy: 0.6467 - val_loss: 0.5829 - val_accuracy: 0.7667\n",
            "Epoch 5/5\n",
            "5/5 [==============================] - 3s 612ms/step - loss: 0.6494 - accuracy: 0.6467 - val_loss: 0.5758 - val_accuracy: 0.7667\n",
            "Generation 1: Best validation accuracy = [0.7666666507720947]\n",
            "Generation 3\n",
            "Epoch 1/5\n",
            "5/5 [==============================] - 5s 681ms/step - loss: 0.7794 - accuracy: 0.6467 - val_loss: 0.5466 - val_accuracy: 0.7667\n",
            "Epoch 2/5\n",
            "5/5 [==============================] - 4s 862ms/step - loss: 0.6872 - accuracy: 0.6467 - val_loss: 0.5587 - val_accuracy: 0.7667\n",
            "Epoch 3/5\n",
            "5/5 [==============================] - 3s 625ms/step - loss: 0.6560 - accuracy: 0.6467 - val_loss: 0.6120 - val_accuracy: 0.7667\n",
            "Epoch 4/5\n",
            "5/5 [==============================] - 3s 641ms/step - loss: 0.6586 - accuracy: 0.6467 - val_loss: 0.6214 - val_accuracy: 0.7667\n",
            "Epoch 5/5\n",
            "5/5 [==============================] - 3s 635ms/step - loss: 0.6565 - accuracy: 0.6467 - val_loss: 0.5996 - val_accuracy: 0.7667\n",
            "Epoch 1/3\n",
            "5/5 [==============================] - 5s 765ms/step - loss: 0.8967 - accuracy: 0.3533 - val_loss: 0.7328 - val_accuracy: 0.2333\n",
            "Epoch 2/3\n",
            "5/5 [==============================] - 3s 619ms/step - loss: 0.6922 - accuracy: 0.5000 - val_loss: 0.6422 - val_accuracy: 0.7667\n",
            "Epoch 3/3\n",
            "5/5 [==============================] - 3s 619ms/step - loss: 0.6627 - accuracy: 0.6467 - val_loss: 0.6076 - val_accuracy: 0.7667\n",
            "Epoch 1/5\n",
            "5/5 [==============================] - 7s 709ms/step - loss: 0.7167 - accuracy: 0.5800 - val_loss: 0.5448 - val_accuracy: 0.7667\n",
            "Epoch 2/5\n",
            "5/5 [==============================] - 3s 674ms/step - loss: 0.6579 - accuracy: 0.6467 - val_loss: 0.5751 - val_accuracy: 0.7667\n",
            "Epoch 3/5\n",
            "5/5 [==============================] - 4s 811ms/step - loss: 0.6482 - accuracy: 0.6467 - val_loss: 0.6028 - val_accuracy: 0.7667\n",
            "Epoch 4/5\n",
            "5/5 [==============================] - 4s 692ms/step - loss: 0.6539 - accuracy: 0.6467 - val_loss: 0.5952 - val_accuracy: 0.7667\n",
            "Epoch 5/5\n",
            "5/5 [==============================] - 3s 632ms/step - loss: 0.6520 - accuracy: 0.6467 - val_loss: 0.5804 - val_accuracy: 0.7667\n",
            "Epoch 1/5\n",
            "5/5 [==============================] - 6s 895ms/step - loss: 0.7960 - accuracy: 0.6467 - val_loss: 0.5551 - val_accuracy: 0.7667\n",
            "Epoch 2/5\n",
            "5/5 [==============================] - 3s 622ms/step - loss: 0.6988 - accuracy: 0.6467 - val_loss: 0.5526 - val_accuracy: 0.7667\n",
            "Epoch 3/5\n",
            "5/5 [==============================] - 3s 620ms/step - loss: 0.6465 - accuracy: 0.6467 - val_loss: 0.6183 - val_accuracy: 0.7667\n",
            "Epoch 4/5\n",
            "5/5 [==============================] - 4s 880ms/step - loss: 0.6783 - accuracy: 0.6467 - val_loss: 0.6632 - val_accuracy: 0.7667\n",
            "Epoch 5/5\n",
            "5/5 [==============================] - 3s 611ms/step - loss: 0.6699 - accuracy: 0.6467 - val_loss: 0.6187 - val_accuracy: 0.7667\n",
            "Epoch 1/5\n",
            "5/5 [==============================] - 6s 677ms/step - loss: 0.8007 - accuracy: 0.6467 - val_loss: 0.5505 - val_accuracy: 0.7667\n",
            "Epoch 2/5\n",
            "5/5 [==============================] - 4s 827ms/step - loss: 0.6814 - accuracy: 0.6467 - val_loss: 0.5563 - val_accuracy: 0.7667\n",
            "Epoch 3/5\n",
            "5/5 [==============================] - 3s 613ms/step - loss: 0.6532 - accuracy: 0.6467 - val_loss: 0.6226 - val_accuracy: 0.7667\n",
            "Epoch 4/5\n",
            "5/5 [==============================] - 3s 621ms/step - loss: 0.6668 - accuracy: 0.6467 - val_loss: 0.6366 - val_accuracy: 0.7667\n",
            "Epoch 5/5\n",
            "5/5 [==============================] - 3s 665ms/step - loss: 0.6641 - accuracy: 0.6467 - val_loss: 0.5945 - val_accuracy: 0.7667\n",
            "Epoch 1/5\n",
            "5/5 [==============================] - 6s 682ms/step - loss: 0.6965 - accuracy: 0.5800 - val_loss: 0.5539 - val_accuracy: 0.7667\n",
            "Epoch 2/5\n",
            "5/5 [==============================] - 3s 658ms/step - loss: 0.6556 - accuracy: 0.6467 - val_loss: 0.5603 - val_accuracy: 0.7667\n",
            "Epoch 3/5\n",
            "5/5 [==============================] - 3s 667ms/step - loss: 0.6493 - accuracy: 0.6467 - val_loss: 0.5824 - val_accuracy: 0.7667\n",
            "Epoch 4/5\n",
            "5/5 [==============================] - 4s 895ms/step - loss: 0.6516 - accuracy: 0.6467 - val_loss: 0.5959 - val_accuracy: 0.7667\n",
            "Epoch 5/5\n",
            "5/5 [==============================] - 3s 625ms/step - loss: 0.6519 - accuracy: 0.6467 - val_loss: 0.5895 - val_accuracy: 0.7667\n",
            "Epoch 1/5\n",
            "5/5 [==============================] - 5s 672ms/step - loss: 0.6591 - accuracy: 0.6600 - val_loss: 0.5467 - val_accuracy: 0.7667\n",
            "Epoch 2/5\n",
            "5/5 [==============================] - 5s 988ms/step - loss: 0.6612 - accuracy: 0.6467 - val_loss: 0.5722 - val_accuracy: 0.7667\n",
            "Epoch 3/5\n",
            "5/5 [==============================] - 3s 672ms/step - loss: 0.6502 - accuracy: 0.6467 - val_loss: 0.5984 - val_accuracy: 0.7667\n",
            "Epoch 4/5\n",
            "5/5 [==============================] - 3s 615ms/step - loss: 0.6521 - accuracy: 0.6467 - val_loss: 0.5912 - val_accuracy: 0.7667\n",
            "Epoch 5/5\n",
            "5/5 [==============================] - 3s 657ms/step - loss: 0.6553 - accuracy: 0.6467 - val_loss: 0.5704 - val_accuracy: 0.7667\n",
            "Epoch 1/3\n",
            "5/5 [==============================] - 4s 733ms/step - loss: 0.6772 - accuracy: 0.6467 - val_loss: 0.6077 - val_accuracy: 0.7667\n",
            "Epoch 2/3\n",
            "5/5 [==============================] - 3s 618ms/step - loss: 0.6552 - accuracy: 0.6467 - val_loss: 0.5873 - val_accuracy: 0.7667\n",
            "Epoch 3/3\n",
            "5/5 [==============================] - 3s 694ms/step - loss: 0.6528 - accuracy: 0.6467 - val_loss: 0.5809 - val_accuracy: 0.7667\n",
            "Epoch 1/3\n",
            "5/5 [==============================] - 4s 726ms/step - loss: 0.7901 - accuracy: 0.3667 - val_loss: 0.6745 - val_accuracy: 0.7667\n",
            "Epoch 2/3\n",
            "5/5 [==============================] - 3s 621ms/step - loss: 0.6736 - accuracy: 0.6467 - val_loss: 0.6202 - val_accuracy: 0.7667\n",
            "Epoch 3/3\n",
            "5/5 [==============================] - 4s 917ms/step - loss: 0.6576 - accuracy: 0.6467 - val_loss: 0.5975 - val_accuracy: 0.7667\n",
            "Epoch 1/3\n",
            "5/5 [==============================] - 4s 727ms/step - loss: 0.6621 - accuracy: 0.6467 - val_loss: 0.5877 - val_accuracy: 0.7667\n",
            "Epoch 2/3\n",
            "5/5 [==============================] - 3s 620ms/step - loss: 0.6538 - accuracy: 0.6467 - val_loss: 0.5845 - val_accuracy: 0.7667\n",
            "Epoch 3/3\n",
            "5/5 [==============================] - 3s 704ms/step - loss: 0.6540 - accuracy: 0.6467 - val_loss: 0.5688 - val_accuracy: 0.7667\n",
            "Epoch 1/3\n",
            "5/5 [==============================] - 4s 724ms/step - loss: 0.6524 - accuracy: 0.6467 - val_loss: 0.5766 - val_accuracy: 0.7667\n",
            "Epoch 2/3\n",
            "5/5 [==============================] - 3s 682ms/step - loss: 0.6512 - accuracy: 0.6467 - val_loss: 0.5772 - val_accuracy: 0.7667\n",
            "Epoch 3/3\n",
            "5/5 [==============================] - 4s 752ms/step - loss: 0.6499 - accuracy: 0.6467 - val_loss: 0.5769 - val_accuracy: 0.7667\n",
            "Epoch 1/3\n",
            "5/5 [==============================] - 4s 727ms/step - loss: 0.6541 - accuracy: 0.6467 - val_loss: 0.5862 - val_accuracy: 0.7667\n",
            "Epoch 2/3\n",
            "5/5 [==============================] - 4s 727ms/step - loss: 0.6515 - accuracy: 0.6467 - val_loss: 0.5804 - val_accuracy: 0.7667\n",
            "Epoch 3/3\n",
            "5/5 [==============================] - 4s 682ms/step - loss: 0.6506 - accuracy: 0.6467 - val_loss: 0.5802 - val_accuracy: 0.7667\n",
            "Epoch 1/3\n",
            "5/5 [==============================] - 4s 723ms/step - loss: 0.6558 - accuracy: 0.6467 - val_loss: 0.5861 - val_accuracy: 0.7667\n",
            "Epoch 2/3\n",
            "5/5 [==============================] - 4s 748ms/step - loss: 0.6498 - accuracy: 0.6467 - val_loss: 0.5760 - val_accuracy: 0.7667\n",
            "Epoch 3/3\n",
            "5/5 [==============================] - 3s 603ms/step - loss: 0.6528 - accuracy: 0.6467 - val_loss: 0.5802 - val_accuracy: 0.7667\n",
            "Epoch 1/3\n",
            "5/5 [==============================] - 4s 737ms/step - loss: 0.6522 - accuracy: 0.6467 - val_loss: 0.5657 - val_accuracy: 0.7667\n",
            "Epoch 2/3\n",
            "5/5 [==============================] - 4s 981ms/step - loss: 0.6556 - accuracy: 0.6467 - val_loss: 0.5686 - val_accuracy: 0.7667\n",
            "Epoch 3/3\n",
            "5/5 [==============================] - 3s 679ms/step - loss: 0.6574 - accuracy: 0.6467 - val_loss: 0.5729 - val_accuracy: 0.7667\n",
            "Epoch 1/3\n",
            "5/5 [==============================] - 4s 729ms/step - loss: 0.6502 - accuracy: 0.6467 - val_loss: 0.5737 - val_accuracy: 0.7667\n",
            "Epoch 2/3\n",
            "5/5 [==============================] - 5s 970ms/step - loss: 0.6529 - accuracy: 0.6467 - val_loss: 0.5698 - val_accuracy: 0.7667\n",
            "Epoch 3/3\n",
            "5/5 [==============================] - 3s 632ms/step - loss: 0.6520 - accuracy: 0.6467 - val_loss: 0.5780 - val_accuracy: 0.7667\n",
            "Epoch 1/3\n",
            "5/5 [==============================] - 5s 716ms/step - loss: 0.7764 - accuracy: 0.3533 - val_loss: 0.6751 - val_accuracy: 0.7667\n",
            "Epoch 2/3\n",
            "5/5 [==============================] - 4s 728ms/step - loss: 0.6708 - accuracy: 0.6467 - val_loss: 0.6174 - val_accuracy: 0.7667\n",
            "Epoch 3/3\n",
            "5/5 [==============================] - 3s 666ms/step - loss: 0.6550 - accuracy: 0.6467 - val_loss: 0.5963 - val_accuracy: 0.7667\n",
            "Epoch 1/3\n",
            "5/5 [==============================] - 5s 815ms/step - loss: 0.7228 - accuracy: 0.4467 - val_loss: 0.6502 - val_accuracy: 0.7667\n",
            "Epoch 2/3\n",
            "5/5 [==============================] - 3s 683ms/step - loss: 0.6653 - accuracy: 0.6467 - val_loss: 0.6037 - val_accuracy: 0.7667\n",
            "Epoch 3/3\n",
            "5/5 [==============================] - 3s 625ms/step - loss: 0.6536 - accuracy: 0.6467 - val_loss: 0.5943 - val_accuracy: 0.7667\n",
            "Epoch 1/3\n",
            "5/5 [==============================] - 7s 830ms/step - loss: 2.1717 - accuracy: 0.5733 - val_loss: 3.8016 - val_accuracy: 0.2333\n",
            "Epoch 2/3\n",
            "5/5 [==============================] - 3s 614ms/step - loss: 2.5292 - accuracy: 0.3533 - val_loss: 1.7923 - val_accuracy: 0.2333\n",
            "Epoch 3/3\n",
            "5/5 [==============================] - 3s 620ms/step - loss: 1.0328 - accuracy: 0.4467 - val_loss: 0.5626 - val_accuracy: 0.7667\n",
            "Epoch 1/3\n",
            "5/5 [==============================] - 7s 777ms/step - loss: 1.6863 - accuracy: 0.5667 - val_loss: 0.8348 - val_accuracy: 0.2333\n",
            "Epoch 2/3\n",
            "5/5 [==============================] - 3s 634ms/step - loss: 0.6984 - accuracy: 0.5133 - val_loss: 0.5862 - val_accuracy: 0.7667\n",
            "Epoch 3/3\n",
            "5/5 [==============================] - 3s 624ms/step - loss: 0.6611 - accuracy: 0.6467 - val_loss: 0.5467 - val_accuracy: 0.7667\n",
            "Epoch 1/3\n",
            "5/5 [==============================] - 6s 717ms/step - loss: 1.7472 - accuracy: 0.6400 - val_loss: 1.1570 - val_accuracy: 0.7667\n",
            "Epoch 2/3\n",
            "5/5 [==============================] - 3s 685ms/step - loss: 1.4814 - accuracy: 0.6467 - val_loss: 0.6733 - val_accuracy: 0.7667\n",
            "Epoch 3/3\n",
            "5/5 [==============================] - 3s 660ms/step - loss: 0.8265 - accuracy: 0.6467 - val_loss: 0.6738 - val_accuracy: 0.7667\n",
            "Epoch 1/3\n",
            "5/5 [==============================] - 6s 673ms/step - loss: 1.7935 - accuracy: 0.5133 - val_loss: 0.6438 - val_accuracy: 0.7667\n",
            "Epoch 2/3\n",
            "5/5 [==============================] - 3s 621ms/step - loss: 0.6707 - accuracy: 0.6467 - val_loss: 0.5510 - val_accuracy: 0.7667\n",
            "Epoch 3/3\n",
            "5/5 [==============================] - 3s 622ms/step - loss: 0.6531 - accuracy: 0.6467 - val_loss: 0.6146 - val_accuracy: 0.7667\n",
            "Epoch 1/3\n",
            "5/5 [==============================] - 6s 677ms/step - loss: 1.3215 - accuracy: 0.6267 - val_loss: 1.0200 - val_accuracy: 0.7667\n",
            "Epoch 2/3\n",
            "5/5 [==============================] - 3s 613ms/step - loss: 1.3192 - accuracy: 0.6467 - val_loss: 0.6255 - val_accuracy: 0.7667\n",
            "Epoch 3/3\n",
            "5/5 [==============================] - 3s 623ms/step - loss: 0.7748 - accuracy: 0.6467 - val_loss: 0.6460 - val_accuracy: 0.7667\n",
            "Epoch 1/3\n",
            "5/5 [==============================] - 5s 766ms/step - loss: 0.6643 - accuracy: 0.6467 - val_loss: 0.5900 - val_accuracy: 0.7667\n",
            "Epoch 2/3\n",
            "5/5 [==============================] - 3s 615ms/step - loss: 0.6534 - accuracy: 0.6467 - val_loss: 0.5737 - val_accuracy: 0.7667\n",
            "Epoch 3/3\n",
            "5/5 [==============================] - 3s 624ms/step - loss: 0.6526 - accuracy: 0.6467 - val_loss: 0.5729 - val_accuracy: 0.7667\n",
            "Epoch 1/3\n",
            "5/5 [==============================] - 5s 730ms/step - loss: 0.6676 - accuracy: 0.6467 - val_loss: 0.5705 - val_accuracy: 0.7667\n",
            "Epoch 2/3\n",
            "5/5 [==============================] - 3s 641ms/step - loss: 0.6529 - accuracy: 0.6467 - val_loss: 0.5781 - val_accuracy: 0.7667\n",
            "Epoch 3/3\n",
            "5/5 [==============================] - 4s 944ms/step - loss: 0.6563 - accuracy: 0.6467 - val_loss: 0.5805 - val_accuracy: 0.7667\n",
            "Epoch 1/3\n",
            "5/5 [==============================] - 4s 721ms/step - loss: 0.7903 - accuracy: 0.3533 - val_loss: 0.6716 - val_accuracy: 0.7667\n",
            "Epoch 2/3\n",
            "5/5 [==============================] - 4s 814ms/step - loss: 0.6701 - accuracy: 0.6467 - val_loss: 0.6119 - val_accuracy: 0.7667\n",
            "Epoch 3/3\n",
            "5/5 [==============================] - 4s 704ms/step - loss: 0.6574 - accuracy: 0.6467 - val_loss: 0.5973 - val_accuracy: 0.7667\n",
            "Epoch 1/3\n",
            "5/5 [==============================] - 4s 779ms/step - loss: 0.6580 - accuracy: 0.6467 - val_loss: 0.5808 - val_accuracy: 0.7667\n",
            "Epoch 2/3\n",
            "5/5 [==============================] - 3s 615ms/step - loss: 0.6529 - accuracy: 0.6467 - val_loss: 0.5766 - val_accuracy: 0.7667\n",
            "Epoch 3/3\n",
            "5/5 [==============================] - 4s 835ms/step - loss: 0.6520 - accuracy: 0.6467 - val_loss: 0.5748 - val_accuracy: 0.7667\n",
            "Epoch 1/3\n",
            "5/5 [==============================] - 5s 738ms/step - loss: 0.7025 - accuracy: 0.5400 - val_loss: 0.6346 - val_accuracy: 0.7667\n",
            "Epoch 2/3\n",
            "5/5 [==============================] - 3s 671ms/step - loss: 0.6583 - accuracy: 0.6467 - val_loss: 0.5991 - val_accuracy: 0.7667\n",
            "Epoch 3/3\n",
            "5/5 [==============================] - 4s 985ms/step - loss: 0.6521 - accuracy: 0.6467 - val_loss: 0.5854 - val_accuracy: 0.7667\n",
            "Epoch 1/3\n",
            "5/5 [==============================] - 6s 721ms/step - loss: 0.6849 - accuracy: 0.6067 - val_loss: 0.5516 - val_accuracy: 0.7667\n",
            "Epoch 2/3\n",
            "5/5 [==============================] - 3s 630ms/step - loss: 0.6555 - accuracy: 0.6467 - val_loss: 0.5764 - val_accuracy: 0.7667\n",
            "Epoch 3/3\n",
            "5/5 [==============================] - 4s 836ms/step - loss: 0.6508 - accuracy: 0.6467 - val_loss: 0.5918 - val_accuracy: 0.7667\n",
            "Epoch 1/3\n",
            "5/5 [==============================] - 5s 678ms/step - loss: 0.7174 - accuracy: 0.5800 - val_loss: 0.5571 - val_accuracy: 0.7667\n",
            "Epoch 2/3\n",
            "5/5 [==============================] - 3s 617ms/step - loss: 0.6530 - accuracy: 0.6467 - val_loss: 0.5707 - val_accuracy: 0.7667\n",
            "Epoch 3/3\n",
            "5/5 [==============================] - 4s 843ms/step - loss: 0.6530 - accuracy: 0.6467 - val_loss: 0.5929 - val_accuracy: 0.7667\n",
            "Epoch 1/3\n",
            "5/5 [==============================] - 5s 687ms/step - loss: 0.7566 - accuracy: 0.3933 - val_loss: 0.6896 - val_accuracy: 0.7667\n",
            "Epoch 2/3\n",
            "5/5 [==============================] - 3s 617ms/step - loss: 0.6652 - accuracy: 0.6467 - val_loss: 0.5784 - val_accuracy: 0.7667\n",
            "Epoch 3/3\n",
            "5/5 [==============================] - 4s 807ms/step - loss: 0.6538 - accuracy: 0.6467 - val_loss: 0.5489 - val_accuracy: 0.7667\n",
            "Epoch 1/3\n",
            "5/5 [==============================] - 5s 676ms/step - loss: 0.6651 - accuracy: 0.6467 - val_loss: 0.5433 - val_accuracy: 0.7667\n",
            "Epoch 2/3\n",
            "5/5 [==============================] - 3s 626ms/step - loss: 0.6686 - accuracy: 0.6467 - val_loss: 0.5620 - val_accuracy: 0.7667\n",
            "Epoch 3/3\n",
            "5/5 [==============================] - 4s 869ms/step - loss: 0.6511 - accuracy: 0.6467 - val_loss: 0.5978 - val_accuracy: 0.7667\n",
            "Epoch 1/3\n",
            "5/5 [==============================] - 5s 703ms/step - loss: 0.8003 - accuracy: 0.6467 - val_loss: 0.5607 - val_accuracy: 0.7667\n",
            "Epoch 2/3\n",
            "5/5 [==============================] - 3s 678ms/step - loss: 0.6995 - accuracy: 0.6467 - val_loss: 0.5500 - val_accuracy: 0.7667\n",
            "Epoch 3/3\n",
            "5/5 [==============================] - 5s 969ms/step - loss: 0.6493 - accuracy: 0.6467 - val_loss: 0.6179 - val_accuracy: 0.7667\n",
            "Generation 2: Best validation accuracy = [0.7666666507720947]\n",
            "Generation 4\n",
            "Epoch 1/3\n",
            "5/5 [==============================] - 4s 790ms/step - loss: 0.6607 - accuracy: 0.6467 - val_loss: 0.5835 - val_accuracy: 0.7667\n",
            "Epoch 2/3\n",
            "5/5 [==============================] - 3s 620ms/step - loss: 0.6524 - accuracy: 0.6467 - val_loss: 0.5658 - val_accuracy: 0.7667\n",
            "Epoch 3/3\n",
            "5/5 [==============================] - 4s 739ms/step - loss: 0.6548 - accuracy: 0.6467 - val_loss: 0.5792 - val_accuracy: 0.7667\n",
            "Epoch 1/3\n",
            "5/5 [==============================] - 5s 793ms/step - loss: 0.7241 - accuracy: 0.4333 - val_loss: 0.6505 - val_accuracy: 0.7667\n",
            "Epoch 2/3\n",
            "5/5 [==============================] - 3s 615ms/step - loss: 0.6627 - accuracy: 0.6467 - val_loss: 0.6036 - val_accuracy: 0.7667\n",
            "Epoch 3/3\n",
            "5/5 [==============================] - 5s 965ms/step - loss: 0.6523 - accuracy: 0.6467 - val_loss: 0.5873 - val_accuracy: 0.7667\n",
            "Epoch 1/3\n",
            "5/5 [==============================] - 4s 774ms/step - loss: 0.7546 - accuracy: 0.4067 - val_loss: 0.6538 - val_accuracy: 0.7667\n",
            "Epoch 2/3\n",
            "5/5 [==============================] - 3s 615ms/step - loss: 0.6658 - accuracy: 0.6467 - val_loss: 0.6101 - val_accuracy: 0.7667\n",
            "Epoch 3/3\n",
            "5/5 [==============================] - 4s 823ms/step - loss: 0.6542 - accuracy: 0.6467 - val_loss: 0.5942 - val_accuracy: 0.7667\n",
            "Epoch 1/3\n",
            "5/5 [==============================] - 4s 729ms/step - loss: 0.6581 - accuracy: 0.6467 - val_loss: 0.5846 - val_accuracy: 0.7667\n",
            "Epoch 2/3\n",
            "5/5 [==============================] - 3s 678ms/step - loss: 0.6542 - accuracy: 0.6467 - val_loss: 0.5834 - val_accuracy: 0.7667\n",
            "Epoch 3/3\n",
            "5/5 [==============================] - 4s 924ms/step - loss: 0.6519 - accuracy: 0.6467 - val_loss: 0.5796 - val_accuracy: 0.7667\n",
            "Epoch 1/3\n",
            "5/5 [==============================] - 4s 731ms/step - loss: 0.6549 - accuracy: 0.6467 - val_loss: 0.5892 - val_accuracy: 0.7667\n",
            "Epoch 2/3\n",
            "5/5 [==============================] - 3s 613ms/step - loss: 0.6513 - accuracy: 0.6467 - val_loss: 0.5741 - val_accuracy: 0.7667\n",
            "Epoch 3/3\n",
            "5/5 [==============================] - 4s 772ms/step - loss: 0.6521 - accuracy: 0.6467 - val_loss: 0.5718 - val_accuracy: 0.7667\n",
            "Epoch 1/3\n",
            "5/5 [==============================] - 5s 729ms/step - loss: 0.7121 - accuracy: 0.4733 - val_loss: 0.6154 - val_accuracy: 0.7667\n",
            "Epoch 2/3\n",
            "5/5 [==============================] - 3s 596ms/step - loss: 0.6547 - accuracy: 0.6467 - val_loss: 0.5877 - val_accuracy: 0.7667\n",
            "Epoch 3/3\n",
            "5/5 [==============================] - 5s 1s/step - loss: 0.6505 - accuracy: 0.6467 - val_loss: 0.5828 - val_accuracy: 0.7667\n",
            "Epoch 1/3\n",
            "5/5 [==============================] - 5s 744ms/step - loss: 0.6568 - accuracy: 0.6467 - val_loss: 0.5870 - val_accuracy: 0.7667\n",
            "Epoch 2/3\n",
            "5/5 [==============================] - 3s 610ms/step - loss: 0.6514 - accuracy: 0.6467 - val_loss: 0.5760 - val_accuracy: 0.7667\n",
            "Epoch 3/3\n",
            "5/5 [==============================] - 4s 823ms/step - loss: 0.6508 - accuracy: 0.6467 - val_loss: 0.5750 - val_accuracy: 0.7667\n",
            "Epoch 1/3\n",
            "5/5 [==============================] - 5s 671ms/step - loss: 0.8274 - accuracy: 0.5267 - val_loss: 0.5719 - val_accuracy: 0.7667\n",
            "Epoch 2/3\n",
            "5/5 [==============================] - 3s 633ms/step - loss: 0.6510 - accuracy: 0.6467 - val_loss: 0.5650 - val_accuracy: 0.7667\n",
            "Epoch 3/3\n",
            "5/5 [==============================] - 4s 811ms/step - loss: 0.6510 - accuracy: 0.6467 - val_loss: 0.5678 - val_accuracy: 0.7667\n",
            "Epoch 1/3\n",
            "5/5 [==============================] - 5s 707ms/step - loss: 0.7183 - accuracy: 0.6467 - val_loss: 0.5436 - val_accuracy: 0.7667\n",
            "Epoch 2/3\n",
            "5/5 [==============================] - 3s 659ms/step - loss: 0.6706 - accuracy: 0.6467 - val_loss: 0.5683 - val_accuracy: 0.7667\n",
            "Epoch 3/3\n",
            "5/5 [==============================] - 3s 606ms/step - loss: 0.6683 - accuracy: 0.6467 - val_loss: 0.6304 - val_accuracy: 0.7667\n",
            "Epoch 1/3\n",
            "5/5 [==============================] - 6s 968ms/step - loss: 0.6987 - accuracy: 0.6333 - val_loss: 0.5806 - val_accuracy: 0.7667\n",
            "Epoch 2/3\n",
            "5/5 [==============================] - 3s 673ms/step - loss: 0.6591 - accuracy: 0.6467 - val_loss: 0.5521 - val_accuracy: 0.7667\n",
            "Epoch 3/3\n",
            "5/5 [==============================] - 4s 814ms/step - loss: 0.6593 - accuracy: 0.6467 - val_loss: 0.5525 - val_accuracy: 0.7667\n",
            "Epoch 1/3\n",
            "5/5 [==============================] - 5s 674ms/step - loss: 0.7551 - accuracy: 0.6467 - val_loss: 0.5463 - val_accuracy: 0.7667\n",
            "Epoch 2/3\n",
            "5/5 [==============================] - 3s 615ms/step - loss: 0.6803 - accuracy: 0.6467 - val_loss: 0.5556 - val_accuracy: 0.7667\n",
            "Epoch 3/3\n",
            "5/5 [==============================] - 4s 801ms/step - loss: 0.6584 - accuracy: 0.6467 - val_loss: 0.6097 - val_accuracy: 0.7667\n",
            "Epoch 1/3\n",
            "5/5 [==============================] - 5s 713ms/step - loss: 0.8048 - accuracy: 0.6467 - val_loss: 0.5592 - val_accuracy: 0.7667\n",
            "Epoch 2/3\n",
            "5/5 [==============================] - 3s 629ms/step - loss: 0.7116 - accuracy: 0.6467 - val_loss: 0.5471 - val_accuracy: 0.7667\n",
            "Epoch 3/3\n",
            "5/5 [==============================] - 3s 664ms/step - loss: 0.6597 - accuracy: 0.6467 - val_loss: 0.6016 - val_accuracy: 0.7667\n",
            "Epoch 1/3\n",
            "5/5 [==============================] - 4s 700ms/step - loss: 0.6757 - accuracy: 0.5867 - val_loss: 0.6279 - val_accuracy: 0.7667\n",
            "Epoch 2/3\n",
            "5/5 [==============================] - 5s 958ms/step - loss: 0.6601 - accuracy: 0.6467 - val_loss: 0.6088 - val_accuracy: 0.7667\n",
            "Epoch 3/3\n",
            "5/5 [==============================] - 3s 594ms/step - loss: 0.6518 - accuracy: 0.6467 - val_loss: 0.5821 - val_accuracy: 0.7667\n",
            "Epoch 1/3\n",
            "5/5 [==============================] - 4s 717ms/step - loss: 0.6874 - accuracy: 0.5400 - val_loss: 0.6524 - val_accuracy: 0.7667\n",
            "Epoch 2/3\n",
            "5/5 [==============================] - 4s 935ms/step - loss: 0.6656 - accuracy: 0.6467 - val_loss: 0.6205 - val_accuracy: 0.7667\n",
            "Epoch 3/3\n",
            "5/5 [==============================] - 3s 659ms/step - loss: 0.6520 - accuracy: 0.6467 - val_loss: 0.5985 - val_accuracy: 0.7667\n",
            "Epoch 1/3\n",
            "5/5 [==============================] - 4s 715ms/step - loss: 0.6679 - accuracy: 0.6600 - val_loss: 0.6012 - val_accuracy: 0.7667\n",
            "Epoch 2/3\n",
            "5/5 [==============================] - 4s 813ms/step - loss: 0.6536 - accuracy: 0.6467 - val_loss: 0.5752 - val_accuracy: 0.7667\n",
            "Epoch 3/3\n",
            "5/5 [==============================] - 3s 667ms/step - loss: 0.6495 - accuracy: 0.6467 - val_loss: 0.5843 - val_accuracy: 0.7667\n",
            "Epoch 1/3\n",
            "5/5 [==============================] - 4s 717ms/step - loss: 0.6963 - accuracy: 0.5533 - val_loss: 0.6498 - val_accuracy: 0.7667\n",
            "Epoch 2/3\n",
            "5/5 [==============================] - 4s 870ms/step - loss: 0.6611 - accuracy: 0.6467 - val_loss: 0.5937 - val_accuracy: 0.7667\n",
            "Epoch 3/3\n",
            "5/5 [==============================] - 3s 592ms/step - loss: 0.6569 - accuracy: 0.6467 - val_loss: 0.5988 - val_accuracy: 0.7667\n",
            "Epoch 1/3\n",
            "5/5 [==============================] - 5s 944ms/step - loss: 0.6705 - accuracy: 0.6467 - val_loss: 0.5790 - val_accuracy: 0.7667\n",
            "Epoch 2/3\n",
            "5/5 [==============================] - 4s 781ms/step - loss: 0.6494 - accuracy: 0.6467 - val_loss: 0.5759 - val_accuracy: 0.7667\n",
            "Epoch 3/3\n",
            "5/5 [==============================] - 3s 599ms/step - loss: 0.6483 - accuracy: 0.6467 - val_loss: 0.5850 - val_accuracy: 0.7667\n",
            "Epoch 1/2\n",
            "5/5 [==============================] - 6s 893ms/step - loss: 1.0230 - accuracy: 0.3533 - val_loss: 0.8448 - val_accuracy: 0.2333\n",
            "Epoch 2/2\n",
            "5/5 [==============================] - 3s 608ms/step - loss: 0.7414 - accuracy: 0.3533 - val_loss: 0.7022 - val_accuracy: 0.2333\n",
            "Epoch 1/2\n",
            "5/5 [==============================] - 6s 1s/step - loss: 0.6998 - accuracy: 0.4867 - val_loss: 0.6356 - val_accuracy: 0.7667\n",
            "Epoch 2/2\n",
            "5/5 [==============================] - 3s 582ms/step - loss: 0.6615 - accuracy: 0.6467 - val_loss: 0.5959 - val_accuracy: 0.7667\n",
            "Epoch 1/2\n",
            "5/5 [==============================] - 4s 719ms/step - loss: 0.7374 - accuracy: 0.4733 - val_loss: 0.6222 - val_accuracy: 0.7667\n",
            "Epoch 2/2\n",
            "5/5 [==============================] - 4s 915ms/step - loss: 0.6564 - accuracy: 0.6467 - val_loss: 0.5896 - val_accuracy: 0.7667\n",
            "Epoch 1/2\n",
            "5/5 [==============================] - 4s 718ms/step - loss: 0.6534 - accuracy: 0.6467 - val_loss: 0.5833 - val_accuracy: 0.7667\n",
            "Epoch 2/2\n",
            "5/5 [==============================] - 3s 628ms/step - loss: 0.6505 - accuracy: 0.6467 - val_loss: 0.5850 - val_accuracy: 0.7667\n",
            "Epoch 1/2\n",
            "5/5 [==============================] - 5s 825ms/step - loss: 0.7791 - accuracy: 0.3800 - val_loss: 0.6696 - val_accuracy: 0.7667\n",
            "Epoch 2/2\n",
            "5/5 [==============================] - 3s 611ms/step - loss: 0.6696 - accuracy: 0.6467 - val_loss: 0.6069 - val_accuracy: 0.7667\n",
            "Epoch 1/3\n",
            "5/5 [==============================] - 5s 809ms/step - loss: 0.6618 - accuracy: 0.6467 - val_loss: 0.5962 - val_accuracy: 0.7667\n",
            "Epoch 2/3\n",
            "5/5 [==============================] - 4s 778ms/step - loss: 0.6522 - accuracy: 0.6467 - val_loss: 0.5832 - val_accuracy: 0.7667\n",
            "Epoch 3/3\n",
            "5/5 [==============================] - 3s 614ms/step - loss: 0.6514 - accuracy: 0.6467 - val_loss: 0.5830 - val_accuracy: 0.7667\n",
            "Epoch 1/3\n",
            "5/5 [==============================] - 5s 823ms/step - loss: 0.6898 - accuracy: 0.5667 - val_loss: 0.6012 - val_accuracy: 0.7667\n",
            "Epoch 2/3\n",
            "5/5 [==============================] - 3s 593ms/step - loss: 0.6531 - accuracy: 0.6467 - val_loss: 0.5855 - val_accuracy: 0.7667\n",
            "Epoch 3/3\n",
            "5/5 [==============================] - 3s 654ms/step - loss: 0.6535 - accuracy: 0.6467 - val_loss: 0.5802 - val_accuracy: 0.7667\n",
            "Epoch 1/3\n",
            "5/5 [==============================] - 5s 839ms/step - loss: 0.6918 - accuracy: 0.5400 - val_loss: 0.6199 - val_accuracy: 0.7667\n",
            "Epoch 2/3\n",
            "5/5 [==============================] - 3s 613ms/step - loss: 0.6577 - accuracy: 0.6467 - val_loss: 0.5883 - val_accuracy: 0.7667\n",
            "Epoch 3/3\n",
            "5/5 [==============================] - 3s 675ms/step - loss: 0.6541 - accuracy: 0.6467 - val_loss: 0.5851 - val_accuracy: 0.7667\n",
            "Epoch 1/3\n",
            "5/5 [==============================] - 5s 874ms/step - loss: 0.7620 - accuracy: 0.4200 - val_loss: 0.6663 - val_accuracy: 0.7667\n",
            "Epoch 2/3\n",
            "5/5 [==============================] - 3s 600ms/step - loss: 0.6679 - accuracy: 0.6467 - val_loss: 0.6130 - val_accuracy: 0.7667\n",
            "Epoch 3/3\n",
            "5/5 [==============================] - 3s 599ms/step - loss: 0.6547 - accuracy: 0.6467 - val_loss: 0.5935 - val_accuracy: 0.7667\n",
            "Epoch 1/3\n",
            "5/5 [==============================] - 5s 782ms/step - loss: 0.6550 - accuracy: 0.6467 - val_loss: 0.5794 - val_accuracy: 0.7667\n",
            "Epoch 2/3\n",
            "5/5 [==============================] - 3s 624ms/step - loss: 0.6513 - accuracy: 0.6467 - val_loss: 0.5832 - val_accuracy: 0.7667\n",
            "Epoch 3/3\n",
            "5/5 [==============================] - 3s 618ms/step - loss: 0.6521 - accuracy: 0.6467 - val_loss: 0.5800 - val_accuracy: 0.7667\n",
            "Epoch 1/3\n",
            "5/5 [==============================] - 5s 955ms/step - loss: 0.6730 - accuracy: 0.6467 - val_loss: 0.5599 - val_accuracy: 0.7667\n",
            "Epoch 2/3\n",
            "5/5 [==============================] - 3s 596ms/step - loss: 0.6537 - accuracy: 0.6467 - val_loss: 0.5754 - val_accuracy: 0.7667\n",
            "Epoch 3/3\n",
            "5/5 [==============================] - 3s 619ms/step - loss: 0.6503 - accuracy: 0.6467 - val_loss: 0.5729 - val_accuracy: 0.7667\n",
            "Epoch 1/3\n",
            "5/5 [==============================] - 6s 1s/step - loss: 0.6603 - accuracy: 0.6467 - val_loss: 0.5934 - val_accuracy: 0.7667\n",
            "Epoch 2/3\n",
            "5/5 [==============================] - 3s 667ms/step - loss: 0.6521 - accuracy: 0.6467 - val_loss: 0.5811 - val_accuracy: 0.7667\n",
            "Epoch 3/3\n",
            "5/5 [==============================] - 3s 678ms/step - loss: 0.6530 - accuracy: 0.6467 - val_loss: 0.5737 - val_accuracy: 0.7667\n",
            "Epoch 1/3\n",
            "5/5 [==============================] - 5s 1s/step - loss: 0.7122 - accuracy: 0.4733 - val_loss: 0.6412 - val_accuracy: 0.7667\n",
            "Epoch 2/3\n",
            "5/5 [==============================] - 4s 746ms/step - loss: 0.6613 - accuracy: 0.6467 - val_loss: 0.6033 - val_accuracy: 0.7667\n",
            "Epoch 3/3\n",
            "5/5 [==============================] - 3s 629ms/step - loss: 0.6566 - accuracy: 0.6467 - val_loss: 0.5968 - val_accuracy: 0.7667\n",
            "Epoch 1/3\n",
            "5/5 [==============================] - 6s 1s/step - loss: 0.7718 - accuracy: 0.3533 - val_loss: 0.6564 - val_accuracy: 0.7667\n",
            "Epoch 2/3\n",
            "5/5 [==============================] - 3s 603ms/step - loss: 0.6626 - accuracy: 0.6467 - val_loss: 0.6031 - val_accuracy: 0.7667\n",
            "Epoch 3/3\n",
            "5/5 [==============================] - 4s 902ms/step - loss: 0.6536 - accuracy: 0.6467 - val_loss: 0.5923 - val_accuracy: 0.7667\n",
            "Epoch 1/3\n",
            "5/5 [==============================] - 4s 715ms/step - loss: 0.6500 - accuracy: 0.6467 - val_loss: 0.5774 - val_accuracy: 0.7667\n",
            "Epoch 2/3\n",
            "5/5 [==============================] - 3s 601ms/step - loss: 0.6502 - accuracy: 0.6467 - val_loss: 0.5818 - val_accuracy: 0.7667\n",
            "Epoch 3/3\n",
            "5/5 [==============================] - 4s 775ms/step - loss: 0.6504 - accuracy: 0.6467 - val_loss: 0.5781 - val_accuracy: 0.7667\n",
            "Generation 3: Best validation accuracy = [0.7666666507720947]\n",
            "Generation 5\n",
            "Epoch 1/3\n",
            "5/5 [==============================] - 6s 732ms/step - loss: 0.7227 - accuracy: 0.5533 - val_loss: 0.5476 - val_accuracy: 0.7667\n",
            "Epoch 2/3\n",
            "5/5 [==============================] - 4s 717ms/step - loss: 0.6567 - accuracy: 0.6467 - val_loss: 0.5689 - val_accuracy: 0.7667\n",
            "Epoch 3/3\n",
            "5/5 [==============================] - 3s 616ms/step - loss: 0.6516 - accuracy: 0.6467 - val_loss: 0.6030 - val_accuracy: 0.7667\n",
            "Epoch 1/2\n",
            "5/5 [==============================] - 4s 724ms/step - loss: 0.6542 - accuracy: 0.6467 - val_loss: 0.5828 - val_accuracy: 0.7667\n",
            "Epoch 2/2\n",
            "5/5 [==============================] - 4s 756ms/step - loss: 0.6521 - accuracy: 0.6467 - val_loss: 0.5750 - val_accuracy: 0.7667\n",
            "Epoch 1/2\n",
            "5/5 [==============================] - 4s 725ms/step - loss: 0.6504 - accuracy: 0.6467 - val_loss: 0.5705 - val_accuracy: 0.7667\n",
            "Epoch 2/2\n",
            "5/5 [==============================] - 3s 610ms/step - loss: 0.6510 - accuracy: 0.6467 - val_loss: 0.5763 - val_accuracy: 0.7667\n",
            "Epoch 1/2\n",
            "5/5 [==============================] - 5s 839ms/step - loss: 0.6532 - accuracy: 0.6467 - val_loss: 0.5859 - val_accuracy: 0.7667\n",
            "Epoch 2/2\n",
            "5/5 [==============================] - 3s 606ms/step - loss: 0.6531 - accuracy: 0.6467 - val_loss: 0.5830 - val_accuracy: 0.7667\n",
            "Epoch 1/2\n",
            "5/5 [==============================] - 4s 781ms/step - loss: 0.6520 - accuracy: 0.6467 - val_loss: 0.5724 - val_accuracy: 0.7667\n",
            "Epoch 2/2\n",
            "5/5 [==============================] - 4s 798ms/step - loss: 0.6500 - accuracy: 0.6467 - val_loss: 0.5741 - val_accuracy: 0.7667\n",
            "Epoch 1/2\n",
            "5/5 [==============================] - 4s 707ms/step - loss: 0.8150 - accuracy: 0.3533 - val_loss: 0.7124 - val_accuracy: 0.2333\n",
            "Epoch 2/2\n",
            "5/5 [==============================] - 3s 613ms/step - loss: 0.6858 - accuracy: 0.5800 - val_loss: 0.6382 - val_accuracy: 0.7667\n",
            "Epoch 1/2\n",
            "5/5 [==============================] - 5s 726ms/step - loss: 0.6520 - accuracy: 0.6467 - val_loss: 0.5809 - val_accuracy: 0.7667\n",
            "Epoch 2/2\n",
            "5/5 [==============================] - 3s 609ms/step - loss: 0.6516 - accuracy: 0.6467 - val_loss: 0.5767 - val_accuracy: 0.7667\n",
            "Epoch 1/2\n",
            "5/5 [==============================] - 6s 876ms/step - loss: 0.6588 - accuracy: 0.6467 - val_loss: 0.5816 - val_accuracy: 0.7667\n",
            "Epoch 2/2\n",
            "5/5 [==============================] - 3s 664ms/step - loss: 0.6592 - accuracy: 0.6467 - val_loss: 0.5812 - val_accuracy: 0.7667\n",
            "Epoch 1/2\n",
            "5/5 [==============================] - 6s 910ms/step - loss: 0.6943 - accuracy: 0.5267 - val_loss: 0.6279 - val_accuracy: 0.7667\n",
            "Epoch 2/2\n",
            "5/5 [==============================] - 3s 638ms/step - loss: 0.6583 - accuracy: 0.6467 - val_loss: 0.5992 - val_accuracy: 0.7667\n",
            "Epoch 1/2\n",
            "5/5 [==============================] - 4s 710ms/step - loss: 0.7591 - accuracy: 0.3533 - val_loss: 0.6444 - val_accuracy: 0.7667\n",
            "Epoch 2/2\n",
            "5/5 [==============================] - 3s 639ms/step - loss: 0.6617 - accuracy: 0.6467 - val_loss: 0.6071 - val_accuracy: 0.7667\n",
            "Epoch 1/2\n",
            "5/5 [==============================] - 5s 739ms/step - loss: 0.9762 - accuracy: 0.3533 - val_loss: 0.8390 - val_accuracy: 0.2333\n",
            "Epoch 2/2\n",
            "5/5 [==============================] - 3s 675ms/step - loss: 0.7424 - accuracy: 0.3533 - val_loss: 0.7066 - val_accuracy: 0.2333\n",
            "Epoch 1/2\n",
            "5/5 [==============================] - 5s 864ms/step - loss: 0.6621 - accuracy: 0.6467 - val_loss: 0.5678 - val_accuracy: 0.7667\n",
            "Epoch 2/2\n",
            "5/5 [==============================] - 3s 612ms/step - loss: 0.6558 - accuracy: 0.6467 - val_loss: 0.5734 - val_accuracy: 0.7667\n",
            "Epoch 1/3\n",
            "5/5 [==============================] - 6s 955ms/step - loss: 0.8734 - accuracy: 0.6467 - val_loss: 0.5861 - val_accuracy: 0.7667\n",
            "Epoch 2/3\n",
            "5/5 [==============================] - 3s 600ms/step - loss: 0.7606 - accuracy: 0.6467 - val_loss: 0.5436 - val_accuracy: 0.7667\n",
            "Epoch 3/3\n",
            "5/5 [==============================] - 3s 635ms/step - loss: 0.6767 - accuracy: 0.6467 - val_loss: 0.5735 - val_accuracy: 0.7667\n",
            "Epoch 1/3\n",
            "5/5 [==============================] - 6s 667ms/step - loss: 0.7083 - accuracy: 0.5800 - val_loss: 0.5476 - val_accuracy: 0.7667\n",
            "Epoch 2/3\n",
            "5/5 [==============================] - 3s 620ms/step - loss: 0.6670 - accuracy: 0.6467 - val_loss: 0.5670 - val_accuracy: 0.7667\n",
            "Epoch 3/3\n",
            "5/5 [==============================] - 3s 652ms/step - loss: 0.6505 - accuracy: 0.6467 - val_loss: 0.5818 - val_accuracy: 0.7667\n",
            "Epoch 1/3\n",
            "5/5 [==============================] - 6s 660ms/step - loss: 0.7303 - accuracy: 0.5533 - val_loss: 0.5437 - val_accuracy: 0.7667\n",
            "Epoch 2/3\n",
            "5/5 [==============================] - 3s 624ms/step - loss: 0.6724 - accuracy: 0.6467 - val_loss: 0.5733 - val_accuracy: 0.7667\n",
            "Epoch 3/3\n",
            "5/5 [==============================] - 3s 702ms/step - loss: 0.6518 - accuracy: 0.6467 - val_loss: 0.6045 - val_accuracy: 0.7667\n",
            "Epoch 1/3\n",
            "5/5 [==============================] - 5s 714ms/step - loss: 0.7090 - accuracy: 0.6200 - val_loss: 0.5433 - val_accuracy: 0.7667\n",
            "Epoch 2/3\n",
            "5/5 [==============================] - 3s 613ms/step - loss: 0.6655 - accuracy: 0.6467 - val_loss: 0.5590 - val_accuracy: 0.7667\n",
            "Epoch 3/3\n",
            "5/5 [==============================] - 3s 724ms/step - loss: 0.6529 - accuracy: 0.6467 - val_loss: 0.6028 - val_accuracy: 0.7667\n",
            "Epoch 1/3\n",
            "5/5 [==============================] - 5s 682ms/step - loss: 0.6983 - accuracy: 0.5933 - val_loss: 0.5470 - val_accuracy: 0.7667\n",
            "Epoch 2/3\n",
            "5/5 [==============================] - 4s 848ms/step - loss: 0.6558 - accuracy: 0.6467 - val_loss: 0.5699 - val_accuracy: 0.7667\n",
            "Epoch 3/3\n",
            "5/5 [==============================] - 3s 609ms/step - loss: 0.6549 - accuracy: 0.6467 - val_loss: 0.6046 - val_accuracy: 0.7667\n",
            "Epoch 1/3\n",
            "5/5 [==============================] - 6s 924ms/step - loss: 1.0069 - accuracy: 0.6467 - val_loss: 0.6477 - val_accuracy: 0.7667\n",
            "Epoch 2/3\n",
            "5/5 [==============================] - 3s 598ms/step - loss: 0.8554 - accuracy: 0.6467 - val_loss: 0.5647 - val_accuracy: 0.7667\n",
            "Epoch 3/3\n",
            "5/5 [==============================] - 4s 792ms/step - loss: 0.7272 - accuracy: 0.6467 - val_loss: 0.5465 - val_accuracy: 0.7667\n",
            "Epoch 1/3\n",
            "5/5 [==============================] - 5s 712ms/step - loss: 0.6945 - accuracy: 0.6067 - val_loss: 0.5502 - val_accuracy: 0.7667\n",
            "Epoch 2/3\n",
            "5/5 [==============================] - 3s 613ms/step - loss: 0.6560 - accuracy: 0.6467 - val_loss: 0.5629 - val_accuracy: 0.7667\n",
            "Epoch 3/3\n",
            "5/5 [==============================] - 4s 831ms/step - loss: 0.6492 - accuracy: 0.6467 - val_loss: 0.5852 - val_accuracy: 0.7667\n",
            "Epoch 1/3\n",
            "5/5 [==============================] - 5s 665ms/step - loss: 0.6898 - accuracy: 0.6200 - val_loss: 0.5467 - val_accuracy: 0.7667\n",
            "Epoch 2/3\n",
            "5/5 [==============================] - 3s 676ms/step - loss: 0.6642 - accuracy: 0.6467 - val_loss: 0.5776 - val_accuracy: 0.7667\n",
            "Epoch 3/3\n",
            "5/5 [==============================] - 3s 594ms/step - loss: 0.6526 - accuracy: 0.6467 - val_loss: 0.5910 - val_accuracy: 0.7667\n",
            "Epoch 1/3\n",
            "5/5 [==============================] - 6s 729ms/step - loss: 0.7727 - accuracy: 0.4200 - val_loss: 0.7571 - val_accuracy: 0.2333\n",
            "Epoch 2/3\n",
            "5/5 [==============================] - 4s 694ms/step - loss: 0.7062 - accuracy: 0.4333 - val_loss: 0.6004 - val_accuracy: 0.7667\n",
            "Epoch 3/3\n",
            "5/5 [==============================] - 3s 624ms/step - loss: 0.6577 - accuracy: 0.6467 - val_loss: 0.5524 - val_accuracy: 0.7667\n",
            "Epoch 1/3\n",
            "5/5 [==============================] - 6s 902ms/step - loss: 0.6854 - accuracy: 0.6067 - val_loss: 0.5443 - val_accuracy: 0.7667\n",
            "Epoch 2/3\n",
            "5/5 [==============================] - 4s 671ms/step - loss: 0.6585 - accuracy: 0.6467 - val_loss: 0.5666 - val_accuracy: 0.7667\n",
            "Epoch 3/3\n",
            "5/5 [==============================] - 3s 612ms/step - loss: 0.6452 - accuracy: 0.6467 - val_loss: 0.6001 - val_accuracy: 0.7667\n",
            "Epoch 1/3\n",
            "5/5 [==============================] - 6s 841ms/step - loss: 0.7689 - accuracy: 0.3533 - val_loss: 0.6558 - val_accuracy: 0.7667\n",
            "Epoch 2/3\n",
            "5/5 [==============================] - 3s 605ms/step - loss: 0.6652 - accuracy: 0.6467 - val_loss: 0.6069 - val_accuracy: 0.7667\n",
            "Epoch 3/3\n",
            "5/5 [==============================] - 3s 611ms/step - loss: 0.6555 - accuracy: 0.6467 - val_loss: 0.5889 - val_accuracy: 0.7667\n",
            "Epoch 1/3\n",
            "5/5 [==============================] - 5s 713ms/step - loss: 0.6714 - accuracy: 0.6467 - val_loss: 0.5935 - val_accuracy: 0.7667\n",
            "Epoch 2/3\n",
            "5/5 [==============================] - 3s 616ms/step - loss: 0.6509 - accuracy: 0.6467 - val_loss: 0.5835 - val_accuracy: 0.7667\n",
            "Epoch 3/3\n",
            "5/5 [==============================] - 3s 611ms/step - loss: 0.6541 - accuracy: 0.6467 - val_loss: 0.5786 - val_accuracy: 0.7667\n",
            "Epoch 1/3\n",
            "5/5 [==============================] - 6s 844ms/step - loss: 0.7528 - accuracy: 0.3533 - val_loss: 0.6588 - val_accuracy: 0.7667\n",
            "Epoch 2/3\n",
            "5/5 [==============================] - 3s 647ms/step - loss: 0.6646 - accuracy: 0.6467 - val_loss: 0.6080 - val_accuracy: 0.7667\n",
            "Epoch 3/3\n",
            "5/5 [==============================] - 3s 630ms/step - loss: 0.6556 - accuracy: 0.6467 - val_loss: 0.5905 - val_accuracy: 0.7667\n",
            "Epoch 1/3\n",
            "5/5 [==============================] - 5s 756ms/step - loss: 0.6522 - accuracy: 0.6467 - val_loss: 0.5698 - val_accuracy: 0.7667\n",
            "Epoch 2/3\n",
            "5/5 [==============================] - 3s 607ms/step - loss: 0.6521 - accuracy: 0.6467 - val_loss: 0.5781 - val_accuracy: 0.7667\n",
            "Epoch 3/3\n",
            "5/5 [==============================] - 4s 905ms/step - loss: 0.6507 - accuracy: 0.6467 - val_loss: 0.5784 - val_accuracy: 0.7667\n",
            "Epoch 1/3\n",
            "5/5 [==============================] - 5s 738ms/step - loss: 0.6742 - accuracy: 0.6467 - val_loss: 0.6205 - val_accuracy: 0.7667\n",
            "Epoch 2/3\n",
            "5/5 [==============================] - 3s 610ms/step - loss: 0.6568 - accuracy: 0.6467 - val_loss: 0.5790 - val_accuracy: 0.7667\n",
            "Epoch 3/3\n",
            "5/5 [==============================] - 3s 713ms/step - loss: 0.6505 - accuracy: 0.6467 - val_loss: 0.5734 - val_accuracy: 0.7667\n",
            "Epoch 1/3\n",
            "5/5 [==============================] - 5s 720ms/step - loss: 0.6620 - accuracy: 0.6467 - val_loss: 0.5497 - val_accuracy: 0.7667\n",
            "Epoch 2/3\n",
            "5/5 [==============================] - 3s 616ms/step - loss: 0.6587 - accuracy: 0.6467 - val_loss: 0.5635 - val_accuracy: 0.7667\n",
            "Epoch 3/3\n",
            "5/5 [==============================] - 4s 811ms/step - loss: 0.6485 - accuracy: 0.6467 - val_loss: 0.5822 - val_accuracy: 0.7667\n",
            "Epoch 1/3\n",
            "5/5 [==============================] - 5s 675ms/step - loss: 0.8728 - accuracy: 0.3667 - val_loss: 0.8321 - val_accuracy: 0.2333\n",
            "Epoch 2/3\n",
            "5/5 [==============================] - 3s 613ms/step - loss: 0.7185 - accuracy: 0.5000 - val_loss: 0.6248 - val_accuracy: 0.7667\n",
            "Epoch 3/3\n",
            "5/5 [==============================] - 4s 924ms/step - loss: 0.6598 - accuracy: 0.6467 - val_loss: 0.5528 - val_accuracy: 0.7667\n",
            "Epoch 1/3\n",
            "5/5 [==============================] - 5s 683ms/step - loss: 0.7131 - accuracy: 0.5800 - val_loss: 0.5452 - val_accuracy: 0.7667\n",
            "Epoch 2/3\n",
            "5/5 [==============================] - 3s 626ms/step - loss: 0.6626 - accuracy: 0.6467 - val_loss: 0.5869 - val_accuracy: 0.7667\n",
            "Epoch 3/3\n",
            "5/5 [==============================] - 3s 598ms/step - loss: 0.6559 - accuracy: 0.6467 - val_loss: 0.6179 - val_accuracy: 0.7667\n",
            "Epoch 1/3\n",
            "5/5 [==============================] - 5s 678ms/step - loss: 0.7339 - accuracy: 0.5800 - val_loss: 0.5509 - val_accuracy: 0.7667\n",
            "Epoch 2/3\n",
            "5/5 [==============================] - 4s 881ms/step - loss: 0.6552 - accuracy: 0.6467 - val_loss: 0.5660 - val_accuracy: 0.7667\n",
            "Epoch 3/3\n",
            "5/5 [==============================] - 3s 664ms/step - loss: 0.6487 - accuracy: 0.6467 - val_loss: 0.5750 - val_accuracy: 0.7667\n",
            "Epoch 1/3\n",
            "5/5 [==============================] - 6s 883ms/step - loss: 0.7748 - accuracy: 0.6467 - val_loss: 0.5565 - val_accuracy: 0.7667\n",
            "Epoch 2/3\n",
            "5/5 [==============================] - 4s 667ms/step - loss: 0.7071 - accuracy: 0.6467 - val_loss: 0.5519 - val_accuracy: 0.7667\n",
            "Epoch 3/3\n",
            "5/5 [==============================] - 3s 609ms/step - loss: 0.6534 - accuracy: 0.6467 - val_loss: 0.6212 - val_accuracy: 0.7667\n",
            "Generation 4: Best validation accuracy = [0.7666666507720947]\n"
          ]
        }
      ]
    },
    {
      "cell_type": "code",
      "source": [
        "len(population)"
      ],
      "metadata": {
        "colab": {
          "base_uri": "https://localhost:8080/"
        },
        "id": "B3JIukZaUbBK",
        "outputId": "77aa3bd2-3d38-4a28-dac3-74d5999127e0"
      },
      "execution_count": null,
      "outputs": [
        {
          "output_type": "execute_result",
          "data": {
            "text/plain": [
              "10"
            ]
          },
          "metadata": {},
          "execution_count": 133
        }
      ]
    },
    {
      "cell_type": "code",
      "source": [
        "parameter_values\n",
        "for params in parameter_values:\n",
        "  print(params)"
      ],
      "metadata": {
        "colab": {
          "base_uri": "https://localhost:8080/"
        },
        "id": "CXB8BIroM8g9",
        "outputId": "738f5a69-8f72-4fea-f7a6-e4f28d6d988d"
      },
      "execution_count": null,
      "outputs": [
        {
          "output_type": "stream",
          "name": "stdout",
          "text": [
            "dropout\n",
            "optimizer\n",
            "batch_size\n",
            "epochs\n",
            "activation\n"
          ]
        }
      ]
    },
    {
      "cell_type": "code",
      "source": [
        "# child['dropout'] = mutate(parameter_values)"
      ],
      "metadata": {
        "colab": {
          "base_uri": "https://localhost:8080/",
          "height": 298
        },
        "id": "KAeKEGI4NAgI",
        "outputId": "b411a72d-08c0-4148-f22f-5c97c9b95851"
      },
      "execution_count": null,
      "outputs": [
        {
          "output_type": "error",
          "ename": "TypeError",
          "evalue": "ignored",
          "traceback": [
            "\u001b[0;31m---------------------------------------------------------------------------\u001b[0m",
            "\u001b[0;31mTypeError\u001b[0m                                 Traceback (most recent call last)",
            "\u001b[0;32m<ipython-input-94-c69e20cec727>\u001b[0m in \u001b[0;36m<module>\u001b[0;34m\u001b[0m\n\u001b[0;32m----> 1\u001b[0;31m \u001b[0mchild\u001b[0m\u001b[0;34m[\u001b[0m\u001b[0;34m'dropout'\u001b[0m\u001b[0;34m]\u001b[0m \u001b[0;34m=\u001b[0m \u001b[0mmutate\u001b[0m\u001b[0;34m(\u001b[0m\u001b[0mparameter_values\u001b[0m\u001b[0;34m[\u001b[0m\u001b[0;34m'dropout'\u001b[0m\u001b[0;34m]\u001b[0m\u001b[0;34m)\u001b[0m\u001b[0;34m\u001b[0m\u001b[0;34m\u001b[0m\u001b[0m\n\u001b[0m",
            "\u001b[0;32m<ipython-input-66-acc0172e4992>\u001b[0m in \u001b[0;36mmutate\u001b[0;34m(individual)\u001b[0m\n\u001b[1;32m     57\u001b[0m     \u001b[0mparam_to_mutate\u001b[0m \u001b[0;34m=\u001b[0m \u001b[0mrandom\u001b[0m\u001b[0;34m.\u001b[0m\u001b[0mchoice\u001b[0m\u001b[0;34m(\u001b[0m\u001b[0mlist\u001b[0m\u001b[0;34m(\u001b[0m\u001b[0mparameter_values\u001b[0m\u001b[0;34m.\u001b[0m\u001b[0mkeys\u001b[0m\u001b[0;34m(\u001b[0m\u001b[0;34m)\u001b[0m\u001b[0;34m)\u001b[0m\u001b[0;34m)\u001b[0m\u001b[0;34m\u001b[0m\u001b[0;34m\u001b[0m\u001b[0m\n\u001b[1;32m     58\u001b[0m     \u001b[0;32mif\u001b[0m \u001b[0misinstance\u001b[0m\u001b[0;34m(\u001b[0m\u001b[0mparameter_values\u001b[0m\u001b[0;34m[\u001b[0m\u001b[0mparam_to_mutate\u001b[0m\u001b[0;34m]\u001b[0m\u001b[0;34m,\u001b[0m \u001b[0mlist\u001b[0m\u001b[0;34m)\u001b[0m\u001b[0;34m:\u001b[0m\u001b[0;34m\u001b[0m\u001b[0;34m\u001b[0m\u001b[0m\n\u001b[0;32m---> 59\u001b[0;31m         \u001b[0mindividual\u001b[0m\u001b[0;34m[\u001b[0m\u001b[0mparam_to_mutate\u001b[0m\u001b[0;34m]\u001b[0m \u001b[0;34m=\u001b[0m \u001b[0mrandom\u001b[0m\u001b[0;34m.\u001b[0m\u001b[0mchoice\u001b[0m\u001b[0;34m(\u001b[0m\u001b[0mparameter_values\u001b[0m\u001b[0;34m[\u001b[0m\u001b[0mparam_to_mutate\u001b[0m\u001b[0;34m]\u001b[0m\u001b[0;34m)\u001b[0m\u001b[0;34m\u001b[0m\u001b[0;34m\u001b[0m\u001b[0m\n\u001b[0m\u001b[1;32m     60\u001b[0m     \u001b[0;32melse\u001b[0m\u001b[0;34m:\u001b[0m\u001b[0;34m\u001b[0m\u001b[0;34m\u001b[0m\u001b[0m\n\u001b[1;32m     61\u001b[0m         \u001b[0mindividual\u001b[0m\u001b[0;34m[\u001b[0m\u001b[0mparam_to_mutate\u001b[0m\u001b[0;34m]\u001b[0m \u001b[0;34m=\u001b[0m \u001b[0mparameter_values\u001b[0m\u001b[0;34m[\u001b[0m\u001b[0mparam_to_mutate\u001b[0m\u001b[0;34m]\u001b[0m\u001b[0;34m[\u001b[0m\u001b[0mrandom\u001b[0m\u001b[0;34m.\u001b[0m\u001b[0mrandint\u001b[0m\u001b[0;34m(\u001b[0m\u001b[0;36m0\u001b[0m\u001b[0;34m,\u001b[0m \u001b[0mlen\u001b[0m\u001b[0;34m(\u001b[0m\u001b[0mparameter_values\u001b[0m\u001b[0;34m[\u001b[0m\u001b[0mparam_to_mutate\u001b[0m\u001b[0;34m]\u001b[0m\u001b[0;34m)\u001b[0m\u001b[0;34m-\u001b[0m\u001b[0;36m1\u001b[0m\u001b[0;34m)\u001b[0m\u001b[0;34m]\u001b[0m\u001b[0;34m\u001b[0m\u001b[0;34m\u001b[0m\u001b[0m\n",
            "\u001b[0;31mTypeError\u001b[0m: list indices must be integers or slices, not str"
          ]
        }
      ]
    },
    {
      "cell_type": "code",
      "source": [
        "# # Define the early stopping callback\n",
        "# early_stop_callback = tf.keras.callbacks.EarlyStopping(monitor='val_accuracy', patience=3, mode='max', verbose=1)\n",
        "\n",
        "# # Train the model with the early stopping callback\n",
        "# model.fit(x_train, y_train, epochs=20, batch_size=32, validation_data=(x_test, y_test), callbacks=[early_stop_callback])"
      ],
      "metadata": {
        "id": "9lU377eb7jp6"
      },
      "execution_count": null,
      "outputs": []
    },
    {
      "cell_type": "code",
      "source": [
        "# parameter_values['batch_size']"
      ],
      "metadata": {
        "colab": {
          "base_uri": "https://localhost:8080/"
        },
        "id": "zbNosHh4NSir",
        "outputId": "f3544097-ae11-4343-d7f0-88f8efd38d07"
      },
      "execution_count": null,
      "outputs": [
        {
          "output_type": "execute_result",
          "data": {
            "text/plain": [
              "[16, 32, 64]"
            ]
          },
          "metadata": {},
          "execution_count": 76
        }
      ]
    },
    {
      "cell_type": "code",
      "source": [
        "# param_to_mutate = random.choice(list(parameter_values.keys()))"
      ],
      "metadata": {
        "id": "7p_dosE6Nodh"
      },
      "execution_count": null,
      "outputs": []
    },
    {
      "cell_type": "code",
      "source": [
        "# param_to_mutate"
      ],
      "metadata": {
        "colab": {
          "base_uri": "https://localhost:8080/",
          "height": 37
        },
        "id": "AabNyBgZNt1O",
        "outputId": "36e7934f-d727-4fca-e47e-304e01b9fc31"
      },
      "execution_count": null,
      "outputs": [
        {
          "output_type": "execute_result",
          "data": {
            "text/plain": [
              "'activation'"
            ],
            "application/vnd.google.colaboratory.intrinsic+json": {
              "type": "string"
            }
          },
          "metadata": {},
          "execution_count": 87
        }
      ]
    },
    {
      "cell_type": "code",
      "source": [
        "# individual[param_to_mutate] = random.choice(parameter_values[param_to_mutate])"
      ],
      "metadata": {
        "id": "hal2LWQ4N8W4"
      },
      "execution_count": null,
      "outputs": []
    },
    {
      "cell_type": "code",
      "source": [
        "# # individual[param_to_mutate]\n",
        "\n",
        "# if isinstance(parameter_values[param_to_mutate], list):\n",
        "#   individual[param_to_mutate] = random.choice(parameter_values[param_to_mutate])\n",
        "# else:\n",
        "#   individual[param_to_mutate] = parameter_values[param_to_mutate][random.randint(0, len(parameter_values[param_to_mutate])-1)]\n",
        "\n",
        "# individual[param_to_mutate]"
      ],
      "metadata": {
        "colab": {
          "base_uri": "https://localhost:8080/",
          "height": 37
        },
        "id": "blqDGJ0wOAEk",
        "outputId": "40d06bfd-d893-41d8-d66b-79135c936ca7"
      },
      "execution_count": null,
      "outputs": [
        {
          "output_type": "execute_result",
          "data": {
            "text/plain": [
              "'relu'"
            ],
            "application/vnd.google.colaboratory.intrinsic+json": {
              "type": "string"
            }
          },
          "metadata": {},
          "execution_count": 93
        }
      ]
    },
    {
      "cell_type": "code",
      "source": [
        "# def mutate(params):\n",
        "#     # Here you could use any mutation method you like, such as random resetting, Gaussian mutation, etc.\n",
        "#     # For simplicity, let's just randomly choose a gene and replace its value with a random value from the parameter values\n",
        "#     # param_to_mutate = random.choice(list(parameter_values.keys()))\n",
        "#     if isinstance(parameter_values[params], list):\n",
        "#       individual[params] = random.choice(parameter_values[params])\n",
        "#     else:\n",
        "#       individual[params] = parameter_values[params][random.randint(0, len(parameter_values[params])-1)]\n",
        "    \n",
        "#     return individual"
      ],
      "metadata": {
        "id": "9lg0xrORNj_V"
      },
      "execution_count": null,
      "outputs": []
    },
    {
      "cell_type": "code",
      "source": [
        "# child = mutate('dropout')"
      ],
      "metadata": {
        "id": "x_SNYXd5P8ML"
      },
      "execution_count": null,
      "outputs": []
    },
    {
      "cell_type": "code",
      "source": [
        "# for param in parameter_values:\n",
        "#     if random.random() < 0.1:\n",
        "#       child[param] = mutate(param)\n",
        "#     else:\n",
        "#       child[param] = random.choice([parent1[param], parent2[param]])\n",
        "#     print(f\"Child: {child}\")"
      ],
      "metadata": {
        "colab": {
          "base_uri": "https://localhost:8080/"
        },
        "id": "bdJpxqKrQAw2",
        "outputId": "c26fc313-91f4-4b0a-ba55-41c4dc85419f"
      },
      "execution_count": null,
      "outputs": [
        {
          "output_type": "stream",
          "name": "stdout",
          "text": [
            "Child: {'dropout': 0.5, 'optimizer': 'SGD', 'batch_size': 16, 'epochs': 3, 'activation': 'relu'}\n",
            "Child: {'dropout': 0.5, 'optimizer': 'Adam', 'batch_size': 16, 'epochs': 3, 'activation': 'relu'}\n",
            "Child: {'dropout': 0.5, 'optimizer': 'Adam', 'batch_size': 64, 'epochs': 3, 'activation': 'relu'}\n",
            "Child: {'dropout': 0.5, 'optimizer': 'Adam', 'batch_size': 64, 'epochs': 3, 'activation': 'relu'}\n",
            "Child: {'dropout': 0.5, 'optimizer': 'Adam', 'batch_size': 64, 'epochs': 3, 'activation': 'relu'}\n"
          ]
        }
      ]
    },
    {
      "cell_type": "code",
      "source": [
        "# # Select parents\n",
        "#         parents = select_parents(population, fitness_scores, num_parents)\n",
        "\n",
        "#         # Generate offspring\n",
        "#         offspring = []\n",
        "#         num_offspring = population_size - num_parents\n",
        "#         for i in range(num_offspring):\n",
        "#             parent1, parent2 = random.sample(parents, 2)\n",
        "#             child = {}\n",
        "#             for param in parameter_values:\n",
        "#                 if random.random() < mutation_rate:\n",
        "#                     child[param] = mutate(parameter_values[param])\n",
        "#                 else:\n",
        "#                     child[param] = random.choice([parent1[param], parent2[param]])\n",
        "#             offspring.append(child)\n",
        "\n",
        "#         # Combine parents and offspring\n",
        "#         new_population = parents + offspring\n",
        "\n",
        "#         # Evaluate fitness of new population\n",
        "#         new_fitness_scores = evaluate_population(new_population, traingen, valgen)"
      ],
      "metadata": {
        "colab": {
          "base_uri": "https://localhost:8080/",
          "height": 134
        },
        "id": "6b3Qxmz_KKCG",
        "outputId": "73ff2e75-6f13-43a4-ef8d-874b99d809c6"
      },
      "execution_count": null,
      "outputs": [
        {
          "output_type": "error",
          "ename": "IndentationError",
          "evalue": "ignored",
          "traceback": [
            "\u001b[0;36m  File \u001b[0;32m\"<ipython-input-111-45411b2e5ca5>\"\u001b[0;36m, line \u001b[0;32m2\u001b[0m\n\u001b[0;31m    parents = select_parents(population, fitness_scores, num_parents)\u001b[0m\n\u001b[0m    ^\u001b[0m\n\u001b[0;31mIndentationError\u001b[0m\u001b[0;31m:\u001b[0m unexpected indent\n"
          ]
        }
      ]
    },
    {
      "cell_type": "code",
      "source": [],
      "metadata": {
        "id": "AvFc8HsLQ1fs"
      },
      "execution_count": null,
      "outputs": []
    }
  ],
  "metadata": {
    "colab": {
      "provenance": []
    },
    "kernelspec": {
      "display_name": "Python 3",
      "name": "python3"
    },
    "language_info": {
      "name": "python"
    },
    "gpuClass": "standard",
    "accelerator": "GPU"
  },
  "nbformat": 4,
  "nbformat_minor": 0
}