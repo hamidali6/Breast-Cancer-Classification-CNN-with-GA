{
  "cells": [
    {
      "cell_type": "code",
      "execution_count": null,
      "metadata": {
        "id": "jvhA4DXoXYrf"
      },
      "outputs": [],
      "source": [
        "import pandas as pd\n",
        "import numpy as np"
      ]
    },
    {
      "cell_type": "code",
      "execution_count": null,
      "metadata": {
        "id": "a_aTEVHyy40I"
      },
      "outputs": [],
      "source": [
        "import pandas as pd\n",
        "import matplotlib.pyplot as plt\n",
        "import imageio"
      ]
    },
    {
      "cell_type": "code",
      "execution_count": null,
      "metadata": {
        "id": "QAcFmPd-Ne0_",
        "colab": {
          "base_uri": "https://localhost:8080/"
        },
        "outputId": "c558254c-22fb-4cde-8e5c-3ef9acc5f5f1"
      },
      "outputs": [
        {
          "output_type": "stream",
          "name": "stdout",
          "text": [
            "Tensorflow version 2.11.0\n"
          ]
        }
      ],
      "source": [
        "import os\n",
        "import PIL.Image, PIL.ImageFont, PIL.ImageDraw\n",
        "import numpy as np\n",
        "import tensorflow as tf\n",
        "from matplotlib import pyplot as plt\n",
        "\n",
        "import seaborn as sns\n",
        "import cv2\n",
        "import glob\n",
        "\n",
        "print(\"Tensorflow version \" + tf.__version__)"
      ]
    },
    {
      "cell_type": "code",
      "execution_count": null,
      "metadata": {
        "id": "pyNb7EWmYAzX"
      },
      "outputs": [],
      "source": [
        "import warnings\n",
        "import sys\n",
        "from tqdm import tqdm\n",
        "\n",
        "import random\n",
        "from sklearn.model_selection import train_test_split\n",
        "%matplotlib inline\n",
        "\n",
        "from urllib.parse import urlparse\n",
        "from tensorflow.keras.layers import Conv2D, Conv2DTranspose, MaxPool2D, BatchNormalization, Dropout, Activation, Concatenate\n",
        "\n",
        "from tensorflow.keras import backend as K, Input, Model\n",
        "from tensorflow.keras.preprocessing.image import ImageDataGenerator\n",
        "import numpy as np\n",
        "import tensorflow.keras as keras\n",
        "from keras.preprocessing.image import ImageDataGenerator\n",
        "from tensorflow.keras.models import Model\n",
        "\n",
        "from tensorflow.keras.layers import Conv2D, Flatten, Dense, Dropout, MaxPooling2D, BatchNormalization\n",
        "from tensorflow.keras.models import Sequential, load_model\n",
        "from tensorflow.keras.callbacks import EarlyStopping, Callback , ModelCheckpoint\n",
        "from tensorflow.keras.metrics import Accuracy,binary_crossentropy, FalsePositives, FalseNegatives, TruePositives, TrueNegatives\n",
        "from tensorflow.keras.preprocessing.image import ImageDataGenerator\n",
        "\n",
        "#from tensorflow.keras.callbacks import ModelCheckpoint, LearningRateScheduler\n",
        "#from tensorflow.keras.callbacks import EarlyStopping, ReduceLROnPlateau"
      ]
    },
    {
      "cell_type": "code",
      "execution_count": null,
      "metadata": {
        "colab": {
          "base_uri": "https://localhost:8080/"
        },
        "id": "Ewo0fUP-YEtg",
        "outputId": "6303e189-833a-4354-ee48-279727df3c92"
      },
      "outputs": [
        {
          "output_type": "stream",
          "name": "stdout",
          "text": [
            "Drive already mounted at /content/drive/; to attempt to forcibly remount, call drive.mount(\"/content/drive/\", force_remount=True).\n"
          ]
        }
      ],
      "source": [
        "from google.colab import drive\n",
        "drive.mount('/content/drive/')"
      ]
    },
    {
      "cell_type": "code",
      "execution_count": null,
      "metadata": {
        "id": "4mhZnQwFztoS"
      },
      "outputs": [],
      "source": [
        "csv_path = \"/content/drive/MyDrive/Genetic_Algorithm_CNN_Project/Folds.csv\"\n",
        "dir= \"/content/drive/MyDrive/Genetic_Algorithm_CNN_Project/BreaKHis_v1/\""
      ]
    },
    {
      "cell_type": "code",
      "source": [
        "def dataset(csv_path, classes, dir_path):\n",
        "  df = pd.read_csv(csv_path)\n",
        "\n",
        "  df[\"label\"] = df['filename'].apply(lambda x: x.split(\"/\")[3])\n",
        "  df['class'] = df['label'].apply(lambda x: 0 if x =='benign' else 1)\n",
        "\n",
        "  train_df = df[df['grp'] == 'train']\n",
        "  test_df = df[df['grp'] == 'test']\n",
        "\n",
        "  train_df = train_df.sample(frac = 1).reset_index()\n",
        "  test_df = test_df.sample(frac = 1).reset_index()\n",
        "\n",
        "  train_df['filename'] = train_df['filename'].apply(lambda x: os.path.join(dir_path, x))\n",
        "  test_df['filename'] = train_df['filename'].apply(lambda x: os.path.join(dir_path, x))\n",
        "\n",
        "  return train_df, test_df"
      ],
      "metadata": {
        "id": "23XXWWG1Urd2"
      },
      "execution_count": null,
      "outputs": []
    },
    {
      "cell_type": "code",
      "source": [
        "classes = [\"benign\",\"malign\"]\n",
        "train_df, test_df = dataset(csv_path, classes, dir)"
      ],
      "metadata": {
        "id": "TtUCDDbpWuqM"
      },
      "execution_count": null,
      "outputs": []
    },
    {
      "cell_type": "code",
      "source": [
        "train_df"
      ],
      "metadata": {
        "colab": {
          "base_uri": "https://localhost:8080/",
          "height": 424
        },
        "id": "W2EN2-iKXBnR",
        "outputId": "4c3f909d-b600-43b9-b43e-206a5235f4e8"
      },
      "execution_count": null,
      "outputs": [
        {
          "output_type": "execute_result",
          "data": {
            "text/plain": [
              "       index  fold  mag    grp  \\\n",
              "0      23812     4   40  train   \n",
              "1       9030     2  200  train   \n",
              "2       3531     1  200  train   \n",
              "3      28565     4  200  train   \n",
              "4      18227     3  400  train   \n",
              "...      ...   ...  ...    ...   \n",
              "25875  34066     5  100  train   \n",
              "25876   4898     1   40  train   \n",
              "25877   9577     2   40  train   \n",
              "25878  32955     5  400  train   \n",
              "25879  17927     3   40  train   \n",
              "\n",
              "                                                filename      label  class  \n",
              "0      /content/drive/MyDrive/Genetic_Algorithm_CNN_P...     benign      0  \n",
              "1      /content/drive/MyDrive/Genetic_Algorithm_CNN_P...     benign      0  \n",
              "2      /content/drive/MyDrive/Genetic_Algorithm_CNN_P...  malignant      1  \n",
              "3      /content/drive/MyDrive/Genetic_Algorithm_CNN_P...  malignant      1  \n",
              "4      /content/drive/MyDrive/Genetic_Algorithm_CNN_P...  malignant      1  \n",
              "...                                                  ...        ...    ...  \n",
              "25875  /content/drive/MyDrive/Genetic_Algorithm_CNN_P...  malignant      1  \n",
              "25876  /content/drive/MyDrive/Genetic_Algorithm_CNN_P...  malignant      1  \n",
              "25877  /content/drive/MyDrive/Genetic_Algorithm_CNN_P...     benign      0  \n",
              "25878  /content/drive/MyDrive/Genetic_Algorithm_CNN_P...     benign      0  \n",
              "25879  /content/drive/MyDrive/Genetic_Algorithm_CNN_P...  malignant      1  \n",
              "\n",
              "[25880 rows x 7 columns]"
            ],
            "text/html": [
              "\n",
              "  <div id=\"df-e828693e-c6fb-4a49-9d67-159f2fec4dbd\">\n",
              "    <div class=\"colab-df-container\">\n",
              "      <div>\n",
              "<style scoped>\n",
              "    .dataframe tbody tr th:only-of-type {\n",
              "        vertical-align: middle;\n",
              "    }\n",
              "\n",
              "    .dataframe tbody tr th {\n",
              "        vertical-align: top;\n",
              "    }\n",
              "\n",
              "    .dataframe thead th {\n",
              "        text-align: right;\n",
              "    }\n",
              "</style>\n",
              "<table border=\"1\" class=\"dataframe\">\n",
              "  <thead>\n",
              "    <tr style=\"text-align: right;\">\n",
              "      <th></th>\n",
              "      <th>index</th>\n",
              "      <th>fold</th>\n",
              "      <th>mag</th>\n",
              "      <th>grp</th>\n",
              "      <th>filename</th>\n",
              "      <th>label</th>\n",
              "      <th>class</th>\n",
              "    </tr>\n",
              "  </thead>\n",
              "  <tbody>\n",
              "    <tr>\n",
              "      <th>0</th>\n",
              "      <td>23812</td>\n",
              "      <td>4</td>\n",
              "      <td>40</td>\n",
              "      <td>train</td>\n",
              "      <td>/content/drive/MyDrive/Genetic_Algorithm_CNN_P...</td>\n",
              "      <td>benign</td>\n",
              "      <td>0</td>\n",
              "    </tr>\n",
              "    <tr>\n",
              "      <th>1</th>\n",
              "      <td>9030</td>\n",
              "      <td>2</td>\n",
              "      <td>200</td>\n",
              "      <td>train</td>\n",
              "      <td>/content/drive/MyDrive/Genetic_Algorithm_CNN_P...</td>\n",
              "      <td>benign</td>\n",
              "      <td>0</td>\n",
              "    </tr>\n",
              "    <tr>\n",
              "      <th>2</th>\n",
              "      <td>3531</td>\n",
              "      <td>1</td>\n",
              "      <td>200</td>\n",
              "      <td>train</td>\n",
              "      <td>/content/drive/MyDrive/Genetic_Algorithm_CNN_P...</td>\n",
              "      <td>malignant</td>\n",
              "      <td>1</td>\n",
              "    </tr>\n",
              "    <tr>\n",
              "      <th>3</th>\n",
              "      <td>28565</td>\n",
              "      <td>4</td>\n",
              "      <td>200</td>\n",
              "      <td>train</td>\n",
              "      <td>/content/drive/MyDrive/Genetic_Algorithm_CNN_P...</td>\n",
              "      <td>malignant</td>\n",
              "      <td>1</td>\n",
              "    </tr>\n",
              "    <tr>\n",
              "      <th>4</th>\n",
              "      <td>18227</td>\n",
              "      <td>3</td>\n",
              "      <td>400</td>\n",
              "      <td>train</td>\n",
              "      <td>/content/drive/MyDrive/Genetic_Algorithm_CNN_P...</td>\n",
              "      <td>malignant</td>\n",
              "      <td>1</td>\n",
              "    </tr>\n",
              "    <tr>\n",
              "      <th>...</th>\n",
              "      <td>...</td>\n",
              "      <td>...</td>\n",
              "      <td>...</td>\n",
              "      <td>...</td>\n",
              "      <td>...</td>\n",
              "      <td>...</td>\n",
              "      <td>...</td>\n",
              "    </tr>\n",
              "    <tr>\n",
              "      <th>25875</th>\n",
              "      <td>34066</td>\n",
              "      <td>5</td>\n",
              "      <td>100</td>\n",
              "      <td>train</td>\n",
              "      <td>/content/drive/MyDrive/Genetic_Algorithm_CNN_P...</td>\n",
              "      <td>malignant</td>\n",
              "      <td>1</td>\n",
              "    </tr>\n",
              "    <tr>\n",
              "      <th>25876</th>\n",
              "      <td>4898</td>\n",
              "      <td>1</td>\n",
              "      <td>40</td>\n",
              "      <td>train</td>\n",
              "      <td>/content/drive/MyDrive/Genetic_Algorithm_CNN_P...</td>\n",
              "      <td>malignant</td>\n",
              "      <td>1</td>\n",
              "    </tr>\n",
              "    <tr>\n",
              "      <th>25877</th>\n",
              "      <td>9577</td>\n",
              "      <td>2</td>\n",
              "      <td>40</td>\n",
              "      <td>train</td>\n",
              "      <td>/content/drive/MyDrive/Genetic_Algorithm_CNN_P...</td>\n",
              "      <td>benign</td>\n",
              "      <td>0</td>\n",
              "    </tr>\n",
              "    <tr>\n",
              "      <th>25878</th>\n",
              "      <td>32955</td>\n",
              "      <td>5</td>\n",
              "      <td>400</td>\n",
              "      <td>train</td>\n",
              "      <td>/content/drive/MyDrive/Genetic_Algorithm_CNN_P...</td>\n",
              "      <td>benign</td>\n",
              "      <td>0</td>\n",
              "    </tr>\n",
              "    <tr>\n",
              "      <th>25879</th>\n",
              "      <td>17927</td>\n",
              "      <td>3</td>\n",
              "      <td>40</td>\n",
              "      <td>train</td>\n",
              "      <td>/content/drive/MyDrive/Genetic_Algorithm_CNN_P...</td>\n",
              "      <td>malignant</td>\n",
              "      <td>1</td>\n",
              "    </tr>\n",
              "  </tbody>\n",
              "</table>\n",
              "<p>25880 rows × 7 columns</p>\n",
              "</div>\n",
              "      <button class=\"colab-df-convert\" onclick=\"convertToInteractive('df-e828693e-c6fb-4a49-9d67-159f2fec4dbd')\"\n",
              "              title=\"Convert this dataframe to an interactive table.\"\n",
              "              style=\"display:none;\">\n",
              "        \n",
              "  <svg xmlns=\"http://www.w3.org/2000/svg\" height=\"24px\"viewBox=\"0 0 24 24\"\n",
              "       width=\"24px\">\n",
              "    <path d=\"M0 0h24v24H0V0z\" fill=\"none\"/>\n",
              "    <path d=\"M18.56 5.44l.94 2.06.94-2.06 2.06-.94-2.06-.94-.94-2.06-.94 2.06-2.06.94zm-11 1L8.5 8.5l.94-2.06 2.06-.94-2.06-.94L8.5 2.5l-.94 2.06-2.06.94zm10 10l.94 2.06.94-2.06 2.06-.94-2.06-.94-.94-2.06-.94 2.06-2.06.94z\"/><path d=\"M17.41 7.96l-1.37-1.37c-.4-.4-.92-.59-1.43-.59-.52 0-1.04.2-1.43.59L10.3 9.45l-7.72 7.72c-.78.78-.78 2.05 0 2.83L4 21.41c.39.39.9.59 1.41.59.51 0 1.02-.2 1.41-.59l7.78-7.78 2.81-2.81c.8-.78.8-2.07 0-2.86zM5.41 20L4 18.59l7.72-7.72 1.47 1.35L5.41 20z\"/>\n",
              "  </svg>\n",
              "      </button>\n",
              "      \n",
              "  <style>\n",
              "    .colab-df-container {\n",
              "      display:flex;\n",
              "      flex-wrap:wrap;\n",
              "      gap: 12px;\n",
              "    }\n",
              "\n",
              "    .colab-df-convert {\n",
              "      background-color: #E8F0FE;\n",
              "      border: none;\n",
              "      border-radius: 50%;\n",
              "      cursor: pointer;\n",
              "      display: none;\n",
              "      fill: #1967D2;\n",
              "      height: 32px;\n",
              "      padding: 0 0 0 0;\n",
              "      width: 32px;\n",
              "    }\n",
              "\n",
              "    .colab-df-convert:hover {\n",
              "      background-color: #E2EBFA;\n",
              "      box-shadow: 0px 1px 2px rgba(60, 64, 67, 0.3), 0px 1px 3px 1px rgba(60, 64, 67, 0.15);\n",
              "      fill: #174EA6;\n",
              "    }\n",
              "\n",
              "    [theme=dark] .colab-df-convert {\n",
              "      background-color: #3B4455;\n",
              "      fill: #D2E3FC;\n",
              "    }\n",
              "\n",
              "    [theme=dark] .colab-df-convert:hover {\n",
              "      background-color: #434B5C;\n",
              "      box-shadow: 0px 1px 3px 1px rgba(0, 0, 0, 0.15);\n",
              "      filter: drop-shadow(0px 1px 2px rgba(0, 0, 0, 0.3));\n",
              "      fill: #FFFFFF;\n",
              "    }\n",
              "  </style>\n",
              "\n",
              "      <script>\n",
              "        const buttonEl =\n",
              "          document.querySelector('#df-e828693e-c6fb-4a49-9d67-159f2fec4dbd button.colab-df-convert');\n",
              "        buttonEl.style.display =\n",
              "          google.colab.kernel.accessAllowed ? 'block' : 'none';\n",
              "\n",
              "        async function convertToInteractive(key) {\n",
              "          const element = document.querySelector('#df-e828693e-c6fb-4a49-9d67-159f2fec4dbd');\n",
              "          const dataTable =\n",
              "            await google.colab.kernel.invokeFunction('convertToInteractive',\n",
              "                                                     [key], {});\n",
              "          if (!dataTable) return;\n",
              "\n",
              "          const docLinkHtml = 'Like what you see? Visit the ' +\n",
              "            '<a target=\"_blank\" href=https://colab.research.google.com/notebooks/data_table.ipynb>data table notebook</a>'\n",
              "            + ' to learn more about interactive tables.';\n",
              "          element.innerHTML = '';\n",
              "          dataTable['output_type'] = 'display_data';\n",
              "          await google.colab.output.renderOutput(dataTable, element);\n",
              "          const docLink = document.createElement('div');\n",
              "          docLink.innerHTML = docLinkHtml;\n",
              "          element.appendChild(docLink);\n",
              "        }\n",
              "      </script>\n",
              "    </div>\n",
              "  </div>\n",
              "  "
            ]
          },
          "metadata": {},
          "execution_count": 9
        }
      ]
    },
    {
      "cell_type": "code",
      "source": [
        "class CustomImageGenerator(keras.utils.Sequence):\n",
        "    def __init__(self, image_paths, targets, batch_size, image_size):\n",
        "        self.image_paths = image_paths\n",
        "        self.targets = targets\n",
        "        self.batch_size = batch_size\n",
        "        self.image_size = image_size\n",
        "        self.num_classes = len(np.unique(targets))\n",
        "        self.indexes = np.arange(len(self.image_paths))\n",
        "        self.on_epoch_end()\n",
        "    \n",
        "    def __len__(self):\n",
        "        return int(np.ceil(len(self.image_paths) / float(self.batch_size)))\n",
        "    \n",
        "    def __getitem__(self, index):\n",
        "        batch_indexes = self.indexes[index*self.batch_size:(index+1)*self.batch_size]\n",
        "        batch_image_paths = [self.image_paths[i] for i in batch_indexes]\n",
        "        batch_targets = [self.targets[i] for i in batch_indexes]\n",
        "        batch_images = np.zeros((len(batch_image_paths), *self.image_size, 3))\n",
        "        for i, path in enumerate(batch_image_paths):\n",
        "            img = keras.preprocessing.image.load_img(path, target_size=self.image_size)\n",
        "            img = keras.preprocessing.image.img_to_array(img)\n",
        "            img /= 255.0\n",
        "            batch_images[i] = img\n",
        "        batch_targets = keras.utils.to_categorical(batch_targets, num_classes=self.num_classes)\n",
        "        return batch_images, batch_targets\n",
        "    \n",
        "    def on_epoch_end(self):\n",
        "        np.random.shuffle(self.indexes)\n"
      ],
      "metadata": {
        "id": "OF40v7ZoWp_4"
      },
      "execution_count": null,
      "outputs": []
    },
    {
      "cell_type": "code",
      "source": [
        "traingen = CustomImageGenerator(train_df['filename'].values, train_df['class'].values, batch_size=32, image_size= (256,256))\n",
        "valgen = CustomImageGenerator(test_df['filename'].values, test_df['class'].values, batch_size=32, image_size= (256,256))"
      ],
      "metadata": {
        "id": "1syTFWG1XrgX"
      },
      "execution_count": null,
      "outputs": []
    },
    {
      "cell_type": "code",
      "source": [
        "X, y = next(iter(traingen))"
      ],
      "metadata": {
        "id": "FMrtI6DVX7vg"
      },
      "execution_count": null,
      "outputs": []
    },
    {
      "cell_type": "code",
      "source": [
        "X.shape"
      ],
      "metadata": {
        "colab": {
          "base_uri": "https://localhost:8080/"
        },
        "id": "vSVUpxomYQhJ",
        "outputId": "123d2efa-de1d-4542-c66f-337aebb034d1"
      },
      "execution_count": null,
      "outputs": [
        {
          "output_type": "execute_result",
          "data": {
            "text/plain": [
              "(32, 256, 256, 3)"
            ]
          },
          "metadata": {},
          "execution_count": 13
        }
      ]
    },
    {
      "cell_type": "code",
      "source": [
        "y.shape"
      ],
      "metadata": {
        "colab": {
          "base_uri": "https://localhost:8080/"
        },
        "id": "-6ooTQpFYVoU",
        "outputId": "4e5cc4bd-2297-4de9-9b5d-84704184b60a"
      },
      "execution_count": null,
      "outputs": [
        {
          "output_type": "execute_result",
          "data": {
            "text/plain": [
              "(32, 2)"
            ]
          },
          "metadata": {},
          "execution_count": 14
        }
      ]
    },
    {
      "cell_type": "code",
      "source": [
        "X_val, y_val = next(iter(valgen))"
      ],
      "metadata": {
        "id": "yU9y71OCYRCA"
      },
      "execution_count": null,
      "outputs": []
    },
    {
      "cell_type": "code",
      "source": [
        "X_val.shape"
      ],
      "metadata": {
        "colab": {
          "base_uri": "https://localhost:8080/"
        },
        "id": "WtUO86ZOYbEX",
        "outputId": "4b7bdec5-5f04-460a-b0e2-471168379209"
      },
      "execution_count": null,
      "outputs": [
        {
          "output_type": "execute_result",
          "data": {
            "text/plain": [
              "(32, 256, 256, 3)"
            ]
          },
          "metadata": {},
          "execution_count": 16
        }
      ]
    },
    {
      "cell_type": "code",
      "source": [
        "y_val.shape"
      ],
      "metadata": {
        "colab": {
          "base_uri": "https://localhost:8080/"
        },
        "id": "zh5v8wfLYfkX",
        "outputId": "02912415-11b1-4821-cf41-385c7ece9cc4"
      },
      "execution_count": null,
      "outputs": [
        {
          "output_type": "execute_result",
          "data": {
            "text/plain": [
              "(32, 2)"
            ]
          },
          "metadata": {},
          "execution_count": 17
        }
      ]
    },
    {
      "cell_type": "code",
      "source": [
        "# input_layer = tf.keras.Input(shape=(256,256, 3))\n",
        "\n",
        "# x = Conv2D(64, (2,2), activation='relu')(input_layer)\n",
        "# x = MaxPooling2D((2,2))(x)\n",
        "# x = Conv2D(32, (2,2), activation='relu')(x)\n",
        "# x = MaxPooling2D((2,2))(x)\n",
        "# x = Flatten()(x)\n",
        "# x = Dense(128, activation='relu')(x)\n",
        "# x = Dropout(0.4)(x)\n",
        "\n",
        "# output_layer = Dense(1, activation='sigmoid')(x)\n",
        "\n",
        "# fuc_model = Model(inputs=input_layer, outputs=output_layer)"
      ],
      "metadata": {
        "id": "aM7qVK3RIE17"
      },
      "execution_count": null,
      "outputs": []
    },
    {
      "cell_type": "code",
      "source": [
        "# fuc_model.summary()"
      ],
      "metadata": {
        "id": "ifASwA90J2sc"
      },
      "execution_count": null,
      "outputs": []
    },
    {
      "cell_type": "code",
      "source": [
        "# fuc_model.compile(loss='binary_crossentropy', optimizer = 'adam', metrics = ['accuracy'])"
      ],
      "metadata": {
        "id": "PkOjMA3FJ6fM"
      },
      "execution_count": null,
      "outputs": []
    },
    {
      "cell_type": "code",
      "source": [
        "# fuc_model.fit(traingen,\n",
        "#                   batch_size = 32, \n",
        "#                   epochs=30,\n",
        "#                   validation_data = valgen, verbose=1)"
      ],
      "metadata": {
        "id": "NXwtMLZpKqp5"
      },
      "execution_count": null,
      "outputs": []
    },
    {
      "cell_type": "code",
      "source": [
        "!apt install --allow-change-held-packages libcudnn8=8.4.1.50-1+cuda11.6"
      ],
      "metadata": {
        "colab": {
          "base_uri": "https://localhost:8080/"
        },
        "id": "y8Nlu8p4c6U2",
        "outputId": "2b598063-7916-4448-866c-2d54ed5ea01a"
      },
      "execution_count": null,
      "outputs": [
        {
          "output_type": "stream",
          "name": "stdout",
          "text": [
            "Reading package lists... Done\n",
            "Building dependency tree       \n",
            "Reading state information... Done\n",
            "libcudnn8 is already the newest version (8.4.1.50-1+cuda11.6).\n",
            "0 upgraded, 0 newly installed, 0 to remove and 20 not upgraded.\n"
          ]
        }
      ]
    },
    {
      "cell_type": "code",
      "source": [
        "import random\n",
        "from keras.layers import Conv2D, MaxPooling2D, Flatten, Dense, Dropout\n",
        "from keras.models import Sequential\n",
        "from keras.optimizers import Adam, RMSprop, SGD"
      ],
      "metadata": {
        "id": "VVYCkgtmHea8"
      },
      "execution_count": null,
      "outputs": []
    },
    {
      "cell_type": "code",
      "source": [
        "parameter_values = {\n",
        "    'filters': [32, 64, 128],\n",
        "    'kernel_size': [3, 5, 7],\n",
        "    'dropout': [0, 0.25, 0.5],\n",
        "    'optimizer': [Adam, RMSprop, SGD],\n",
        "    'batch_size': [16, 32, 64],\n",
        "    'epochs': [10, 20, 30],\n",
        "    'activation': ['relu', 'sigmoid', 'tanh']\n",
        "}"
      ],
      "metadata": {
        "id": "O95ptcUXgaMg"
      },
      "execution_count": null,
      "outputs": []
    },
    {
      "cell_type": "code",
      "source": [
        "def fitness_function(parameters):\n",
        "    \n",
        "    model = Sequential()\n",
        "    model.add(Conv2D(parameters['filters'], parameters['kernel_size'], activation=parameters['activation'], input_shape=(256, 256, 3)))\n",
        "    model.add(MaxPooling2D())\n",
        "    model.add(Conv2D(parameters['filters'], parameters['kernel_size'], activation=parameters['activation']))\n",
        "    model.add(MaxPooling2D())\n",
        "    model.add(Flatten())\n",
        "    model.add(Dense(128, activation=parameters['activation']))\n",
        "    model.add(Dropout(parameters['dropout']))\n",
        "    model.add(Dense(1, activation='sigmoid'))\n",
        "    \n",
        "    \n",
        "    optimizer = parameters['optimizer'](lr=0.001)\n",
        "    model.compile(optimizer=optimizer, loss='binary_crossentropy', metrics=['accuracy'])\n",
        "    \n",
        "    \n",
        "    history = model.fit(traingen, epochs=parameters['epochs'], validation_data=valgen)\n",
        "    validation_acc = history.history['val_acc'][-1]\n",
        "    \n",
        "    \n",
        "    return validation_acc\n"
      ],
      "metadata": {
        "id": "ZlmGiFP_a24b"
      },
      "execution_count": null,
      "outputs": []
    },
    {
      "cell_type": "code",
      "source": [
        "def mutation(parameters, mutation_rate):\n",
        "    # Mutate a single hyperparameter with a certain probability\n",
        "    if random.random() < mutation_rate:\n",
        "        param = random.choice(list(parameters.keys()))\n",
        "        if param == 'dropout':\n",
        "            parameters[param] = random.uniform(0, 0.5)\n",
        "        else:\n",
        "            parameters[param] = random.choice(parameter_values[param])\n",
        "    return parameters\n",
        "\n",
        "def crossover(parent1, parent2):\n",
        "    # Perform crossover between two parents to create a new child\n",
        "    child = {}\n",
        "    for param in parent1:\n",
        "        if random.random() < 0.5:\n",
        "            child[param] = parent1[param]\n",
        "        else:\n",
        "            child[param] = parent2[param]\n",
        "    return child\n",
        "\n",
        "def selection(population, num_parents):\n",
        "    # Select the fittest individuals from the population\n",
        "    return sorted(population, key=lambda x: x[1], reverse=True)[:num_parents]\n"
      ],
      "metadata": {
        "id": "EsUOROvtgdWg"
      },
      "execution_count": null,
      "outputs": []
    },
    {
      "cell_type": "code",
      "source": [
        "import csv\n",
        "\n",
        "# Define the main genetic algorithm function\n",
        "def genetic_algorithm(parameter_values, population_size, num_parents, mutation_rate, generations, save_file):\n",
        "    # Initialize the population with random hyperparameters\n",
        "    population = [{'filters': random.choice(parameter_values['filters']),\n",
        "                   'kernel_size': random.choice(parameter_values['kernel_size']),\n",
        "                   'dropout': random.uniform(0, 0.5),\n",
        "                   'optimizer': random.choice(parameter_values['optimizer']),\n",
        "                   'batch_size': random.choice(parameter_values['batch_size']),\n",
        "                   'epochs': random.choice(parameter_values['epochs']),\n",
        "                   'activation': random.choice(parameter_values['activation'])} for i in range(population_size)]\n",
        "    \n",
        "    # Open a CSV file to write the results\n",
        "    with open(save_file, mode='w') as result_file:\n",
        "        fieldnames = ['Generation', 'Epochs', 'Batch Size', 'Optimizer', 'Accuracy']\n",
        "        writer = csv.DictWriter(result_file, fieldnames=fieldnames)\n",
        "        writer.writeheader()\n",
        "\n",
        "        # Iterate over generations\n",
        "        for g in range(generations):\n",
        "            # Evaluate the fitness of each individual in the population\n",
        "            fitness_scores = [(parameters, fitness_function(parameters)) for parameters in population]\n",
        "\n",
        "            # Select the fittest individuals from the population\n",
        "            parents = selection(fitness_scores, num_parents)\n",
        "\n",
        "            # Create the next generation of the population\n",
        "            new_population = parents[:]\n",
        "            while len(new_population) < population_size:\n",
        "                parent1, parent2 = random.sample(parents, 2)\n",
        "                child = crossover(parent1[0], parent2[0])\n",
        "                child = mutation(child, mutation_rate)\n",
        "                new_population.append(child)\n",
        "\n",
        "            # Replace the old population with the new one\n",
        "            population = new_population[:]\n",
        "\n",
        "            # Print the best fitness score for this generation\n",
        "            best_fitness = max(fitness_scores, key=lambda x: x[1])[1]\n",
        "            print(f\"Generation {g}: Best validation accuracy = {best_fitness}\")\n",
        "            \n",
        "            # Save the best hyperparameters and their corresponding validation accuracy to the file\n",
        "            best_parameters = max(fitness_scores, key=lambda x: x[1])[0]\n",
        "            writer.writerow({'Generation': g, 'Epochs': best_parameters['epochs'], 'Batch Size': best_parameters['batch_size'], 'Optimizer': best_parameters['optimizer'], 'Accuracy': best_fitness})\n",
        "        \n",
        "    # Return the best individual from the final population\n",
        "    best_parameters = max(fitness_scores, key=lambda x: x[1])[0]\n",
        "    return best_parameters\n"
      ],
      "metadata": {
        "id": "p7rqFuXOiN26"
      },
      "execution_count": null,
      "outputs": []
    },
    {
      "cell_type": "code",
      "source": [
        "best_parameters = genetic_algorithm(parameter_values, population_size=10, num_parents=4, mutation_rate=0.1, generations=5, save_file='results.csv')"
      ],
      "metadata": {
        "colab": {
          "base_uri": "https://localhost:8080/"
        },
        "id": "LkqQYQ2fj54k",
        "outputId": "608a82e6-2b0b-420b-c957-3bbdd5600034"
      },
      "execution_count": null,
      "outputs": [
        {
          "output_type": "stream",
          "name": "stderr",
          "text": [
            "/usr/local/lib/python3.9/dist-packages/keras/optimizers/optimizer_v2/gradient_descent.py:114: UserWarning: The `lr` argument is deprecated, use `learning_rate` instead.\n",
            "  super().__init__(name, **kwargs)\n"
          ]
        },
        {
          "output_type": "stream",
          "name": "stdout",
          "text": [
            "Epoch 1/30\n",
            "  9/809 [..............................] - ETA: 3:58:34 - loss: 0.7070 - accuracy: 0.5000"
          ]
        },
        {
          "output_type": "stream",
          "name": "stderr",
          "text": [
            "ERROR:root:Internal Python error in the inspect module.\n",
            "Below is the traceback from this internal error.\n",
            "\n"
          ]
        },
        {
          "output_type": "stream",
          "name": "stdout",
          "text": [
            "Traceback (most recent call last):\n",
            "  File \"/usr/local/lib/python3.9/dist-packages/IPython/core/interactiveshell.py\", line 3326, in run_code\n",
            "    exec(code_obj, self.user_global_ns, self.user_ns)\n",
            "  File \"<ipython-input-22-f852ea70d016>\", line 1, in <module>\n",
            "    best_parameters = genetic_algorithm(parameter_values, population_size=10, num_parents=4, mutation_rate=0.1, generations=5, save_file='results.csv')\n",
            "  File \"<ipython-input-21-83619c941356>\", line 23, in genetic_algorithm\n",
            "    fitness_scores = [(parameters, fitness_function(parameters)) for parameters in population]\n",
            "  File \"<ipython-input-21-83619c941356>\", line 23, in <listcomp>\n",
            "    fitness_scores = [(parameters, fitness_function(parameters)) for parameters in population]\n",
            "  File \"<ipython-input-19-9fb20affd8d7>\", line 18, in fitness_function\n",
            "    history = model.fit(traingen, epochs=parameters['epochs'], validation_data=valgen)\n",
            "  File \"/usr/local/lib/python3.9/dist-packages/keras/utils/traceback_utils.py\", line 65, in error_handler\n",
            "    return fn(*args, **kwargs)\n",
            "  File \"/usr/local/lib/python3.9/dist-packages/keras/engine/training.py\", line 1650, in fit\n",
            "    tmp_logs = self.train_function(iterator)\n",
            "  File \"/usr/local/lib/python3.9/dist-packages/tensorflow/python/util/traceback_utils.py\", line 150, in error_handler\n",
            "    return fn(*args, **kwargs)\n",
            "  File \"/usr/local/lib/python3.9/dist-packages/tensorflow/python/eager/polymorphic_function/polymorphic_function.py\", line 880, in __call__\n",
            "    result = self._call(*args, **kwds)\n",
            "  File \"/usr/local/lib/python3.9/dist-packages/tensorflow/python/eager/polymorphic_function/polymorphic_function.py\", line 912, in _call\n",
            "    return self._no_variable_creation_fn(*args, **kwds)  # pylint: disable=not-callable\n",
            "  File \"/usr/local/lib/python3.9/dist-packages/tensorflow/python/eager/polymorphic_function/tracing_compiler.py\", line 134, in __call__\n",
            "    return concrete_function._call_flat(\n",
            "  File \"/usr/local/lib/python3.9/dist-packages/tensorflow/python/eager/polymorphic_function/monomorphic_function.py\", line 1745, in _call_flat\n",
            "    return self._build_call_outputs(self._inference_function.call(\n",
            "  File \"/usr/local/lib/python3.9/dist-packages/tensorflow/python/eager/polymorphic_function/monomorphic_function.py\", line 378, in call\n",
            "    outputs = execute.execute(\n",
            "  File \"/usr/local/lib/python3.9/dist-packages/tensorflow/python/eager/execute.py\", line 52, in quick_execute\n",
            "    tensors = pywrap_tfe.TFE_Py_Execute(ctx._handle, device_name, op_name,\n",
            "KeyboardInterrupt\n",
            "\n",
            "During handling of the above exception, another exception occurred:\n",
            "\n",
            "Traceback (most recent call last):\n",
            "  File \"/usr/local/lib/python3.9/dist-packages/IPython/core/interactiveshell.py\", line 2040, in showtraceback\n",
            "    stb = value._render_traceback_()\n",
            "AttributeError: 'KeyboardInterrupt' object has no attribute '_render_traceback_'\n",
            "\n",
            "During handling of the above exception, another exception occurred:\n",
            "\n",
            "Traceback (most recent call last):\n",
            "  File \"/usr/local/lib/python3.9/dist-packages/IPython/core/ultratb.py\", line 1101, in get_records\n",
            "    return _fixed_getinnerframes(etb, number_of_lines_of_context, tb_offset)\n",
            "  File \"/usr/local/lib/python3.9/dist-packages/IPython/core/ultratb.py\", line 319, in wrapped\n",
            "    return f(*args, **kwargs)\n",
            "  File \"/usr/local/lib/python3.9/dist-packages/IPython/core/ultratb.py\", line 353, in _fixed_getinnerframes\n",
            "    records = fix_frame_records_filenames(inspect.getinnerframes(etb, context))\n",
            "  File \"/usr/lib/python3.9/inspect.py\", line 1543, in getinnerframes\n",
            "    frameinfo = (tb.tb_frame,) + getframeinfo(tb, context)\n",
            "  File \"/usr/lib/python3.9/inspect.py\", line 1501, in getframeinfo\n",
            "    filename = getsourcefile(frame) or getfile(frame)\n",
            "  File \"/usr/lib/python3.9/inspect.py\", line 709, in getsourcefile\n",
            "    if getattr(getmodule(object, filename), '__loader__', None) is not None:\n",
            "  File \"/usr/lib/python3.9/inspect.py\", line 755, in getmodule\n",
            "    os.path.realpath(f)] = module.__name__\n",
            "  File \"/usr/lib/python3.9/posixpath.py\", line 392, in realpath\n",
            "    path, ok = _joinrealpath(filename[:0], filename, {})\n",
            "  File \"/usr/lib/python3.9/posixpath.py\", line 426, in _joinrealpath\n",
            "    if not islink(newpath):\n",
            "  File \"/usr/lib/python3.9/posixpath.py\", line 167, in islink\n",
            "    st = os.lstat(path)\n",
            "KeyboardInterrupt\n"
          ]
        },
        {
          "output_type": "error",
          "ename": "KeyboardInterrupt",
          "evalue": "ignored",
          "traceback": [
            "\u001b[0;31m---------------------------------------------------------------------------\u001b[0m"
          ]
        }
      ]
    },
    {
      "cell_type": "code",
      "execution_count": null,
      "metadata": {
        "id": "A1IwN2uHiSaS"
      },
      "outputs": [],
      "source": [
        "# images[0]"
      ]
    },
    {
      "cell_type": "code",
      "execution_count": null,
      "metadata": {
        "id": "6e_02oBFjvyN"
      },
      "outputs": [],
      "source": []
    }
  ],
  "metadata": {
    "colab": {
      "provenance": []
    },
    "kernelspec": {
      "display_name": "Python 3",
      "name": "python3"
    },
    "language_info": {
      "name": "python"
    },
    "accelerator": "GPU",
    "gpuClass": "standard"
  },
  "nbformat": 4,
  "nbformat_minor": 0
}